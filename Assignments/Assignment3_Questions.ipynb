{
 "cells": [
  {
   "cell_type": "markdown",
   "metadata": {},
   "source": [
    "# <center> <h1>Assignment 3</h1> </center>\n",
    "<center> <h1>EIN 4933/6935 Python for Data Science Summer 2020</h1> </center>"
   ]
  },
  {
   "cell_type": "markdown",
   "metadata": {},
   "source": [
    "## Part 1\n",
    "The following code loads a popular dataset so-called titanic.csv from an online repository into a dataframe named \"titanic\". As you may guess, this is a real data set that stores some important information about the passengers of Titanic. \n",
    "\n",
    "The columns are organized as \"PassengerId\", \"Survived\", \"Pclass\", \"Name\", \"Sex\", \"Age\", \"SibSp\", \"Parch\", \"Ticket\", \"Fare\", \"Cabin\", \"Embarked\". The column named \"Survived\" shows whether a passenger survided (with 1) or not (with 0) from this tragic accident. Use this dataset to answer the questions below. You can create as many cells as you desire for all solutions.<br/>\n"
   ]
  },
  {
   "cell_type": "code",
   "execution_count": 3,
   "metadata": {
    "scrolled": true
   },
   "outputs": [
    {
     "data": {
      "text/html": [
       "<div>\n",
       "<style scoped>\n",
       "    .dataframe tbody tr th:only-of-type {\n",
       "        vertical-align: middle;\n",
       "    }\n",
       "\n",
       "    .dataframe tbody tr th {\n",
       "        vertical-align: top;\n",
       "    }\n",
       "\n",
       "    .dataframe thead th {\n",
       "        text-align: right;\n",
       "    }\n",
       "</style>\n",
       "<table border=\"1\" class=\"dataframe\">\n",
       "  <thead>\n",
       "    <tr style=\"text-align: right;\">\n",
       "      <th></th>\n",
       "      <th>PassengerId</th>\n",
       "      <th>Survived</th>\n",
       "      <th>Pclass</th>\n",
       "      <th>Name</th>\n",
       "      <th>Sex</th>\n",
       "      <th>Age</th>\n",
       "      <th>SibSp</th>\n",
       "      <th>Parch</th>\n",
       "      <th>Ticket</th>\n",
       "      <th>Fare</th>\n",
       "      <th>Cabin</th>\n",
       "      <th>Embarked</th>\n",
       "    </tr>\n",
       "  </thead>\n",
       "  <tbody>\n",
       "    <tr>\n",
       "      <th>0</th>\n",
       "      <td>1</td>\n",
       "      <td>0</td>\n",
       "      <td>3</td>\n",
       "      <td>Braund, Mr. Owen Harris</td>\n",
       "      <td>male</td>\n",
       "      <td>22.0</td>\n",
       "      <td>1</td>\n",
       "      <td>0</td>\n",
       "      <td>A/5 21171</td>\n",
       "      <td>7.2500</td>\n",
       "      <td>NaN</td>\n",
       "      <td>S</td>\n",
       "    </tr>\n",
       "    <tr>\n",
       "      <th>1</th>\n",
       "      <td>2</td>\n",
       "      <td>1</td>\n",
       "      <td>1</td>\n",
       "      <td>Cumings, Mrs. John Bradley (Florence Briggs Th...</td>\n",
       "      <td>female</td>\n",
       "      <td>38.0</td>\n",
       "      <td>1</td>\n",
       "      <td>0</td>\n",
       "      <td>PC 17599</td>\n",
       "      <td>71.2833</td>\n",
       "      <td>C85</td>\n",
       "      <td>C</td>\n",
       "    </tr>\n",
       "    <tr>\n",
       "      <th>2</th>\n",
       "      <td>3</td>\n",
       "      <td>1</td>\n",
       "      <td>3</td>\n",
       "      <td>Heikkinen, Miss. Laina</td>\n",
       "      <td>female</td>\n",
       "      <td>26.0</td>\n",
       "      <td>0</td>\n",
       "      <td>0</td>\n",
       "      <td>STON/O2. 3101282</td>\n",
       "      <td>7.9250</td>\n",
       "      <td>NaN</td>\n",
       "      <td>S</td>\n",
       "    </tr>\n",
       "    <tr>\n",
       "      <th>3</th>\n",
       "      <td>4</td>\n",
       "      <td>1</td>\n",
       "      <td>1</td>\n",
       "      <td>Futrelle, Mrs. Jacques Heath (Lily May Peel)</td>\n",
       "      <td>female</td>\n",
       "      <td>35.0</td>\n",
       "      <td>1</td>\n",
       "      <td>0</td>\n",
       "      <td>113803</td>\n",
       "      <td>53.1000</td>\n",
       "      <td>C123</td>\n",
       "      <td>S</td>\n",
       "    </tr>\n",
       "    <tr>\n",
       "      <th>4</th>\n",
       "      <td>5</td>\n",
       "      <td>0</td>\n",
       "      <td>3</td>\n",
       "      <td>Allen, Mr. William Henry</td>\n",
       "      <td>male</td>\n",
       "      <td>35.0</td>\n",
       "      <td>0</td>\n",
       "      <td>0</td>\n",
       "      <td>373450</td>\n",
       "      <td>8.0500</td>\n",
       "      <td>NaN</td>\n",
       "      <td>S</td>\n",
       "    </tr>\n",
       "  </tbody>\n",
       "</table>\n",
       "</div>"
      ],
      "text/plain": [
       "   PassengerId  Survived  Pclass  \\\n",
       "0            1         0       3   \n",
       "1            2         1       1   \n",
       "2            3         1       3   \n",
       "3            4         1       1   \n",
       "4            5         0       3   \n",
       "\n",
       "                                                Name     Sex   Age  SibSp  \\\n",
       "0                            Braund, Mr. Owen Harris    male  22.0      1   \n",
       "1  Cumings, Mrs. John Bradley (Florence Briggs Th...  female  38.0      1   \n",
       "2                             Heikkinen, Miss. Laina  female  26.0      0   \n",
       "3       Futrelle, Mrs. Jacques Heath (Lily May Peel)  female  35.0      1   \n",
       "4                           Allen, Mr. William Henry    male  35.0      0   \n",
       "\n",
       "   Parch            Ticket     Fare Cabin Embarked  \n",
       "0      0         A/5 21171   7.2500   NaN        S  \n",
       "1      0          PC 17599  71.2833   C85        C  \n",
       "2      0  STON/O2. 3101282   7.9250   NaN        S  \n",
       "3      0            113803  53.1000  C123        S  \n",
       "4      0            373450   8.0500   NaN        S  "
      ]
     },
     "execution_count": 3,
     "metadata": {},
     "output_type": "execute_result"
    }
   ],
   "source": [
    "import pandas as pd\n",
    "# titanic = pd.read_csv(\"https://web.stanford.edu/class/archive/cs/cs109/cs109.1166/stuff/titanic.csv\")\n",
    "titanic = pd.read_csv(\"https://sites.google.com/site/yasinunlu/home/research/new1/Titanic_train.csv\")\n",
    "titanic.head()"
   ]
  },
  {
   "cell_type": "markdown",
   "metadata": {},
   "source": [
    "### Question 1:\n",
    "Write a class named \"My_data_class\" that has the following attributes and methods:<br/>\n",
    "1) Three attributes for data sets. The constructor of the class should have 3 data set names defined: \"train\", \"test\" and \"data\". For all these attributes, assign a simple Pandas dataframe with some values.<br/>\n",
    "2) Setter methods for train, test and data.<br/>\n",
    "3) Getter methods for train, test and data.<br/>\n",
    "4) Getter methods for each data name should check whether the underling data type is a Pandas dataframe or not. These methods should only accept Pandas dataframes. You can use the function `isinstance(my_data, pd.DataFrame)` within those getter methods to check whether my_data is of Pandas dataframe type.<br/> \n",
    "5) A method that cuts the given \"data\" into two random parts row-wise. 80% of \"data\" should be assigned to \"train\" and 20% of data should be assigned to \"test\". Each train and test should be in dataframe type.<br/>\n",
    "6) A method that prints \"This is a data object.\" when printing an instance of this class (i.e. an object). Hint: You should use \\__str__ function.<br/>  "
   ]
  },
  {
   "cell_type": "code",
   "execution_count": 4,
   "metadata": {},
   "outputs": [],
   "source": [
    "#Fill in this class\n",
    "import pandas as pd\n",
    "class My_data_class:\n",
    "    def __init__(self):\n",
    "        self.train = pd.DataFrame([1]) #default data type\n",
    "        self.test = pd.DataFrame([1]) #default data type\n",
    "        self.data = pd.DataFrame([1]) #default data type\n",
    "    \n",
    "    def create_test_train(): #create a method to find test and train data\n",
    "        self.test = None\n",
    "        self.train = None\n",
    "        \n",
    "    @property #how we define a getter. Always define a getter before a setter function.\n",
    "    def data(self): #a getter function, which is a method in this class. \n",
    "        return self.__data\n",
    "    \n",
    "    @data.setter #how we define a setter\n",
    "    def data(self, my_data): #a setter function, which is a method in this class.\n",
    "        self.__data = my_data #no \"return\" is necessary"
   ]
  },
  {
   "cell_type": "markdown",
   "metadata": {},
   "source": [
    "## Question 2:\n",
    "Create an object named \"my_data_object\" as an instance of the class defined in Question 1.<br/>\n",
    "1) Attach the dataframe \"titanic\" as data attribute to this object.<br/>\n",
    "2) Report the first 5 rows and the number of rows of \"data\"."
   ]
  },
  {
   "cell_type": "code",
   "execution_count": null,
   "metadata": {},
   "outputs": [],
   "source": [
    "my_data_object = My_data_class() #create your object first\n",
    "my_data_object.data = titanic #attach the data\n",
    "my_data_object.data.head() #report"
   ]
  },
  {
   "cell_type": "markdown",
   "metadata": {},
   "source": [
    "## Question 3:\n",
    "Modify `data_preprocessing` function so that it receives an object as args. Perform the same data manipulation operations that we did in this function in Assignment-2 for \"data\". This function should attach the data manipulated results back to my_data_object. "
   ]
  },
  {
   "cell_type": "code",
   "execution_count": null,
   "metadata": {},
   "outputs": [],
   "source": [
    "#Work on your solution here and after. \n",
    "#1) Write your function here\n",
    "def data_preprocessing (obj): \n",
    "    #body of the function\n",
    "    return obj #return your object\n",
    "\n",
    "#2) Call your function here\n",
    "my_data_object = data_preprocessing(my_data_object)\n",
    "my_data_object.data.head() #report the head of train dataframe"
   ]
  },
  {
   "cell_type": "markdown",
   "metadata": {},
   "source": [
    "## Question 4:\n",
    "Modify `feature_extraction` function so that it receives an object as args. Perform the same data manipulation operations that we did in this function function in Assignment-2 for \"data\". This function should attach the data manipulated results back to my_data_object. "
   ]
  },
  {
   "cell_type": "code",
   "execution_count": null,
   "metadata": {},
   "outputs": [],
   "source": [
    "#Work on your solution here and after. \n",
    "#1) Write your function here\n",
    "def feature_extraction (obj): \n",
    "    #body of the function\n",
    "    return obj #return your object\n",
    "\n",
    "#2) Call your function here\n",
    "my_data_object = feature_extraction(my_data_object)\n",
    "my_data_object.data.head() #report the head of train dataframe"
   ]
  },
  {
   "cell_type": "markdown",
   "metadata": {},
   "source": [
    "## Question 5:\n",
    "Call create_test_train() function attached to the my_data_object. Report the following:<br/>\n",
    "a) First 5 rows and the number of rows of \"data\".<br/>\n",
    "b) First 5 rows and the number of rows of \"train\".<br/>\n",
    "c) First 5 rows and the number of rows of \"test\".<br/>"
   ]
  },
  {
   "cell_type": "code",
   "execution_count": null,
   "metadata": {},
   "outputs": [],
   "source": [
    "my_data_object_create_test_train()\n",
    "my_data_object.train.head() #report the head of train dataframe\n",
    "my_data_object.test.head() #report the head of test dataframe"
   ]
  }
 ],
 "metadata": {
  "kernelspec": {
   "display_name": "Python 3",
   "language": "python",
   "name": "python3"
  },
  "language_info": {
   "codemirror_mode": {
    "name": "ipython",
    "version": 3
   },
   "file_extension": ".py",
   "mimetype": "text/x-python",
   "name": "python",
   "nbconvert_exporter": "python",
   "pygments_lexer": "ipython3",
   "version": "3.7.7"
  }
 },
 "nbformat": 4,
 "nbformat_minor": 4
}
