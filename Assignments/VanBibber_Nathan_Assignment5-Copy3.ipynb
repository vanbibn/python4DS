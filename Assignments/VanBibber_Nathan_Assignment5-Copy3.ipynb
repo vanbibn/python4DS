{
 "cells": [
  {
   "cell_type": "markdown",
   "metadata": {},
   "source": [
    "# <center> <h1>Assignment 5</h1> </center>\n",
    "<center> <h1>EIN 4933/6935 Python for Data Science Summer 2020</h1> </center>"
   ]
  },
  {
   "cell_type": "markdown",
   "metadata": {},
   "source": [
    "Click the link below and download the file named \"auto_mpg_modified.csv\".<br/>\n",
    "Link: https://sites.google.com/site/yasinunlu/home/research/new1/auto_mpg_modified.csv<br/>\n",
    "You can find more info about the data set <a href=\"https://sites.google.com/site/yasinunlu/home/research/new1/auto_mpg_info.txt\">here</a>. "
   ]
  },
  {
   "cell_type": "markdown",
   "metadata": {},
   "source": [
    "### Questions:\n",
    "1) Read the file and create a dataframe and name it \"df\".<br/>\n",
    "2) Perform the following data preprocessing:<br/>\n",
    "a) Remove uncessary column(s) that cannot be used for training any models. Remove from df. Explain why you choose those column(s).<br/>\n",
    "b) Determine any missing data point in df. Replace those missing data points with an imputated value. <br/>\n",
    "c) Make sure columns labaled as \"multi-valued discrete\" are of integer type while \"continuous\" ones are of float type. You can read the column labels in this <a href=\"https://sites.google.com/site/yasinunlu/home/research/new1/auto_mpg_info.txt\">file</a>. The final dataframe should be named \"df_clean\".<br/>\n",
    "3) Prepare the following dataframes.<br/> \n",
    "a) Create a dataframe called \"response\" including only the column \"mpg\".<br/>\n",
    "b) Create a dataframe called \"features\" with the remaining columns.<br/>\n",
    "c) Prepare a dataframe named \"features_train\": random 80% rows of the dataframe \"features\"<br/>\n",
    "d) Prepare a dataframe named \"features_test\": random 20% rows of the dataframe \"features\"<br/>\n",
    "e) Prepare a dataframe named \"response_train\": random 80% rows of the dataframe \"response\"<br/>\n",
    "f) Prepare a dataframe named \"response_test\": random 20% rows of the dataframe \"response\"<br/>\n",
    "4) Create a multiple linear regressoin model from scikit learn package. Train your model using the train data that you created above. <br/>\n",
    "5) Produce predictions over the test data.<br/>\n",
    "6) Evaluate the model performance over the test data by tabulating metrics of Mean Absolute Error, Mean Squared Error and Root Mean Squared Error.<br/>\n",
    "7) Normalize the data stored in df_clean. <br/>\n",
    "8) Fit a multiple linear regression model using the normalized data.<br/>\n",
    "9) Extract Feature Importance. That is, repor the coefficients (i.e. estimated parameters) of the fit model.<br/>\n",
    "10) Summarize results with a bar chart.<br/>"
   ]
  },
  {
   "cell_type": "code",
   "execution_count": 1,
   "metadata": {},
   "outputs": [
    {
     "data": {
      "text/plain": [
       "mpg             False\n",
       "cylinders       False\n",
       "displacement    False\n",
       "horsepower      False\n",
       "weight          False\n",
       "acceleration    False\n",
       "year            False\n",
       "origin          False\n",
       "name            False\n",
       "dtype: bool"
      ]
     },
     "execution_count": 1,
     "metadata": {},
     "output_type": "execute_result"
    }
   ],
   "source": [
    "import pandas as pd\n",
    "\n",
    "# 1) Read the file and create a dataframe and name it \"df\".\n",
    "\n",
    "df = pd.read_csv(\"auto_mpg_modified.csv\")\n",
    "# df\n",
    "\n",
    "# 2) Perform the following data preprocessing: \n",
    "\n",
    "# The final dataframe should be named \"df_clean\".\n",
    "df_clean = df.copy()\n",
    "\n",
    "# b) Determine any missing data point in df. Replace those missing data points with an imputated value.\n",
    "# df_clean.isna().any()\n",
    "\n",
    "cyl_na_idx = df_clean[df_clean.cylinders.isna()].index  # create index to verify later\n",
    "hp_na_idx = df_clean[df_clean.horsepower.isna()].index  # create index to verify later\n",
    "origin_na_idx = df_clean[df_clean.origin.isna()].index  # create index to verify later\n",
    "\n",
    "# 1) Read the file and create a dataframe and name it \"df\".\n",
    "\n",
    "df = pd.read_csv(\"auto_mpg_modified.csv\")\n",
    "# df\n",
    "\n",
    "# 2) Perform the following data preprocessing: \n",
    "\n",
    "# The final dataframe should be named \"df_clean\".\n",
    "df_clean = df.copy()\n",
    "\n",
    "# b) Determine any missing data point in df. Replace those missing data points with an imputated value.\n",
    "# df_clean.isna().any()\n",
    "\n",
    "cyl_na_idx = df_clean[df_clean.cylinders.isna()].index  # create index to verify later\n",
    "hp_na_idx = df_clean[df_clean.horsepower.isna()].index  # create index to verify later\n",
    "origin_na_idx = df_clean[df_clean.origin.isna()].index  # create index to verify later\n",
    "\n",
    "# ***\n",
    "\n",
    "## Impute cylinders by displacement\n",
    "# Since none of the missing valuse have displacements within the overlapping ranges between cylinders, I will impute cylinders based on the standard ranges for displacement. There are no missing values in the 4 cylinder range so I don't have to worry about those.\n",
    "\n",
    "# print(\"4 cyl max:\", df_clean.loc[df_clean['cylinders']==4.0, 'displacement'].max(),\"\\n\")\n",
    "# print(\"6 cyl min:\", df_clean.loc[df_clean['cylinders']==6.0, 'displacement'].min())\n",
    "# print(\"6 cyl max:\", df_clean.loc[df_clean['cylinders']==6.0, 'displacement'].max(), \"\\n\")\n",
    "# print(\"8 cyl min:\", df_clean.loc[df_clean['cylinders']==8.0, 'displacement'].min())\n",
    "\n",
    "# df_clean.loc[cyl_na_idx, ['cylinders', \"displacement\"]]\n",
    "\n",
    "# set NaN values for displacement greater than 262 for 8 cylinders\n",
    "df_clean.loc[(df_clean['displacement']>262) & (df_clean['cylinders'].isna()), 'cylinders'] = 8.0\n",
    "\n",
    "# set NaN values for displacement less than 262 for 6 cylinders\n",
    "df_clean.loc[(df_clean['displacement']<262) & (df_clean['cylinders'].isna()), 'cylinders'] = 6.0\n",
    "\n",
    "# df_clean.loc[cyl_na_idx,['cylinders', \"displacement\"]]\n",
    "\n",
    "# print(\"4 cyl max:\", df_clean.loc[df_clean['cylinders']==4.0, 'displacement'].max(),\"\\n\")\n",
    "# print(\"6 cyl min:\", df_clean.loc[df_clean['cylinders']==6.0, 'displacement'].min())\n",
    "# print(\"6 cyl max:\", df_clean.loc[df_clean['cylinders']==6.0, 'displacement'].max(), \"\\n\")\n",
    "# print(\"8 cyl min:\", df_clean.loc[df_clean['cylinders']==8.0, 'displacement'].min())\n",
    "\n",
    "# df_clean.loc[cyl_na_idx, ['cylinders', \"displacement\"]]\n",
    "\n",
    "# set NaN values for displacement greater than 262 for 8 cylinders\n",
    "df_clean.loc[(df_clean['displacement']>262) & (df_clean['cylinders'].isna()), 'cylinders'] = 8.0\n",
    "\n",
    "# set NaN values for displacement less than 262 for 6 cylinders\n",
    "df_clean.loc[(df_clean['displacement']<262) & (df_clean['cylinders'].isna()), 'cylinders'] = 6.0\n",
    "\n",
    "# df_clean.loc[cyl_na_idx,['cylinders', \"displacement\"]]\n",
    "\n",
    "# ***\n",
    "\n",
    "## Impute horsepower by cylinders\n",
    "# Since horsepower probably depends on the number of cylinders in the engine and the displacement, we should **not** impute horsepower with just the mean of the *entire column*. \n",
    "# For simplicity I will replace the horsepower for 6 cylinder engines with the average horsepower for that group and then do the same for 4 cylinder engines.\n",
    "\n",
    "# calculate the mean values\n",
    "mean_4cyl = round(df_clean.loc[df_clean['cylinders']==4.0, 'horsepower'].mean())\n",
    "mean_6cyl = round(df_clean.loc[df_clean['cylinders']==6.0, 'horsepower'].mean())\n",
    "\n",
    "# set NaN values for horsepower of 6 cylinder engines to the mean hp for 6 cylinders\n",
    "df_clean.loc[(df_clean['cylinders']==6.0) & (df_clean['horsepower'].isna()), 'horsepower'] = mean_6cyl\n",
    "\n",
    "# set NaN values for horsepower of 4 cylinder engines to the mean hp for 4 cylinders\n",
    "df_clean.loc[(df_clean['cylinders']==4.0) & (df_clean['horsepower'].isna()), 'horsepower'] = mean_4cyl\n",
    "\n",
    "# df_clean.loc[hp_na_idx, ['cylinders', 'horsepower']]\n",
    "\n",
    "# ***\n",
    "\n",
    "## Impute Origin by origin of other vehicles with the same make\n",
    "# Since, in this data set, all other vehicles by the same *make* (i.e \"dodge\") are from the same origin, I will replace `NaN` values in 'origin' column with the mean value from other cars of the same make (since all othe origins for a make are all the same, taking the mean will give me that value).\n",
    "\n",
    "vehicle_makes = [\"chevrolet\",\"volkswagen\",\"dodge\",\"renault\",\"peugeot\",\"chrysler\"]\n",
    "\n",
    "for make in vehicle_makes:\n",
    "    mean = df_clean.loc[df_clean['name'].str.contains(make), 'origin'].mean()   # find the mean\n",
    "    # replace origin NaN for that make with its mean \n",
    "    df_clean.loc[(df_clean['name'].str.contains(make)) & (df_clean['origin'].isna()), 'origin'] = mean  \n",
    "\n",
    "# df_clean.loc[origin_na_idx, ['origin', 'name']]\n",
    "\n",
    "# calculate the mean values\n",
    "mean_4cyl = round(df_clean.loc[df_clean['cylinders']==4.0, 'horsepower'].mean())\n",
    "mean_6cyl = round(df_clean.loc[df_clean['cylinders']==6.0, 'horsepower'].mean())\n",
    "\n",
    "# set NaN values for horsepower of 6 cylinder engines to the mean hp for 6 cylinders\n",
    "df_clean.loc[(df_clean['cylinders']==6.0) & (df_clean['horsepower'].isna()), 'horsepower'] = mean_6cyl\n",
    "\n",
    "# set NaN values for horsepower of 4 cylinder engines to the mean hp for 4 cylinders\n",
    "df_clean.loc[(df_clean['cylinders']==4.0) & (df_clean['horsepower'].isna()), 'horsepower'] = mean_4cyl\n",
    "\n",
    "# df_clean.loc[hp_na_idx, ['cylinders', 'horsepower']]\n",
    "\n",
    "# ***\n",
    "\n",
    "\n",
    "## Impute Origin by origin of other vehicles with the same make\n",
    "# Since, in this data set, all other vehicles by the same *make* (i.e \"dodge\") are from the same origin, I will replace `NaN` values in 'origin' column with the mean value from other cars of the same make (since all othe origins for a make are all the same, taking the mean will give me that value).\n",
    "\n",
    "vehicle_makes = [\"chevrolet\",\"volkswagen\",\"dodge\",\"renault\",\"peugeot\",\"chrysler\"]\n",
    "\n",
    "for make in vehicle_makes:\n",
    "    mean = df_clean.loc[df_clean['name'].str.contains(make), 'origin'].mean()   # find the mean\n",
    "    # replace origin NaN for that make with its mean \n",
    "    df_clean.loc[(df_clean['name'].str.contains(make)) & (df_clean['origin'].isna()), 'origin'] = mean  \n",
    "\n",
    "# df_clean.loc[origin_na_idx, ['origin', 'name']]\n",
    "\n",
    "# make sure no more missing values in df\n",
    "df_clean.isna().any()  "
   ]
  },
  {
   "cell_type": "code",
   "execution_count": 8,
   "metadata": {},
   "outputs": [
    {
     "data": {
      "text/plain": [
       "['chevrolet', 'chevelle', 'malibu']"
      ]
     },
     "execution_count": 8,
     "metadata": {},
     "output_type": "execute_result"
    }
   ],
   "source": [
    "names[0].split()"
   ]
  },
  {
   "cell_type": "code",
   "execution_count": 12,
   "metadata": {},
   "outputs": [
    {
     "data": {
      "text/plain": [
       "array(['chevrolet', 'buick', 'plymouth', 'amc', 'ford', 'pontiac',\n",
       "       'dodge', 'toyota', 'datsun', 'volkswagen', 'peugeot', 'audi',\n",
       "       'saab', 'bmw', 'chevy', 'hi', 'mercury', 'opel', 'fiat',\n",
       "       'oldsmobile', 'chrysler', 'mazda', 'volvo', 'renault', 'toyouta',\n",
       "       'maxda', 'honda', 'subaru', 'chevroelt', 'capri', 'vw',\n",
       "       'mercedes-benz', 'cadillac', 'mercedes', 'vokswagen', 'triumph',\n",
       "       'nissan'], dtype=object)"
      ]
     },
     "execution_count": 12,
     "metadata": {},
     "output_type": "execute_result"
    }
   ],
   "source": [
    "names = list(df_clean.name)\n",
    "makes = [n.split()[0] for n in names]\n",
    "makes_ps = pd.Series(makes)\n",
    "makes_ps.unique()"
   ]
  },
  {
   "cell_type": "markdown",
   "metadata": {},
   "source": [
    "## Remove `name` column `acceleration`, `cylinders`, and `horespower`\n",
    "\n",
    "Since the name column is all (mostly) unique values of type string it won't add any predictive ability so I will remove it. For now, I will let all other columns remain."
   ]
  },
  {
   "cell_type": "code",
   "execution_count": 3,
   "metadata": {},
   "outputs": [
    {
     "name": "stdout",
     "output_type": "stream",
     "text": [
      "<class 'pandas.core.frame.DataFrame'>\n",
      "RangeIndex: 398 entries, 0 to 397\n",
      "Data columns (total 5 columns):\n",
      " #   Column        Non-Null Count  Dtype  \n",
      "---  ------        --------------  -----  \n",
      " 0   mpg           398 non-null    float64\n",
      " 1   displacement  398 non-null    float64\n",
      " 2   weight        398 non-null    int64  \n",
      " 3   year          398 non-null    int32  \n",
      " 4   origin        398 non-null    int32  \n",
      "dtypes: float64(2), int32(2), int64(1)\n",
      "memory usage: 12.6 KB\n"
     ]
    }
   ],
   "source": [
    "# a) Remove uncessary column(s) that cannot be used for training any models. Explain why you choose those column(s).\n",
    "df_clean.drop([\"name\",\"acceleration\",\"cylinders\",\"horsepower\"], axis=1, inplace=True)\n",
    "\n",
    "\n",
    "# c) Make sure columns labaled as \"multi-valued discrete\" are of integer type while \"continuous\" ones are of float type.\n",
    "# df_clean['cylinders'] = df_clean['cylinders'].astype(int)\n",
    "df_clean['year'] = df_clean['year'].astype(int) # drop from df?\n",
    "df_clean['origin'] = df_clean['origin'].astype(int)\n",
    "\n",
    "df_clean.info()"
   ]
  },
  {
   "cell_type": "markdown",
   "metadata": {},
   "source": [
    "# 3) Prepare the following dataframes."
   ]
  },
  {
   "cell_type": "code",
   "execution_count": 4,
   "metadata": {},
   "outputs": [
    {
     "name": "stdout",
     "output_type": "stream",
     "text": [
      "(398, 5)\n",
      "full df_clean: (398, 5)\n",
      "features_train: (318, 4)\n",
      "features_test: (80, 4)\n",
      "response_train: (318, 1)\n",
      "response_test: (80, 1)\n"
     ]
    }
   ],
   "source": [
    "print(df_clean.shape)\n",
    "# df_clean.head()\n",
    "\n",
    "from sklearn.model_selection import train_test_split\n",
    "\n",
    "# a) Create a dataframe called \"response\" including only the column \"mpg\".\n",
    "response = df_clean[['mpg']]\n",
    "\n",
    "# b) Create a dataframe called \"features\" with the remaining columns.\n",
    "features = df_clean.iloc[:,1:]\n",
    "\n",
    "\n",
    "# c) Prepare a dataframe named \"features_train\": random 80% rows of the dataframe \"features\"\n",
    "# d) Prepare a dataframe named \"features_test\": random 20% rows of the dataframe \"features\"\n",
    "# e) Prepare a dataframe named \"response_train\": random 80% rows of the dataframe \"response\"\n",
    "# f) Prepare a dataframe named \"response_test\": random 20% rows of the dataframe \"response\"\n",
    "\n",
    "result_list = train_test_split(features, response, test_size=0.2, random_state=64)\n",
    "\n",
    "features_train, features_test, response_train, response_test = result_list\n",
    "\n",
    "print(\"full df_clean:\", df_clean.shape)\n",
    "print(\"features_train:\", features_train.shape)\n",
    "print(\"features_test:\", features_test.shape)\n",
    "print(\"response_train:\", response_train.shape)\n",
    "print(\"response_test:\", response_test.shape)"
   ]
  },
  {
   "cell_type": "markdown",
   "metadata": {},
   "source": [
    "# 4) Create a multiple linear regressoin model from scikit learn package. \n",
    "Train the model using the train data created above."
   ]
  },
  {
   "cell_type": "code",
   "execution_count": 14,
   "metadata": {},
   "outputs": [
    {
     "data": {
      "text/plain": [
       "LinearRegression(copy_X=True, fit_intercept=True, n_jobs=None, normalize=False)"
      ]
     },
     "execution_count": 14,
     "metadata": {},
     "output_type": "execute_result"
    }
   ],
   "source": [
    "from sklearn.linear_model import LinearRegression\n",
    "mlr = LinearRegression()\n",
    "mlr.fit(features_train, response_train)"
   ]
  },
  {
   "cell_type": "markdown",
   "metadata": {},
   "source": [
    "# 5) Produce predictions over the test data."
   ]
  },
  {
   "cell_type": "code",
   "execution_count": 15,
   "metadata": {},
   "outputs": [],
   "source": [
    "response_pred = mlr.predict(features_test)"
   ]
  },
  {
   "cell_type": "markdown",
   "metadata": {},
   "source": [
    "# 6) Evaluate the model performance over the test data by tabulating metrics of Mean Absolute Error, Mean Squared Error and Root Mean Squared Error."
   ]
  },
  {
   "cell_type": "code",
   "execution_count": 16,
   "metadata": {},
   "outputs": [
    {
     "data": {
      "image/png": "[encoded data removed]",
      "text/plain": [
       "<Figure size 504x432 with 1 Axes>"
      ]
     },
     "metadata": {
      "needs_background": "light"
     },
     "output_type": "display_data"
    }
   ],
   "source": [
    "import matplotlib.pyplot as plt\n",
    "plt.figure(figsize=(7, 6))\n",
    "plt.scatter(response_test, response_pred)\n",
    "plt.ylabel('Predicted MPG', size = 12)\n",
    "plt.xlabel('Actual MPG', size = 12)\n",
    "plt.show()"
   ]
  },
  {
   "cell_type": "code",
   "execution_count": 17,
   "metadata": {},
   "outputs": [
    {
     "name": "stdout",
     "output_type": "stream",
     "text": [
      "Mean Absolute Error: 2.4756411877165667\n",
      "Mean Squared Error: 9.685128801651542\n",
      "Root Mean Squared Error: 3.112093957715856\n"
     ]
    }
   ],
   "source": [
    "import numpy as np\n",
    "from sklearn import metrics\n",
    "print('Mean Absolute Error:', metrics.mean_absolute_error(response_test, response_pred))\n",
    "print('Mean Squared Error:', metrics.mean_squared_error(response_test, response_pred))\n",
    "print('Root Mean Squared Error:', np.sqrt(metrics.mean_squared_error(response_test, response_pred)))"
   ]
  },
  {
   "cell_type": "markdown",
   "metadata": {},
   "source": [
    "# 7) Normalize the data stored in df_clean."
   ]
  },
  {
   "cell_type": "code",
   "execution_count": 18,
   "metadata": {},
   "outputs": [
    {
     "data": {
      "text/html": [
       "<div>\n",
       "<style scoped>\n",
       "    .dataframe tbody tr th:only-of-type {\n",
       "        vertical-align: middle;\n",
       "    }\n",
       "\n",
       "    .dataframe tbody tr th {\n",
       "        vertical-align: top;\n",
       "    }\n",
       "\n",
       "    .dataframe thead th {\n",
       "        text-align: right;\n",
       "    }\n",
       "</style>\n",
       "<table border=\"1\" class=\"dataframe\">\n",
       "  <thead>\n",
       "    <tr style=\"text-align: right;\">\n",
       "      <th></th>\n",
       "      <th>mpg</th>\n",
       "      <th>displacement</th>\n",
       "      <th>weight</th>\n",
       "      <th>year</th>\n",
       "      <th>origin</th>\n",
       "    </tr>\n",
       "  </thead>\n",
       "  <tbody>\n",
       "    <tr>\n",
       "      <th>0</th>\n",
       "      <td>0.239362</td>\n",
       "      <td>0.617571</td>\n",
       "      <td>0.536150</td>\n",
       "      <td>0.0</td>\n",
       "      <td>0.0</td>\n",
       "    </tr>\n",
       "    <tr>\n",
       "      <th>1</th>\n",
       "      <td>0.159574</td>\n",
       "      <td>0.728682</td>\n",
       "      <td>0.589736</td>\n",
       "      <td>0.0</td>\n",
       "      <td>0.0</td>\n",
       "    </tr>\n",
       "    <tr>\n",
       "      <th>2</th>\n",
       "      <td>0.239362</td>\n",
       "      <td>0.645995</td>\n",
       "      <td>0.516870</td>\n",
       "      <td>0.0</td>\n",
       "      <td>0.0</td>\n",
       "    </tr>\n",
       "    <tr>\n",
       "      <th>3</th>\n",
       "      <td>0.186170</td>\n",
       "      <td>0.609819</td>\n",
       "      <td>0.516019</td>\n",
       "      <td>0.0</td>\n",
       "      <td>0.0</td>\n",
       "    </tr>\n",
       "    <tr>\n",
       "      <th>4</th>\n",
       "      <td>0.212766</td>\n",
       "      <td>0.604651</td>\n",
       "      <td>0.520556</td>\n",
       "      <td>0.0</td>\n",
       "      <td>0.0</td>\n",
       "    </tr>\n",
       "  </tbody>\n",
       "</table>\n",
       "</div>"
      ],
      "text/plain": [
       "        mpg  displacement    weight  year  origin\n",
       "0  0.239362      0.617571  0.536150   0.0     0.0\n",
       "1  0.159574      0.728682  0.589736   0.0     0.0\n",
       "2  0.239362      0.645995  0.516870   0.0     0.0\n",
       "3  0.186170      0.609819  0.516019   0.0     0.0\n",
       "4  0.212766      0.604651  0.520556   0.0     0.0"
      ]
     },
     "execution_count": 18,
     "metadata": {},
     "output_type": "execute_result"
    }
   ],
   "source": [
    "from sklearn.preprocessing import MinMaxScaler\n",
    "scaler = MinMaxScaler() \n",
    "data_normalized = scaler.fit_transform(df_clean)\n",
    "df_normalized = pd.DataFrame(data_normalized, columns = df_clean.columns.to_list())\n",
    "\n",
    "df_normalized.head()"
   ]
  },
  {
   "cell_type": "markdown",
   "metadata": {},
   "source": [
    "# 8) Fit a multiple linear regression model using the normalized data."
   ]
  },
  {
   "cell_type": "code",
   "execution_count": 19,
   "metadata": {},
   "outputs": [
    {
     "data": {
      "text/plain": [
       "LinearRegression(copy_X=True, fit_intercept=True, n_jobs=None, normalize=False)"
      ]
     },
     "execution_count": 19,
     "metadata": {},
     "output_type": "execute_result"
    }
   ],
   "source": [
    "from sklearn.linear_model import LinearRegression\n",
    "mlr_norm = LinearRegression()\n",
    "features_norm = df_normalized.iloc[:,1:]\n",
    "response_norm = df_normalized[['mpg']]\n",
    "mlr_norm.fit(features_norm, response_norm) "
   ]
  },
  {
   "cell_type": "markdown",
   "metadata": {},
   "source": [
    "# 9) Extract Feature Importance. \n",
    "\n",
    "Report the coefficients (i.e. estimated parameters) of the fit model."
   ]
  },
  {
   "cell_type": "code",
   "execution_count": 20,
   "metadata": {},
   "outputs": [
    {
     "name": "stdout",
     "output_type": "stream",
     "text": [
      "displacement: 0.06590\n",
      "weight: -0.62750\n",
      "year: 0.24657\n",
      "origin: 0.06653\n"
     ]
    }
   ],
   "source": [
    "importance = mlr_norm.coef_[0]      # list of estimated coeff parameters \n",
    "feature_names = df_normalized.columns.to_list()\n",
    "feature_names.remove('mpg')\n",
    "# summarize feature importance\n",
    "for i, score in enumerate(importance):\n",
    "    print('%s: %.5f' % (feature_names[i], score))"
   ]
  },
  {
   "cell_type": "code",
   "execution_count": 21,
   "metadata": {},
   "outputs": [
    {
     "name": "stdout",
     "output_type": "stream",
     "text": [
      "displacement: 0.06590\n",
      "weight: -0.62750\n",
      "year: 0.24657\n",
      "origin: 0.06653\n"
     ]
    }
   ],
   "source": [
    "importance = mlr_norm.coef_[0]      # list of estimated coeff parameters \n",
    "feature_names = df_normalized.columns.to_list()\n",
    "feature_names.remove('mpg')\n",
    "# summarize feature importance\n",
    "for i, score in enumerate(importance):\n",
    "    print('%s: %.5f' % (feature_names[i], score))"
   ]
  },
  {
   "cell_type": "markdown",
   "metadata": {},
   "source": [
    "## 10) Summarize results with a bar chart."
   ]
  },
  {
   "cell_type": "code",
   "execution_count": 22,
   "metadata": {},
   "outputs": [
    {
     "data": {
      "image/png": "[encoded data removed]",
      "text/plain": [
       "<Figure size 720x360 with 1 Axes>"
      ]
     },
     "metadata": {
      "needs_background": "light"
     },
     "output_type": "display_data"
    }
   ],
   "source": [
    "from matplotlib import pyplot\n",
    "pyplot.figure(figsize=(10, 5))\n",
    "# plot feature importance\n",
    "pyplot.bar(x = list(range(len(importance))), height = importance, tick_label = feature_names)\n",
    "pyplot.title('MPG Feature Importance')\n",
    "pyplot.xlabel('Features')\n",
    "pyplot.ylabel('Importance Score')\n",
    "pyplot.show()"
   ]
  },
  {
   "cell_type": "code",
   "execution_count": 12,
   "metadata": {},
   "outputs": [],
   "source": [
    "from sklearn.model_selection import train_test_split\n",
    "\n",
    "# a) Create a dataframe called \"response\" including only the column \"mpg\".\n",
    "response = df_clean[['mpg']]\n",
    "\n",
    "# b) Create a dataframe called \"features\" with the remaining columns.\n",
    "features = df_clean.iloc[:,1:]\n"
   ]
  },
  {
   "cell_type": "code",
   "execution_count": 13,
   "metadata": {},
   "outputs": [
    {
     "name": "stdout",
     "output_type": "stream",
     "text": [
      "full df_clean: (398, 5)\n",
      "features_train: (318, 4)\n",
      "features_test: (80, 4)\n",
      "response_train: (318, 1)\n",
      "response_test: (80, 1)\n"
     ]
    }
   ],
   "source": [
    "# c) Prepare a dataframe named \"features_train\": random 80% rows of the dataframe \"features\"\n",
    "# d) Prepare a dataframe named \"features_test\": random 20% rows of the dataframe \"features\"\n",
    "# e) Prepare a dataframe named \"response_train\": random 80% rows of the dataframe \"response\"\n",
    "# f) Prepare a dataframe named \"response_test\": random 20% rows of the dataframe \"response\"\n",
    "\n",
    "result_list = train_test_split(features, response, test_size=0.2, random_state=64)\n",
    "\n",
    "features_train, features_test, response_train, response_test = result_list\n",
    "\n",
    "print(\"full df_clean:\", df_clean.shape)\n",
    "print(\"features_train:\", features_train.shape)\n",
    "print(\"features_test:\", features_test.shape)\n",
    "print(\"response_train:\", response_train.shape)\n",
    "print(\"response_test:\", response_test.shape)"
   ]
  },
  {
   "cell_type": "markdown",
   "metadata": {},
   "source": [
    "### Bonus Questions:\n",
    "11) Analyze the results from the bar chart. Drop one or two least important features from df_clean.<br/>\n",
    "12) Repeat Questions 3 - 6 and report the updated metrics of Mean Absolute Error, Mean Squared Error and Root Mean Squared Error. Compare the updated metric results agains the previous ones. "
   ]
  },
  {
   "cell_type": "code",
   "execution_count": null,
   "metadata": {},
   "outputs": [],
   "source": [
    "#work on your code here and after."
   ]
  },
  {
   "cell_type": "markdown",
   "metadata": {},
   "source": [
    "Removing doesn't seem to improve predictions. "
   ]
  },
  {
   "cell_type": "code",
   "execution_count": 23,
   "metadata": {},
   "outputs": [
    {
     "name": "stdout",
     "output_type": "stream",
     "text": [
      "                            OLS Regression Results                            \n",
      "==============================================================================\n",
      "Dep. Variable:                    mpg   R-squared:                       0.818\n",
      "Model:                            OLS   Adj. R-squared:                  0.816\n",
      "Method:                 Least Squares   F-statistic:                     442.2\n",
      "Date:                Thu, 02 Jul 2020   Prob (F-statistic):          5.29e-144\n",
      "Time:                        23:51:17   Log-Likelihood:                 400.21\n",
      "No. Observations:                 398   AIC:                            -790.4\n",
      "Df Residuals:                     393   BIC:                            -770.5\n",
      "Df Model:                           4                                         \n",
      "Covariance Type:            nonrobust                                         \n",
      "================================================================================\n",
      "                   coef    std err          t      P>|t|      [0.025      0.975]\n",
      "--------------------------------------------------------------------------------\n",
      "const            0.4636      0.016     29.196      0.000       0.432       0.495\n",
      "displacement     0.0659      0.049      1.348      0.178      -0.030       0.162\n",
      "weight          -0.6275      0.052    -12.053      0.000      -0.730      -0.525\n",
      "year             0.2466      0.016     15.655      0.000       0.216       0.278\n",
      "origin           0.0665      0.014      4.719      0.000       0.039       0.094\n",
      "==============================================================================\n",
      "Omnibus:                       37.022   Durbin-Watson:                   1.272\n",
      "Prob(Omnibus):                  0.000   Jarque-Bera (JB):               69.515\n",
      "Skew:                           0.552   Prob(JB):                     8.03e-16\n",
      "Kurtosis:                       4.724   Cond. No.                         19.7\n",
      "==============================================================================\n",
      "\n",
      "Warnings:\n",
      "[1] Standard Errors assume that the covariance matrix of the errors is correctly specified.\n"
     ]
    }
   ],
   "source": [
    "import statsmodels.api as sm\n",
    "\n",
    "X = features_norm \n",
    "y = response_norm \n",
    "\n",
    "X2 = sm.add_constant(X)\n",
    "est = sm.OLS(y, X2)\n",
    "est2 = est.fit()\n",
    "print(est2.summary())"
   ]
  },
  {
   "cell_type": "code",
   "execution_count": null,
   "metadata": {},
   "outputs": [],
   "source": []
  }
 ],
 "metadata": {
  "kernelspec": {
   "display_name": "Python 3",
   "language": "python",
   "name": "python3"
  },
  "language_info": {
   "codemirror_mode": {
    "name": "ipython",
    "version": 3
   },
   "file_extension": ".py",
   "mimetype": "text/x-python",
   "name": "python",
   "nbconvert_exporter": "python",
   "pygments_lexer": "ipython3",
   "version": "3.7.7"
  }
 },
 "nbformat": 4,
 "nbformat_minor": 4
}
