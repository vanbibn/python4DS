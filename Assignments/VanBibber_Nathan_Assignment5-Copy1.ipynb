{
 "cells": [
  {
   "cell_type": "markdown",
   "metadata": {},
   "source": [
    "# <center> <h1>Assignment 5</h1> </center>\n",
    "<center> <h1>EIN 4933/6935 Python for Data Science Summer 2020</h1> </center>"
   ]
  },
  {
   "cell_type": "markdown",
   "metadata": {},
   "source": [
    "Click the link below and download the file named \"auto_mpg_modified.csv\".<br/>\n",
    "Link: https://sites.google.com/site/yasinunlu/home/research/new1/auto_mpg_modified.csv<br/>\n",
    "You can find more info about the data set <a href=\"https://sites.google.com/site/yasinunlu/home/research/new1/auto_mpg_info.txt\">here</a>. "
   ]
  },
  {
   "cell_type": "markdown",
   "metadata": {},
   "source": [
    "### Questions:\n",
    "1) Read the file and create a dataframe and name it \"df\".<br/>\n",
    "2) Perform the following data preprocessing:<br/>\n",
    "a) Remove uncessary column(s) that cannot be used for training any models. Remove from df. Explain why you choose those column(s).<br/>\n",
    "b) Determine any missing data point in df. Replace those missing data points with an imputated value. <br/>\n",
    "c) Make sure columns labaled as \"multi-valued discrete\" are of integer type while \"continuous\" ones are of float type. You can read the column labels in this <a href=\"https://sites.google.com/site/yasinunlu/home/research/new1/auto_mpg_info.txt\">file</a>. The final dataframe should be named \"df_clean\".<br/>\n",
    "3) Prepare the following dataframes.<br/> \n",
    "a) Create a dataframe called \"response\" including only the column \"mpg\".<br/>\n",
    "b) Create a dataframe called \"features\" with the remaining columns.<br/>\n",
    "c) Prepare a dataframe named \"features_train\": random 80% rows of the dataframe \"features\"<br/>\n",
    "d) Prepare a dataframe named \"features_test\": random 20% rows of the dataframe \"features\"<br/>\n",
    "e) Prepare a dataframe named \"response_train\": random 80% rows of the dataframe \"response\"<br/>\n",
    "f) Prepare a dataframe named \"response_test\": random 20% rows of the dataframe \"response\"<br/>\n",
    "4) Create a multiple linear regressoin model from scikit learn package. Train your model using the train data that you created above. <br/>\n",
    "5) Produce predictions over the test data.<br/>\n",
    "6) Evaluate the model performance over the test data by tabulating metrics of Mean Absolute Error, Mean Squared Error and Root Mean Squared Error.<br/>\n",
    "7) Normalize the data stored in df_clean. <br/>\n",
    "8) Fit a multiple linear regression model using the normalized data.<br/>\n",
    "9) Extract Feature Importance. That is, repor the coefficients (i.e. estimated parameters) of the fit model.<br/>\n",
    "10) Summarize results with a bar chart.<br/>"
   ]
  },
  {
   "cell_type": "code",
   "execution_count": 1,
   "metadata": {},
   "outputs": [],
   "source": [
    "import pandas as pd"
   ]
  },
  {
   "cell_type": "markdown",
   "metadata": {},
   "source": [
    "# 1) Read the file and create a dataframe and name it \"df\"."
   ]
  },
  {
   "cell_type": "code",
   "execution_count": 2,
   "metadata": {},
   "outputs": [
    {
     "data": {
      "text/html": [
       "<div>\n",
       "<style scoped>\n",
       "    .dataframe tbody tr th:only-of-type {\n",
       "        vertical-align: middle;\n",
       "    }\n",
       "\n",
       "    .dataframe tbody tr th {\n",
       "        vertical-align: top;\n",
       "    }\n",
       "\n",
       "    .dataframe thead th {\n",
       "        text-align: right;\n",
       "    }\n",
       "</style>\n",
       "<table border=\"1\" class=\"dataframe\">\n",
       "  <thead>\n",
       "    <tr style=\"text-align: right;\">\n",
       "      <th></th>\n",
       "      <th>mpg</th>\n",
       "      <th>cylinders</th>\n",
       "      <th>displacement</th>\n",
       "      <th>horsepower</th>\n",
       "      <th>weight</th>\n",
       "      <th>acceleration</th>\n",
       "      <th>year</th>\n",
       "      <th>origin</th>\n",
       "      <th>name</th>\n",
       "    </tr>\n",
       "  </thead>\n",
       "  <tbody>\n",
       "    <tr>\n",
       "      <th>0</th>\n",
       "      <td>18.0</td>\n",
       "      <td>8.0</td>\n",
       "      <td>307.0</td>\n",
       "      <td>130.0</td>\n",
       "      <td>3504</td>\n",
       "      <td>12.0</td>\n",
       "      <td>70</td>\n",
       "      <td>1.0</td>\n",
       "      <td>chevrolet chevelle malibu</td>\n",
       "    </tr>\n",
       "    <tr>\n",
       "      <th>1</th>\n",
       "      <td>15.0</td>\n",
       "      <td>8.0</td>\n",
       "      <td>350.0</td>\n",
       "      <td>165.0</td>\n",
       "      <td>3693</td>\n",
       "      <td>11.5</td>\n",
       "      <td>70</td>\n",
       "      <td>1.0</td>\n",
       "      <td>buick skylark 320</td>\n",
       "    </tr>\n",
       "    <tr>\n",
       "      <th>2</th>\n",
       "      <td>18.0</td>\n",
       "      <td>8.0</td>\n",
       "      <td>318.0</td>\n",
       "      <td>150.0</td>\n",
       "      <td>3436</td>\n",
       "      <td>11.0</td>\n",
       "      <td>70</td>\n",
       "      <td>1.0</td>\n",
       "      <td>plymouth satellite</td>\n",
       "    </tr>\n",
       "    <tr>\n",
       "      <th>3</th>\n",
       "      <td>16.0</td>\n",
       "      <td>8.0</td>\n",
       "      <td>304.0</td>\n",
       "      <td>150.0</td>\n",
       "      <td>3433</td>\n",
       "      <td>12.0</td>\n",
       "      <td>70</td>\n",
       "      <td>1.0</td>\n",
       "      <td>amc rebel sst</td>\n",
       "    </tr>\n",
       "    <tr>\n",
       "      <th>4</th>\n",
       "      <td>17.0</td>\n",
       "      <td>8.0</td>\n",
       "      <td>302.0</td>\n",
       "      <td>140.0</td>\n",
       "      <td>3449</td>\n",
       "      <td>10.5</td>\n",
       "      <td>70</td>\n",
       "      <td>1.0</td>\n",
       "      <td>ford torino</td>\n",
       "    </tr>\n",
       "    <tr>\n",
       "      <th>...</th>\n",
       "      <td>...</td>\n",
       "      <td>...</td>\n",
       "      <td>...</td>\n",
       "      <td>...</td>\n",
       "      <td>...</td>\n",
       "      <td>...</td>\n",
       "      <td>...</td>\n",
       "      <td>...</td>\n",
       "      <td>...</td>\n",
       "    </tr>\n",
       "    <tr>\n",
       "      <th>393</th>\n",
       "      <td>27.0</td>\n",
       "      <td>4.0</td>\n",
       "      <td>140.0</td>\n",
       "      <td>86.0</td>\n",
       "      <td>2790</td>\n",
       "      <td>15.6</td>\n",
       "      <td>82</td>\n",
       "      <td>1.0</td>\n",
       "      <td>ford mustang gl</td>\n",
       "    </tr>\n",
       "    <tr>\n",
       "      <th>394</th>\n",
       "      <td>44.0</td>\n",
       "      <td>4.0</td>\n",
       "      <td>97.0</td>\n",
       "      <td>52.0</td>\n",
       "      <td>2130</td>\n",
       "      <td>24.6</td>\n",
       "      <td>82</td>\n",
       "      <td>2.0</td>\n",
       "      <td>vw pickup</td>\n",
       "    </tr>\n",
       "    <tr>\n",
       "      <th>395</th>\n",
       "      <td>32.0</td>\n",
       "      <td>4.0</td>\n",
       "      <td>135.0</td>\n",
       "      <td>84.0</td>\n",
       "      <td>2295</td>\n",
       "      <td>11.6</td>\n",
       "      <td>82</td>\n",
       "      <td>1.0</td>\n",
       "      <td>dodge rampage</td>\n",
       "    </tr>\n",
       "    <tr>\n",
       "      <th>396</th>\n",
       "      <td>28.0</td>\n",
       "      <td>4.0</td>\n",
       "      <td>120.0</td>\n",
       "      <td>79.0</td>\n",
       "      <td>2625</td>\n",
       "      <td>18.6</td>\n",
       "      <td>82</td>\n",
       "      <td>1.0</td>\n",
       "      <td>ford ranger</td>\n",
       "    </tr>\n",
       "    <tr>\n",
       "      <th>397</th>\n",
       "      <td>31.0</td>\n",
       "      <td>4.0</td>\n",
       "      <td>119.0</td>\n",
       "      <td>82.0</td>\n",
       "      <td>2720</td>\n",
       "      <td>19.4</td>\n",
       "      <td>82</td>\n",
       "      <td>1.0</td>\n",
       "      <td>chevy s-10</td>\n",
       "    </tr>\n",
       "  </tbody>\n",
       "</table>\n",
       "<p>398 rows × 9 columns</p>\n",
       "</div>"
      ],
      "text/plain": [
       "      mpg  cylinders  displacement  horsepower  weight  acceleration  year  \\\n",
       "0    18.0        8.0         307.0       130.0    3504          12.0    70   \n",
       "1    15.0        8.0         350.0       165.0    3693          11.5    70   \n",
       "2    18.0        8.0         318.0       150.0    3436          11.0    70   \n",
       "3    16.0        8.0         304.0       150.0    3433          12.0    70   \n",
       "4    17.0        8.0         302.0       140.0    3449          10.5    70   \n",
       "..    ...        ...           ...         ...     ...           ...   ...   \n",
       "393  27.0        4.0         140.0        86.0    2790          15.6    82   \n",
       "394  44.0        4.0          97.0        52.0    2130          24.6    82   \n",
       "395  32.0        4.0         135.0        84.0    2295          11.6    82   \n",
       "396  28.0        4.0         120.0        79.0    2625          18.6    82   \n",
       "397  31.0        4.0         119.0        82.0    2720          19.4    82   \n",
       "\n",
       "     origin                       name  \n",
       "0       1.0  chevrolet chevelle malibu  \n",
       "1       1.0          buick skylark 320  \n",
       "2       1.0         plymouth satellite  \n",
       "3       1.0              amc rebel sst  \n",
       "4       1.0                ford torino  \n",
       "..      ...                        ...  \n",
       "393     1.0            ford mustang gl  \n",
       "394     2.0                  vw pickup  \n",
       "395     1.0              dodge rampage  \n",
       "396     1.0                ford ranger  \n",
       "397     1.0                 chevy s-10  \n",
       "\n",
       "[398 rows x 9 columns]"
      ]
     },
     "execution_count": 2,
     "metadata": {},
     "output_type": "execute_result"
    }
   ],
   "source": [
    "df = pd.read_csv(\"auto_mpg_modified.csv\")\n",
    "df"
   ]
  },
  {
   "cell_type": "markdown",
   "metadata": {},
   "source": [
    "# 2) Perform the following data preprocessing: "
   ]
  },
  {
   "cell_type": "code",
   "execution_count": 3,
   "metadata": {},
   "outputs": [
    {
     "data": {
      "text/plain": [
       "mpg             False\n",
       "cylinders        True\n",
       "displacement    False\n",
       "horsepower       True\n",
       "weight          False\n",
       "acceleration    False\n",
       "year            False\n",
       "origin           True\n",
       "name            False\n",
       "dtype: bool"
      ]
     },
     "execution_count": 3,
     "metadata": {},
     "output_type": "execute_result"
    }
   ],
   "source": [
    "# The final dataframe should be named \"df_clean\".\n",
    "df_clean = df.copy()\n",
    "\n",
    "# b) Determine any missing data point in df. Replace those missing data points with an imputated value.\n",
    "df_clean.isna().any()"
   ]
  },
  {
   "cell_type": "code",
   "execution_count": 4,
   "metadata": {},
   "outputs": [],
   "source": [
    "cyl_na_idx = df_clean[df_clean.cylinders.isna()].index  # create index to verify later\n",
    "hp_na_idx = df_clean[df_clean.horsepower.isna()].index  # create index to verify later\n",
    "origin_na_idx = df_clean[df_clean.origin.isna()].index  # create index to verify later"
   ]
  },
  {
   "cell_type": "markdown",
   "metadata": {},
   "source": [
    "***"
   ]
  },
  {
   "cell_type": "markdown",
   "metadata": {},
   "source": [
    "## Impute cylinders by displacement\n",
    "Since none of the missing valuse have displacements within the overlapping ranges between cylinders, I will impute cylinders based on the standard ranges for displacement. There are no missing values in the 4 cylinder range so I don't have to worry about those."
   ]
  },
  {
   "cell_type": "code",
   "execution_count": 5,
   "metadata": {},
   "outputs": [
    {
     "name": "stdout",
     "output_type": "stream",
     "text": [
      "4 cyl max: 156.0 \n",
      "\n",
      "6 cyl min: 145.0\n",
      "6 cyl max: 262.0 \n",
      "\n",
      "8 cyl min: 260.0\n"
     ]
    },
    {
     "data": {
      "text/html": [
       "<div>\n",
       "<style scoped>\n",
       "    .dataframe tbody tr th:only-of-type {\n",
       "        vertical-align: middle;\n",
       "    }\n",
       "\n",
       "    .dataframe tbody tr th {\n",
       "        vertical-align: top;\n",
       "    }\n",
       "\n",
       "    .dataframe thead th {\n",
       "        text-align: right;\n",
       "    }\n",
       "</style>\n",
       "<table border=\"1\" class=\"dataframe\">\n",
       "  <thead>\n",
       "    <tr style=\"text-align: right;\">\n",
       "      <th></th>\n",
       "      <th>cylinders</th>\n",
       "      <th>displacement</th>\n",
       "    </tr>\n",
       "  </thead>\n",
       "  <tbody>\n",
       "    <tr>\n",
       "      <th>43</th>\n",
       "      <td>NaN</td>\n",
       "      <td>400.0</td>\n",
       "    </tr>\n",
       "    <tr>\n",
       "      <th>67</th>\n",
       "      <td>NaN</td>\n",
       "      <td>429.0</td>\n",
       "    </tr>\n",
       "    <tr>\n",
       "      <th>106</th>\n",
       "      <td>NaN</td>\n",
       "      <td>350.0</td>\n",
       "    </tr>\n",
       "    <tr>\n",
       "      <th>125</th>\n",
       "      <td>NaN</td>\n",
       "      <td>198.0</td>\n",
       "    </tr>\n",
       "  </tbody>\n",
       "</table>\n",
       "</div>"
      ],
      "text/plain": [
       "     cylinders  displacement\n",
       "43         NaN         400.0\n",
       "67         NaN         429.0\n",
       "106        NaN         350.0\n",
       "125        NaN         198.0"
      ]
     },
     "execution_count": 5,
     "metadata": {},
     "output_type": "execute_result"
    }
   ],
   "source": [
    "print(\"4 cyl max:\", df_clean.loc[df_clean['cylinders']==4.0, 'displacement'].max(),\"\\n\")\n",
    "print(\"6 cyl min:\", df_clean.loc[df_clean['cylinders']==6.0, 'displacement'].min())\n",
    "print(\"6 cyl max:\", df_clean.loc[df_clean['cylinders']==6.0, 'displacement'].max(), \"\\n\")\n",
    "print(\"8 cyl min:\", df_clean.loc[df_clean['cylinders']==8.0, 'displacement'].min())\n",
    "\n",
    "df_clean.loc[cyl_na_idx, ['cylinders', \"displacement\"]]"
   ]
  },
  {
   "cell_type": "code",
   "execution_count": 6,
   "metadata": {},
   "outputs": [
    {
     "data": {
      "text/html": [
       "<div>\n",
       "<style scoped>\n",
       "    .dataframe tbody tr th:only-of-type {\n",
       "        vertical-align: middle;\n",
       "    }\n",
       "\n",
       "    .dataframe tbody tr th {\n",
       "        vertical-align: top;\n",
       "    }\n",
       "\n",
       "    .dataframe thead th {\n",
       "        text-align: right;\n",
       "    }\n",
       "</style>\n",
       "<table border=\"1\" class=\"dataframe\">\n",
       "  <thead>\n",
       "    <tr style=\"text-align: right;\">\n",
       "      <th></th>\n",
       "      <th>cylinders</th>\n",
       "      <th>displacement</th>\n",
       "    </tr>\n",
       "  </thead>\n",
       "  <tbody>\n",
       "    <tr>\n",
       "      <th>43</th>\n",
       "      <td>8.0</td>\n",
       "      <td>400.0</td>\n",
       "    </tr>\n",
       "    <tr>\n",
       "      <th>67</th>\n",
       "      <td>8.0</td>\n",
       "      <td>429.0</td>\n",
       "    </tr>\n",
       "    <tr>\n",
       "      <th>106</th>\n",
       "      <td>8.0</td>\n",
       "      <td>350.0</td>\n",
       "    </tr>\n",
       "    <tr>\n",
       "      <th>125</th>\n",
       "      <td>6.0</td>\n",
       "      <td>198.0</td>\n",
       "    </tr>\n",
       "  </tbody>\n",
       "</table>\n",
       "</div>"
      ],
      "text/plain": [
       "     cylinders  displacement\n",
       "43         8.0         400.0\n",
       "67         8.0         429.0\n",
       "106        8.0         350.0\n",
       "125        6.0         198.0"
      ]
     },
     "execution_count": 6,
     "metadata": {},
     "output_type": "execute_result"
    }
   ],
   "source": [
    "# set NaN values for displacement greater than 262 for 8 cylinders\n",
    "df_clean.loc[(df_clean['displacement']>262) & (df_clean['cylinders'].isna()), 'cylinders'] = 8.0\n",
    "\n",
    "# set NaN values for displacement less than 262 for 6 cylinders\n",
    "df_clean.loc[(df_clean['displacement']<262) & (df_clean['cylinders'].isna()), 'cylinders'] = 6.0\n",
    "\n",
    "df_clean.loc[cyl_na_idx,['cylinders', \"displacement\"]]"
   ]
  },
  {
   "cell_type": "markdown",
   "metadata": {},
   "source": [
    "***"
   ]
  },
  {
   "cell_type": "markdown",
   "metadata": {},
   "source": [
    "## Impute horsepower by cylinders\n",
    "\n",
    "Since horsepower probably depends on the number of cylinders in the engine and the displacement, we should **not** impute horsepower with just the mean of the *entire column*. \n",
    "\n",
    "For simplicity I will replace the horsepower for 6 cylinder engines with the average horsepower for that group and then do the same for 4 cylinder engines."
   ]
  },
  {
   "cell_type": "code",
   "execution_count": 7,
   "metadata": {},
   "outputs": [
    {
     "data": {
      "text/html": [
       "<div>\n",
       "<style scoped>\n",
       "    .dataframe tbody tr th:only-of-type {\n",
       "        vertical-align: middle;\n",
       "    }\n",
       "\n",
       "    .dataframe tbody tr th {\n",
       "        vertical-align: top;\n",
       "    }\n",
       "\n",
       "    .dataframe thead th {\n",
       "        text-align: right;\n",
       "    }\n",
       "</style>\n",
       "<table border=\"1\" class=\"dataframe\">\n",
       "  <thead>\n",
       "    <tr style=\"text-align: right;\">\n",
       "      <th></th>\n",
       "      <th>cylinders</th>\n",
       "      <th>horsepower</th>\n",
       "    </tr>\n",
       "  </thead>\n",
       "  <tbody>\n",
       "    <tr>\n",
       "      <th>32</th>\n",
       "      <td>4.0</td>\n",
       "      <td>78.0</td>\n",
       "    </tr>\n",
       "    <tr>\n",
       "      <th>126</th>\n",
       "      <td>6.0</td>\n",
       "      <td>102.0</td>\n",
       "    </tr>\n",
       "    <tr>\n",
       "      <th>330</th>\n",
       "      <td>4.0</td>\n",
       "      <td>78.0</td>\n",
       "    </tr>\n",
       "    <tr>\n",
       "      <th>336</th>\n",
       "      <td>4.0</td>\n",
       "      <td>78.0</td>\n",
       "    </tr>\n",
       "    <tr>\n",
       "      <th>354</th>\n",
       "      <td>4.0</td>\n",
       "      <td>78.0</td>\n",
       "    </tr>\n",
       "    <tr>\n",
       "      <th>374</th>\n",
       "      <td>4.0</td>\n",
       "      <td>78.0</td>\n",
       "    </tr>\n",
       "  </tbody>\n",
       "</table>\n",
       "</div>"
      ],
      "text/plain": [
       "     cylinders  horsepower\n",
       "32         4.0        78.0\n",
       "126        6.0       102.0\n",
       "330        4.0        78.0\n",
       "336        4.0        78.0\n",
       "354        4.0        78.0\n",
       "374        4.0        78.0"
      ]
     },
     "execution_count": 7,
     "metadata": {},
     "output_type": "execute_result"
    }
   ],
   "source": [
    "# calculate the mean values\n",
    "mean_4cyl = round(df_clean.loc[df_clean['cylinders']==4.0, 'horsepower'].mean())\n",
    "mean_6cyl = round(df_clean.loc[df_clean['cylinders']==6.0, 'horsepower'].mean())\n",
    "\n",
    "# set NaN values for horsepower of 6 cylinder engines to the mean hp for 6 cylinders\n",
    "df_clean.loc[(df_clean['cylinders']==6.0) & (df_clean['horsepower'].isna()), 'horsepower'] = mean_6cyl\n",
    "\n",
    "# set NaN values for horsepower of 4 cylinder engines to the mean hp for 4 cylinders\n",
    "df_clean.loc[(df_clean['cylinders']==4.0) & (df_clean['horsepower'].isna()), 'horsepower'] = mean_4cyl\n",
    "\n",
    "df_clean.loc[hp_na_idx, ['cylinders', 'horsepower']]"
   ]
  },
  {
   "cell_type": "markdown",
   "metadata": {},
   "source": [
    "***\n"
   ]
  },
  {
   "cell_type": "markdown",
   "metadata": {},
   "source": [
    "## Impute Origin by origin of other vehicles with the same make\n",
    "\n",
    "Since, in this data set, all other vehicles by the same *make* (i.e \"dodge\") are from the same origin, I will replace `NaN` values in 'origin' column with the mean value from other cars of the same make (since all othe origins for a make are all the same, taking the mean will give me that value)."
   ]
  },
  {
   "cell_type": "code",
   "execution_count": 8,
   "metadata": {},
   "outputs": [
    {
     "data": {
      "text/html": [
       "<div>\n",
       "<style scoped>\n",
       "    .dataframe tbody tr th:only-of-type {\n",
       "        vertical-align: middle;\n",
       "    }\n",
       "\n",
       "    .dataframe tbody tr th {\n",
       "        vertical-align: top;\n",
       "    }\n",
       "\n",
       "    .dataframe thead th {\n",
       "        text-align: right;\n",
       "    }\n",
       "</style>\n",
       "<table border=\"1\" class=\"dataframe\">\n",
       "  <thead>\n",
       "    <tr style=\"text-align: right;\">\n",
       "      <th></th>\n",
       "      <th>origin</th>\n",
       "      <th>name</th>\n",
       "    </tr>\n",
       "  </thead>\n",
       "  <tbody>\n",
       "    <tr>\n",
       "      <th>6</th>\n",
       "      <td>1.0</td>\n",
       "      <td>chevrolet impala</td>\n",
       "    </tr>\n",
       "    <tr>\n",
       "      <th>77</th>\n",
       "      <td>2.0</td>\n",
       "      <td>volkswagen 411 (sw)</td>\n",
       "    </tr>\n",
       "    <tr>\n",
       "      <th>146</th>\n",
       "      <td>1.0</td>\n",
       "      <td>dodge colt</td>\n",
       "    </tr>\n",
       "    <tr>\n",
       "      <th>218</th>\n",
       "      <td>2.0</td>\n",
       "      <td>renault 5 gtl</td>\n",
       "    </tr>\n",
       "    <tr>\n",
       "      <th>299</th>\n",
       "      <td>2.0</td>\n",
       "      <td>peugeot 504</td>\n",
       "    </tr>\n",
       "    <tr>\n",
       "      <th>353</th>\n",
       "      <td>2.0</td>\n",
       "      <td>volkswagen jetta</td>\n",
       "    </tr>\n",
       "    <tr>\n",
       "      <th>388</th>\n",
       "      <td>1.0</td>\n",
       "      <td>chrysler lebaron medallion</td>\n",
       "    </tr>\n",
       "  </tbody>\n",
       "</table>\n",
       "</div>"
      ],
      "text/plain": [
       "     origin                        name\n",
       "6       1.0            chevrolet impala\n",
       "77      2.0         volkswagen 411 (sw)\n",
       "146     1.0                  dodge colt\n",
       "218     2.0               renault 5 gtl\n",
       "299     2.0                 peugeot 504\n",
       "353     2.0            volkswagen jetta\n",
       "388     1.0  chrysler lebaron medallion"
      ]
     },
     "execution_count": 8,
     "metadata": {},
     "output_type": "execute_result"
    }
   ],
   "source": [
    "vehicle_makes = [\"chevrolet\",\"volkswagen\",\"dodge\",\"renault\",\"peugeot\",\"chrysler\"]\n",
    "\n",
    "for make in vehicle_makes:\n",
    "    mean = df_clean.loc[df_clean['name'].str.contains(make), 'origin'].mean()   # find the mean\n",
    "    # replace origin NaN for that make with its mean \n",
    "    df_clean.loc[(df_clean['name'].str.contains(make)) & (df_clean['origin'].isna()), 'origin'] = mean  \n",
    "\n",
    "df_clean.loc[origin_na_idx, ['origin', 'name']]"
   ]
  },
  {
   "cell_type": "code",
   "execution_count": 9,
   "metadata": {},
   "outputs": [
    {
     "data": {
      "text/plain": [
       "mpg             False\n",
       "cylinders       False\n",
       "displacement    False\n",
       "horsepower      False\n",
       "weight          False\n",
       "acceleration    False\n",
       "year            False\n",
       "origin          False\n",
       "name            False\n",
       "dtype: bool"
      ]
     },
     "execution_count": 9,
     "metadata": {},
     "output_type": "execute_result"
    }
   ],
   "source": [
    "# make sure no more missing values in df\n",
    "df_clean.isna().any()  "
   ]
  },
  {
   "cell_type": "markdown",
   "metadata": {},
   "source": [
    "## Remove `name` column `acceleration`\n",
    "\n",
    "Since the name column is all (mostly) unique values of type string it won't add any predictive ability so I will remove it. For now, I will let all other columns remain."
   ]
  },
  {
   "cell_type": "code",
   "execution_count": 10,
   "metadata": {},
   "outputs": [
    {
     "name": "stdout",
     "output_type": "stream",
     "text": [
      "<class 'pandas.core.frame.DataFrame'>\n",
      "RangeIndex: 398 entries, 0 to 397\n",
      "Data columns (total 7 columns):\n",
      " #   Column        Non-Null Count  Dtype  \n",
      "---  ------        --------------  -----  \n",
      " 0   mpg           398 non-null    float64\n",
      " 1   cylinders     398 non-null    int32  \n",
      " 2   displacement  398 non-null    float64\n",
      " 3   horsepower    398 non-null    float64\n",
      " 4   weight        398 non-null    int64  \n",
      " 5   year          398 non-null    int32  \n",
      " 6   origin        398 non-null    int32  \n",
      "dtypes: float64(3), int32(3), int64(1)\n",
      "memory usage: 17.2 KB\n"
     ]
    }
   ],
   "source": [
    "# a) Remove uncessary column(s) that cannot be used for training any models. Explain why you choose those column(s).\n",
    "df_clean.drop([\"name\",\"acceleration\"], axis=1, inplace=True)\n",
    "\n",
    "\n",
    "# c) Make sure columns labaled as \"multi-valued discrete\" are of integer type while \"continuous\" ones are of float type.\n",
    "df_clean['cylinders'] = df_clean['cylinders'].astype(int)\n",
    "df_clean['year'] = df_clean['year'].astype(int) # drop from df?\n",
    "df_clean['origin'] = df_clean['origin'].astype(int)\n",
    "\n",
    "df_clean.info()"
   ]
  },
  {
   "cell_type": "markdown",
   "metadata": {},
   "source": [
    "# 3) Prepare the following dataframes."
   ]
  },
  {
   "cell_type": "code",
   "execution_count": 11,
   "metadata": {},
   "outputs": [
    {
     "name": "stdout",
     "output_type": "stream",
     "text": [
      "(398, 7)\n"
     ]
    },
    {
     "data": {
      "text/html": [
       "<div>\n",
       "<style scoped>\n",
       "    .dataframe tbody tr th:only-of-type {\n",
       "        vertical-align: middle;\n",
       "    }\n",
       "\n",
       "    .dataframe tbody tr th {\n",
       "        vertical-align: top;\n",
       "    }\n",
       "\n",
       "    .dataframe thead th {\n",
       "        text-align: right;\n",
       "    }\n",
       "</style>\n",
       "<table border=\"1\" class=\"dataframe\">\n",
       "  <thead>\n",
       "    <tr style=\"text-align: right;\">\n",
       "      <th></th>\n",
       "      <th>mpg</th>\n",
       "      <th>cylinders</th>\n",
       "      <th>displacement</th>\n",
       "      <th>horsepower</th>\n",
       "      <th>weight</th>\n",
       "      <th>year</th>\n",
       "      <th>origin</th>\n",
       "    </tr>\n",
       "  </thead>\n",
       "  <tbody>\n",
       "    <tr>\n",
       "      <th>0</th>\n",
       "      <td>18.0</td>\n",
       "      <td>8</td>\n",
       "      <td>307.0</td>\n",
       "      <td>130.0</td>\n",
       "      <td>3504</td>\n",
       "      <td>70</td>\n",
       "      <td>1</td>\n",
       "    </tr>\n",
       "    <tr>\n",
       "      <th>1</th>\n",
       "      <td>15.0</td>\n",
       "      <td>8</td>\n",
       "      <td>350.0</td>\n",
       "      <td>165.0</td>\n",
       "      <td>3693</td>\n",
       "      <td>70</td>\n",
       "      <td>1</td>\n",
       "    </tr>\n",
       "    <tr>\n",
       "      <th>2</th>\n",
       "      <td>18.0</td>\n",
       "      <td>8</td>\n",
       "      <td>318.0</td>\n",
       "      <td>150.0</td>\n",
       "      <td>3436</td>\n",
       "      <td>70</td>\n",
       "      <td>1</td>\n",
       "    </tr>\n",
       "    <tr>\n",
       "      <th>3</th>\n",
       "      <td>16.0</td>\n",
       "      <td>8</td>\n",
       "      <td>304.0</td>\n",
       "      <td>150.0</td>\n",
       "      <td>3433</td>\n",
       "      <td>70</td>\n",
       "      <td>1</td>\n",
       "    </tr>\n",
       "    <tr>\n",
       "      <th>4</th>\n",
       "      <td>17.0</td>\n",
       "      <td>8</td>\n",
       "      <td>302.0</td>\n",
       "      <td>140.0</td>\n",
       "      <td>3449</td>\n",
       "      <td>70</td>\n",
       "      <td>1</td>\n",
       "    </tr>\n",
       "  </tbody>\n",
       "</table>\n",
       "</div>"
      ],
      "text/plain": [
       "    mpg  cylinders  displacement  horsepower  weight  year  origin\n",
       "0  18.0          8         307.0       130.0    3504    70       1\n",
       "1  15.0          8         350.0       165.0    3693    70       1\n",
       "2  18.0          8         318.0       150.0    3436    70       1\n",
       "3  16.0          8         304.0       150.0    3433    70       1\n",
       "4  17.0          8         302.0       140.0    3449    70       1"
      ]
     },
     "execution_count": 11,
     "metadata": {},
     "output_type": "execute_result"
    }
   ],
   "source": [
    "print(df_clean.shape)\n",
    "df_clean.head()"
   ]
  },
  {
   "cell_type": "code",
   "execution_count": 12,
   "metadata": {},
   "outputs": [],
   "source": [
    "from sklearn.model_selection import train_test_split\n",
    "\n",
    "# a) Create a dataframe called \"response\" including only the column \"mpg\".\n",
    "response = df_clean[['mpg']]\n",
    "\n",
    "# b) Create a dataframe called \"features\" with the remaining columns.\n",
    "features = df_clean.iloc[:,1:]\n"
   ]
  },
  {
   "cell_type": "code",
   "execution_count": 13,
   "metadata": {},
   "outputs": [
    {
     "name": "stdout",
     "output_type": "stream",
     "text": [
      "full df_clean: (398, 7)\n",
      "features_train: (318, 6)\n",
      "features_test: (80, 6)\n",
      "response_train: (318, 1)\n",
      "response_test: (80, 1)\n"
     ]
    }
   ],
   "source": [
    "# c) Prepare a dataframe named \"features_train\": random 80% rows of the dataframe \"features\"\n",
    "# d) Prepare a dataframe named \"features_test\": random 20% rows of the dataframe \"features\"\n",
    "# e) Prepare a dataframe named \"response_train\": random 80% rows of the dataframe \"response\"\n",
    "# f) Prepare a dataframe named \"response_test\": random 20% rows of the dataframe \"response\"\n",
    "\n",
    "result_list = train_test_split(features, response, test_size=0.2, random_state=64)\n",
    "\n",
    "features_train, features_test, response_train, response_test = result_list\n",
    "\n",
    "print(\"full df_clean:\", df_clean.shape)\n",
    "print(\"features_train:\", features_train.shape)\n",
    "print(\"features_test:\", features_test.shape)\n",
    "print(\"response_train:\", response_train.shape)\n",
    "print(\"response_test:\", response_test.shape)"
   ]
  },
  {
   "cell_type": "markdown",
   "metadata": {},
   "source": [
    "# 4) Create a multiple linear regressoin model from scikit learn package. \n",
    "Train the model using the train data created above."
   ]
  },
  {
   "cell_type": "code",
   "execution_count": 14,
   "metadata": {},
   "outputs": [
    {
     "data": {
      "text/plain": [
       "LinearRegression(copy_X=True, fit_intercept=True, n_jobs=None, normalize=False)"
      ]
     },
     "execution_count": 14,
     "metadata": {},
     "output_type": "execute_result"
    }
   ],
   "source": [
    "from sklearn.linear_model import LinearRegression\n",
    "mlr = LinearRegression()\n",
    "mlr.fit(features_train, response_train)"
   ]
  },
  {
   "cell_type": "markdown",
   "metadata": {},
   "source": [
    "# 5) Produce predictions over the test data."
   ]
  },
  {
   "cell_type": "code",
   "execution_count": 15,
   "metadata": {},
   "outputs": [],
   "source": [
    "response_pred = mlr.predict(features_test)"
   ]
  },
  {
   "cell_type": "markdown",
   "metadata": {},
   "source": [
    "# 6) Evaluate the model performance over the test data by tabulating metrics of Mean Absolute Error, Mean Squared Error and Root Mean Squared Error."
   ]
  },
  {
   "cell_type": "code",
   "execution_count": 16,
   "metadata": {},
   "outputs": [
    {
     "data": {
      "image/png": "[encoded data removed]",
      "text/plain": [
       "<Figure size 504x432 with 1 Axes>"
      ]
     },
     "metadata": {
      "needs_background": "light"
     },
     "output_type": "display_data"
    }
   ],
   "source": [
    "import matplotlib.pyplot as plt\n",
    "plt.figure(figsize=(7, 6))\n",
    "plt.scatter(response_test, response_pred)\n",
    "plt.ylabel('Predicted MPG', size = 12)\n",
    "plt.xlabel('Actual MPG', size = 12)\n",
    "plt.show()"
   ]
  },
  {
   "cell_type": "code",
   "execution_count": 17,
   "metadata": {},
   "outputs": [
    {
     "name": "stdout",
     "output_type": "stream",
     "text": [
      "Mean Absolute Error: 2.45972863141755\n",
      "Mean Squared Error: 9.465981368158818\n",
      "Root Mean Squared Error: 3.076683501460431\n"
     ]
    }
   ],
   "source": [
    "import numpy as np\n",
    "from sklearn import metrics\n",
    "print('Mean Absolute Error:', metrics.mean_absolute_error(response_test, response_pred))\n",
    "print('Mean Squared Error:', metrics.mean_squared_error(response_test, response_pred))\n",
    "print('Root Mean Squared Error:', np.sqrt(metrics.mean_squared_error(response_test, response_pred)))"
   ]
  },
  {
   "cell_type": "markdown",
   "metadata": {},
   "source": [
    "# 7) Normalize the data stored in df_clean."
   ]
  },
  {
   "cell_type": "code",
   "execution_count": 18,
   "metadata": {},
   "outputs": [
    {
     "data": {
      "text/html": [
       "<div>\n",
       "<style scoped>\n",
       "    .dataframe tbody tr th:only-of-type {\n",
       "        vertical-align: middle;\n",
       "    }\n",
       "\n",
       "    .dataframe tbody tr th {\n",
       "        vertical-align: top;\n",
       "    }\n",
       "\n",
       "    .dataframe thead th {\n",
       "        text-align: right;\n",
       "    }\n",
       "</style>\n",
       "<table border=\"1\" class=\"dataframe\">\n",
       "  <thead>\n",
       "    <tr style=\"text-align: right;\">\n",
       "      <th></th>\n",
       "      <th>mpg</th>\n",
       "      <th>cylinders</th>\n",
       "      <th>displacement</th>\n",
       "      <th>horsepower</th>\n",
       "      <th>weight</th>\n",
       "      <th>year</th>\n",
       "      <th>origin</th>\n",
       "    </tr>\n",
       "  </thead>\n",
       "  <tbody>\n",
       "    <tr>\n",
       "      <th>0</th>\n",
       "      <td>0.239362</td>\n",
       "      <td>1.0</td>\n",
       "      <td>0.617571</td>\n",
       "      <td>0.456522</td>\n",
       "      <td>0.536150</td>\n",
       "      <td>0.0</td>\n",
       "      <td>0.0</td>\n",
       "    </tr>\n",
       "    <tr>\n",
       "      <th>1</th>\n",
       "      <td>0.159574</td>\n",
       "      <td>1.0</td>\n",
       "      <td>0.728682</td>\n",
       "      <td>0.646739</td>\n",
       "      <td>0.589736</td>\n",
       "      <td>0.0</td>\n",
       "      <td>0.0</td>\n",
       "    </tr>\n",
       "    <tr>\n",
       "      <th>2</th>\n",
       "      <td>0.239362</td>\n",
       "      <td>1.0</td>\n",
       "      <td>0.645995</td>\n",
       "      <td>0.565217</td>\n",
       "      <td>0.516870</td>\n",
       "      <td>0.0</td>\n",
       "      <td>0.0</td>\n",
       "    </tr>\n",
       "    <tr>\n",
       "      <th>3</th>\n",
       "      <td>0.186170</td>\n",
       "      <td>1.0</td>\n",
       "      <td>0.609819</td>\n",
       "      <td>0.565217</td>\n",
       "      <td>0.516019</td>\n",
       "      <td>0.0</td>\n",
       "      <td>0.0</td>\n",
       "    </tr>\n",
       "    <tr>\n",
       "      <th>4</th>\n",
       "      <td>0.212766</td>\n",
       "      <td>1.0</td>\n",
       "      <td>0.604651</td>\n",
       "      <td>0.510870</td>\n",
       "      <td>0.520556</td>\n",
       "      <td>0.0</td>\n",
       "      <td>0.0</td>\n",
       "    </tr>\n",
       "  </tbody>\n",
       "</table>\n",
       "</div>"
      ],
      "text/plain": [
       "        mpg  cylinders  displacement  horsepower    weight  year  origin\n",
       "0  0.239362        1.0      0.617571    0.456522  0.536150   0.0     0.0\n",
       "1  0.159574        1.0      0.728682    0.646739  0.589736   0.0     0.0\n",
       "2  0.239362        1.0      0.645995    0.565217  0.516870   0.0     0.0\n",
       "3  0.186170        1.0      0.609819    0.565217  0.516019   0.0     0.0\n",
       "4  0.212766        1.0      0.604651    0.510870  0.520556   0.0     0.0"
      ]
     },
     "execution_count": 18,
     "metadata": {},
     "output_type": "execute_result"
    }
   ],
   "source": [
    "from sklearn.preprocessing import MinMaxScaler\n",
    "scaler = MinMaxScaler() \n",
    "data_normalized = scaler.fit_transform(df_clean)\n",
    "df_normalized = pd.DataFrame(data_normalized, columns = df_clean.columns.to_list())\n",
    "\n",
    "df_normalized.head()"
   ]
  },
  {
   "cell_type": "markdown",
   "metadata": {},
   "source": [
    "# 8) Fit a multiple linear regression model using the normalized data."
   ]
  },
  {
   "cell_type": "code",
   "execution_count": 19,
   "metadata": {},
   "outputs": [
    {
     "data": {
      "text/plain": [
       "LinearRegression(copy_X=True, fit_intercept=True, n_jobs=None, normalize=False)"
      ]
     },
     "execution_count": 19,
     "metadata": {},
     "output_type": "execute_result"
    }
   ],
   "source": [
    "from sklearn.linear_model import LinearRegression\n",
    "mlr_norm = LinearRegression()\n",
    "features_norm = df_normalized.iloc[:,1:]\n",
    "response_norm = df_normalized[['mpg']]\n",
    "mlr_norm.fit(features_norm, response_norm) "
   ]
  },
  {
   "cell_type": "markdown",
   "metadata": {},
   "source": [
    "# 9) Extract Feature Importance. \n",
    "\n",
    "Report the coefficients (i.e. estimated parameters) of the fit model."
   ]
  },
  {
   "cell_type": "code",
   "execution_count": 20,
   "metadata": {},
   "outputs": [
    {
     "name": "stdout",
     "output_type": "stream",
     "text": [
      "cylinders: -0.05785\n",
      "displacement: 0.19088\n",
      "horsepower: -0.10618\n",
      "weight: -0.59872\n",
      "year: 0.23942\n",
      "origin: 0.07627\n"
     ]
    }
   ],
   "source": [
    "importance = mlr_norm.coef_[0]      # list of estimated coeff parameters \n",
    "feature_names = df_normalized.columns.to_list()\n",
    "feature_names.remove('mpg')\n",
    "# summarize feature importance\n",
    "for i, score in enumerate(importance):\n",
    "    print('%s: %.5f' % (feature_names[i], score))"
   ]
  },
  {
   "cell_type": "code",
   "execution_count": 21,
   "metadata": {},
   "outputs": [
    {
     "name": "stdout",
     "output_type": "stream",
     "text": [
      "cylinders: -0.05785\n",
      "displacement: 0.19088\n",
      "horsepower: -0.10618\n",
      "weight: -0.59872\n",
      "year: 0.23942\n",
      "origin: 0.07627\n"
     ]
    }
   ],
   "source": [
    "importance = mlr_norm.coef_[0]      # list of estimated coeff parameters \n",
    "feature_names = df_normalized.columns.to_list()\n",
    "feature_names.remove('mpg')\n",
    "# summarize feature importance\n",
    "for i, score in enumerate(importance):\n",
    "    print('%s: %.5f' % (feature_names[i], score))"
   ]
  },
  {
   "cell_type": "markdown",
   "metadata": {},
   "source": [
    "## 10) Summarize results with a bar chart."
   ]
  },
  {
   "cell_type": "code",
   "execution_count": 22,
   "metadata": {},
   "outputs": [
    {
     "data": {
      "image/png": "[encoded data removed]",
      "text/plain": [
       "<Figure size 720x360 with 1 Axes>"
      ]
     },
     "metadata": {
      "needs_background": "light"
     },
     "output_type": "display_data"
    }
   ],
   "source": [
    "from matplotlib import pyplot\n",
    "pyplot.figure(figsize=(10, 5))\n",
    "# plot feature importance\n",
    "pyplot.bar(x = list(range(len(importance))), height = importance, tick_label = feature_names)\n",
    "pyplot.title('MPG Feature Importance')\n",
    "pyplot.xlabel('Features')\n",
    "pyplot.ylabel('Importance Score')\n",
    "pyplot.show()"
   ]
  },
  {
   "cell_type": "markdown",
   "metadata": {},
   "source": [
    "### Bonus Questions:\n",
    "11) Analyze the results from the bar chart. Drop one or two least important features from df_clean.<br/>\n",
    "12) Repeat Questions 3 - 6 and report the updated metrics of Mean Absolute Error, Mean Squared Error and Root Mean Squared Error. Compare the updated metric results agains the previous ones. "
   ]
  },
  {
   "cell_type": "code",
   "execution_count": 23,
   "metadata": {},
   "outputs": [],
   "source": [
    "#work on your code here and after."
   ]
  },
  {
   "cell_type": "code",
   "execution_count": 24,
   "metadata": {},
   "outputs": [
    {
     "name": "stdout",
     "output_type": "stream",
     "text": [
      "                            OLS Regression Results                            \n",
      "==============================================================================\n",
      "Dep. Variable:                    mpg   R-squared:                       0.821\n",
      "Model:                            OLS   Adj. R-squared:                  0.818\n",
      "Method:                 Least Squares   F-statistic:                     298.1\n",
      "Date:                Thu, 02 Jul 2020   Prob (F-statistic):          1.69e-142\n",
      "Time:                        23:45:57   Log-Likelihood:                 402.89\n",
      "No. Observations:                 398   AIC:                            -791.8\n",
      "Df Residuals:                     391   BIC:                            -763.9\n",
      "Df Model:                           6                                         \n",
      "Covariance Type:            nonrobust                                         \n",
      "================================================================================\n",
      "                   coef    std err          t      P>|t|      [0.025      0.975]\n",
      "--------------------------------------------------------------------------------\n",
      "const            0.4748      0.017     28.665      0.000       0.442       0.507\n",
      "cylinders       -0.0578      0.043     -1.354      0.177      -0.142       0.026\n",
      "displacement     0.1909      0.077      2.479      0.014       0.040       0.342\n",
      "horsepower      -0.1062      0.053     -2.003      0.046      -0.210      -0.002\n",
      "weight          -0.5987      0.053    -11.218      0.000      -0.704      -0.494\n",
      "year             0.2394      0.016     14.873      0.000       0.208       0.271\n",
      "origin           0.0763      0.015      5.184      0.000       0.047       0.105\n",
      "==============================================================================\n",
      "Omnibus:                       34.640   Durbin-Watson:                   1.293\n",
      "Prob(Omnibus):                  0.000   Jarque-Bera (JB):               59.315\n",
      "Skew:                           0.552   Prob(JB):                     1.32e-13\n",
      "Kurtosis:                       4.536   Cond. No.                         28.1\n",
      "==============================================================================\n",
      "\n",
      "Warnings:\n",
      "[1] Standard Errors assume that the covariance matrix of the errors is correctly specified.\n"
     ]
    }
   ],
   "source": [
    "# import pandas as pd\n",
    "# import numpy as np\n",
    "# from sklearn import datasets, linear_model\n",
    "# from sklearn.linear_model import LinearRegression\n",
    "import statsmodels.api as sm\n",
    "# from scipy import stats\n",
    "\n",
    "# diabetes = datasets.load_diabetes()\n",
    "X = features_norm #diabetes.data\n",
    "y = response_norm #diabetes.target\n",
    "\n",
    "X2 = sm.add_constant(X)\n",
    "est = sm.OLS(y, X2)\n",
    "est2 = est.fit()\n",
    "print(est2.summary())"
   ]
  }
 ],
 "metadata": {
  "kernelspec": {
   "display_name": "Python 3",
   "language": "python",
   "name": "python3"
  },
  "language_info": {
   "codemirror_mode": {
    "name": "ipython",
    "version": 3
   },
   "file_extension": ".py",
   "mimetype": "text/x-python",
   "name": "python",
   "nbconvert_exporter": "python",
   "pygments_lexer": "ipython3",
   "version": "3.7.7"
  }
 },
 "nbformat": 4,
 "nbformat_minor": 4
}
