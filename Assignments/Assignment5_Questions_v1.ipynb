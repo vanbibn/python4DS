{
 "cells": [
  {
   "cell_type": "markdown",
   "metadata": {},
   "source": [
    "# <center> <h1>Assignment 5</h1> </center>\n",
    "<center> <h1>EIN 4933/6935 Python for Data Science Summer 2020</h1> </center>"
   ]
  },
  {
   "cell_type": "markdown",
   "metadata": {},
   "source": [
    "Click the link below and download the file named \"auto_mpg_modified.csv\".<br/>\n",
    "Link: https://sites.google.com/site/yasinunlu/home/research/new1/auto_mpg_modified.csv<br/>\n",
    "You can find more info about the data set <a href=\"https://sites.google.com/site/yasinunlu/home/research/new1/auto_mpg_info.txt\">here</a>. "
   ]
  },
  {
   "cell_type": "markdown",
   "metadata": {},
   "source": [
    "### Questions:\n",
    "1) Read the file and create a dataframe and name it \"df\".<br/>\n",
    "2) Perform the following data preprocessing:<br/>\n",
    "a) Remove uncessary column(s) that cannot be used for training any models. Remove from df. Explain why you choose those column(s).<br/>\n",
    "b) Determine any missing data point in df. Replace those missing data points with an imputated value. <br/>\n",
    "c) Make sure columns labaled as \"multi-valued discrete\" are of integer type while \"continuous\" ones are of float type. You can read the column labels in this <a href=\"https://sites.google.com/site/yasinunlu/home/research/new1/auto_mpg_info.txt\">file</a>. The final dataframe should be named \"df_clean\".<br/>\n",
    "3) Prepare the following dataframes.<br/> \n",
    "a) Create a dataframe called \"response\" including only the column \"mpg\".<br/>\n",
    "b) Create a dataframe called \"features\" with the remaining columns.<br/>\n",
    "c) Prepare a dataframe named \"features_train\": random 80% rows of the dataframe \"features\"<br/>\n",
    "d) Prepare a dataframe named \"features_test\": random 20% rows of the dataframe \"features\"<br/>\n",
    "e) Prepare a dataframe named \"response_train\": random 80% rows of the dataframe \"response\"<br/>\n",
    "f) Prepare a dataframe named \"response_test\": random 20% rows of the dataframe \"response\"<br/>\n",
    "4) Create a multiple linear regressoin model from scikit learn package. Train your model using the train data that you created above. <br/>\n",
    "5) Produce predictions over the test data.<br/>\n",
    "6) Evaluate the model performance over the test data by tabulating metrics of Mean Absolute Error, Mean Squared Error and Root Mean Squared Error.<br/>\n",
    "7) Normalize the data stored in df_clean. <br/>\n",
    "8) Fit a multiple linear regression model using the normalized data.<br/>\n",
    "9) Extract Feature Importance. That is, repor the coefficients (i.e. estimated parameters) of the fit model.<br/>\n",
    "10) Summarize results with a bar chart.<br/>"
   ]
  },
  {
   "cell_type": "markdown",
   "metadata": {},
   "source": [
    "### Bonus Questions:\n",
    "11) Analyze the results from the bar chart. Drop one or two least important features from df_clean.<br/>\n",
    "12) Repeat Questions 3 - 6 and report the updated metrics of Mean Absolute Error, Mean Squared Error and Root Mean Squared Error. Compare the updated metric results agains the previous ones. "
   ]
  },
  {
   "cell_type": "code",
   "execution_count": null,
   "metadata": {},
   "outputs": [],
   "source": [
    "#work on your code here and after."
   ]
  }
 ],
 "metadata": {
  "kernelspec": {
   "display_name": "Python 3",
   "language": "python",
   "name": "python3"
  },
  "language_info": {
   "codemirror_mode": {
    "name": "ipython",
    "version": 3
   },
   "file_extension": ".py",
   "mimetype": "text/x-python",
   "name": "python",
   "nbconvert_exporter": "python",
   "pygments_lexer": "ipython3",
   "version": "3.7.7"
  }
 },
 "nbformat": 4,
 "nbformat_minor": 4
}
