{
 "cells": [
  {
   "cell_type": "markdown",
   "metadata": {},
   "source": [
    "# <center> <h1>Assignment 5</h1> </center>\n",
    "<center> <h1>EIN 4933/6935 Python for Data Science Summer 2020</h1> </center>"
   ]
  },
  {
   "cell_type": "markdown",
   "metadata": {},
   "source": [
    "Click the link below and download the file named \"auto_mpg_modified.csv\".<br/>\n",
    "Link: https://sites.google.com/site/yasinunlu/home/research/new1/auto_mpg_modified.csv<br/>\n",
    "You can find more info about the data set <a href=\"https://sites.google.com/site/yasinunlu/home/research/new1/auto_mpg_info.txt\">here</a>. "
   ]
  },
  {
   "cell_type": "markdown",
   "metadata": {},
   "source": [
    "### Questions:\n",
    "1) Read the file and create a dataframe and name it \"df\".<br/>\n",
    "2) Perform the following data preprocessing:<br/>\n",
    "a) Remove uncessary column(s) that cannot be used for training any models. Remove from df. Explain why you choose those column(s).<br/>\n",
    "b) Determine any missing data point in df. Replace those missing data points with an imputated value. <br/>\n",
    "c) Make sure columns labaled as \"multi-valued discrete\" are of integer type while \"continuous\" ones are of float type. You can read the column labels in this <a href=\"https://sites.google.com/site/yasinunlu/home/research/new1/auto_mpg_info.txt\">file</a>. The final dataframe should be named \"df_clean\".<br/>\n",
    "3) Prepare the following dataframes.<br/> \n",
    "a) Create a dataframe called \"response\" including only the column \"mpg\".<br/>\n",
    "b) Create a dataframe called \"features\" with the remaining columns.<br/>\n",
    "c) Prepare a dataframe named \"features_train\": random 80% rows of the dataframe \"features\"<br/>\n",
    "d) Prepare a dataframe named \"features_test\": random 20% rows of the dataframe \"features\"<br/>\n",
    "e) Prepare a dataframe named \"response_train\": random 80% rows of the dataframe \"response\"<br/>\n",
    "f) Prepare a dataframe named \"response_test\": random 20% rows of the dataframe \"response\"<br/>\n",
    "4) Create a multiple linear regressoin model from scikit learn package. Train your model using the train data that you created above. <br/>\n",
    "5) Produce predictions over the test data.<br/>\n",
    "6) Evaluate the model performance over the test data by tabulating metrics of Mean Absolute Error, Mean Squared Error and Root Mean Squared Error.<br/>\n",
    "7) Normalize the data stored in df_clean. <br/>\n",
    "8) Fit a multiple linear regression model using the normalized data.<br/>\n",
    "9) Extract Feature Importance. That is, repor the coefficients (i.e. estimated parameters) of the fit model.<br/>\n",
    "10) Summarize results with a bar chart.<br/>"
   ]
  },
  {
   "cell_type": "markdown",
   "metadata": {},
   "source": [
    "### Bonus Questions:\n",
    "11) Analyze the results from the bar chart. Drop one or two least important features from df_clean.<br/>\n",
    "12) Repeat Questions 3 - 6 and report the updated metrics of Mean Absolute Error, Mean Squared Error and Root Mean Squared Error. Compare the updated metric results agains the previous ones. "
   ]
  },
  {
   "cell_type": "code",
   "execution_count": 1,
   "metadata": {},
   "outputs": [],
   "source": [
    "import pandas as pd"
   ]
  },
  {
   "cell_type": "markdown",
   "metadata": {},
   "source": [
    "# 1) Read the file and create a dataframe and name it \"df\"."
   ]
  },
  {
   "cell_type": "code",
   "execution_count": 2,
   "metadata": {},
   "outputs": [
    {
     "name": "stdout",
     "output_type": "stream",
     "text": [
      "(398, 9)\n"
     ]
    },
    {
     "data": {
      "text/html": [
       "<div>\n",
       "<style scoped>\n",
       "    .dataframe tbody tr th:only-of-type {\n",
       "        vertical-align: middle;\n",
       "    }\n",
       "\n",
       "    .dataframe tbody tr th {\n",
       "        vertical-align: top;\n",
       "    }\n",
       "\n",
       "    .dataframe thead th {\n",
       "        text-align: right;\n",
       "    }\n",
       "</style>\n",
       "<table border=\"1\" class=\"dataframe\">\n",
       "  <thead>\n",
       "    <tr style=\"text-align: right;\">\n",
       "      <th></th>\n",
       "      <th>mpg</th>\n",
       "      <th>cylinders</th>\n",
       "      <th>displacement</th>\n",
       "      <th>horsepower</th>\n",
       "      <th>weight</th>\n",
       "      <th>acceleration</th>\n",
       "      <th>year</th>\n",
       "      <th>origin</th>\n",
       "      <th>name</th>\n",
       "    </tr>\n",
       "  </thead>\n",
       "  <tbody>\n",
       "    <tr>\n",
       "      <th>0</th>\n",
       "      <td>18.0</td>\n",
       "      <td>8.0</td>\n",
       "      <td>307.0</td>\n",
       "      <td>130.0</td>\n",
       "      <td>3504</td>\n",
       "      <td>12.0</td>\n",
       "      <td>70</td>\n",
       "      <td>1.0</td>\n",
       "      <td>chevrolet chevelle malibu</td>\n",
       "    </tr>\n",
       "    <tr>\n",
       "      <th>1</th>\n",
       "      <td>15.0</td>\n",
       "      <td>8.0</td>\n",
       "      <td>350.0</td>\n",
       "      <td>165.0</td>\n",
       "      <td>3693</td>\n",
       "      <td>11.5</td>\n",
       "      <td>70</td>\n",
       "      <td>1.0</td>\n",
       "      <td>buick skylark 320</td>\n",
       "    </tr>\n",
       "    <tr>\n",
       "      <th>2</th>\n",
       "      <td>18.0</td>\n",
       "      <td>8.0</td>\n",
       "      <td>318.0</td>\n",
       "      <td>150.0</td>\n",
       "      <td>3436</td>\n",
       "      <td>11.0</td>\n",
       "      <td>70</td>\n",
       "      <td>1.0</td>\n",
       "      <td>plymouth satellite</td>\n",
       "    </tr>\n",
       "    <tr>\n",
       "      <th>3</th>\n",
       "      <td>16.0</td>\n",
       "      <td>8.0</td>\n",
       "      <td>304.0</td>\n",
       "      <td>150.0</td>\n",
       "      <td>3433</td>\n",
       "      <td>12.0</td>\n",
       "      <td>70</td>\n",
       "      <td>1.0</td>\n",
       "      <td>amc rebel sst</td>\n",
       "    </tr>\n",
       "    <tr>\n",
       "      <th>4</th>\n",
       "      <td>17.0</td>\n",
       "      <td>8.0</td>\n",
       "      <td>302.0</td>\n",
       "      <td>140.0</td>\n",
       "      <td>3449</td>\n",
       "      <td>10.5</td>\n",
       "      <td>70</td>\n",
       "      <td>1.0</td>\n",
       "      <td>ford torino</td>\n",
       "    </tr>\n",
       "  </tbody>\n",
       "</table>\n",
       "</div>"
      ],
      "text/plain": [
       "    mpg  cylinders  displacement  horsepower  weight  acceleration  year  \\\n",
       "0  18.0        8.0         307.0       130.0    3504          12.0    70   \n",
       "1  15.0        8.0         350.0       165.0    3693          11.5    70   \n",
       "2  18.0        8.0         318.0       150.0    3436          11.0    70   \n",
       "3  16.0        8.0         304.0       150.0    3433          12.0    70   \n",
       "4  17.0        8.0         302.0       140.0    3449          10.5    70   \n",
       "\n",
       "   origin                       name  \n",
       "0     1.0  chevrolet chevelle malibu  \n",
       "1     1.0          buick skylark 320  \n",
       "2     1.0         plymouth satellite  \n",
       "3     1.0              amc rebel sst  \n",
       "4     1.0                ford torino  "
      ]
     },
     "execution_count": 2,
     "metadata": {},
     "output_type": "execute_result"
    }
   ],
   "source": [
    "df = pd.read_csv(\"auto_mpg_modified.csv\")\n",
    "print(df.shape)\n",
    "df.head()"
   ]
  },
  {
   "cell_type": "markdown",
   "metadata": {},
   "source": [
    "# 2) Perform data preprocessing: "
   ]
  },
  {
   "cell_type": "code",
   "execution_count": 3,
   "metadata": {},
   "outputs": [
    {
     "data": {
      "text/plain": [
       "mpg             False\n",
       "cylinders        True\n",
       "displacement    False\n",
       "horsepower       True\n",
       "weight          False\n",
       "acceleration    False\n",
       "year            False\n",
       "origin           True\n",
       "name            False\n",
       "dtype: bool"
      ]
     },
     "execution_count": 3,
     "metadata": {},
     "output_type": "execute_result"
    }
   ],
   "source": [
    "# The final dataframe should be named \"df_clean\".\n",
    "df_clean = df.copy()\n",
    "\n",
    "# I will do part(b) first and then come back to part(a) because I will need the name col for preprocessing.\n",
    "\n",
    "# b) Determine any missing data point in df. Replace those missing data points with an imputated value.\n",
    "df_clean.isna().any()"
   ]
  },
  {
   "cell_type": "code",
   "execution_count": 4,
   "metadata": {},
   "outputs": [],
   "source": [
    "# gather index of nan rows for each column to verify later \n",
    "cyl_na_idx = df_clean[df_clean.cylinders.isna()].index  \n",
    "hp_na_idx = df_clean[df_clean.horsepower.isna()].index \n",
    "origin_na_idx = df_clean[df_clean.origin.isna()].index "
   ]
  },
  {
   "cell_type": "markdown",
   "metadata": {},
   "source": [
    "***"
   ]
  },
  {
   "cell_type": "markdown",
   "metadata": {},
   "source": [
    "## Impute cylinders by displacement\n",
    "There seems to be a relationship between displacement and the number of cylinders. I will check the range of displacement for each cylinder group. Since none of the missing values have displacements within the overlapping ranges between cylinder groups, I will impute cylinders based on the standard ranges for displacement. \n",
    "\n",
    "This can be better visualized in the following figure. I have plotted the histogram of `displacement` grouped by number of cylinders. The vertical bars represent displacement values where `cylinders` is missing a value. We can clearly see that:  \n",
    "* **Three** are in the 8 cylinder range\n",
    "* **One** is in the 6 cylinder range\n",
    "* **None** are in the 4 cylinder range \n",
    "    * Also, 3 and 5 cylinders are very rare (and only by certain makes)"
   ]
  },
  {
   "cell_type": "code",
   "execution_count": 5,
   "metadata": {},
   "outputs": [
    {
     "data": {
      "image/png": "[encoded data removed]",
      "text/plain": [
       "<Figure size 432x288 with 1 Axes>"
      ]
     },
     "metadata": {
      "needs_background": "light"
     },
     "output_type": "display_data"
    }
   ],
   "source": [
    "# look at the range of displacement values for each number of cylinders\n",
    "# cyl_disp = df_clean.loc[:,['cylinders', 'displacement']].groupby(\"cylinders\").describe()\n",
    "# cyl_disp.iloc[:,[0,3,7]]\n",
    "\n",
    "import pandas as pd\n",
    "import numpy as np\n",
    "import matplotlib.pyplot as plt\n",
    "import seaborn as sns\n",
    "\n",
    "\n",
    "# make a list of the unique number of cylinders and remove NaN from that list\n",
    "n_cylinders = df_clean.cylinders.unique().tolist()\n",
    "del n_cylinders[3]\n",
    "n_cylinders.sort()\n",
    "\n",
    "# make a list of the displacement value for each NaN value in Cylinders\n",
    "nan_disp = df_clean.loc[cyl_na_idx,\"displacement\"].tolist()\n",
    "\n",
    "# Plot a histogram of displacement for each cylinder group\n",
    "fig, ax = plt.subplots()\n",
    "# for each cylinder, iterate and plot a histogram of the displacement.\n",
    "for cylinder in n_cylinders:\n",
    "  sns.distplot(df_clean.loc[df_clean.cylinders == cylinder, 'displacement'],\n",
    "            kde = False, label = cylinder)\n",
    "\n",
    "  ax.set_xlabel('displacement')\n",
    "  ax.set_ylabel('Frequency')\n",
    "  ax.set_title('Histogram of displacement by number of cylinders')\n",
    "  ax.legend(title=\"cylinder\")\n",
    "\n",
    "# for each NaN value, iterate and plot vertical line at displacement\n",
    "for d in nan_disp:\n",
    "    plt.axvline(x=d)"
   ]
  },
  {
   "cell_type": "code",
   "execution_count": 6,
   "metadata": {},
   "outputs": [
    {
     "data": {
      "text/html": [
       "<div>\n",
       "<style scoped>\n",
       "    .dataframe tbody tr th:only-of-type {\n",
       "        vertical-align: middle;\n",
       "    }\n",
       "\n",
       "    .dataframe tbody tr th {\n",
       "        vertical-align: top;\n",
       "    }\n",
       "\n",
       "    .dataframe thead th {\n",
       "        text-align: right;\n",
       "    }\n",
       "</style>\n",
       "<table border=\"1\" class=\"dataframe\">\n",
       "  <thead>\n",
       "    <tr style=\"text-align: right;\">\n",
       "      <th></th>\n",
       "      <th>cylinders</th>\n",
       "      <th>displacement</th>\n",
       "    </tr>\n",
       "  </thead>\n",
       "  <tbody>\n",
       "    <tr>\n",
       "      <th>43</th>\n",
       "      <td>8.0</td>\n",
       "      <td>400.0</td>\n",
       "    </tr>\n",
       "    <tr>\n",
       "      <th>67</th>\n",
       "      <td>8.0</td>\n",
       "      <td>429.0</td>\n",
       "    </tr>\n",
       "    <tr>\n",
       "      <th>106</th>\n",
       "      <td>8.0</td>\n",
       "      <td>350.0</td>\n",
       "    </tr>\n",
       "    <tr>\n",
       "      <th>125</th>\n",
       "      <td>6.0</td>\n",
       "      <td>198.0</td>\n",
       "    </tr>\n",
       "  </tbody>\n",
       "</table>\n",
       "</div>"
      ],
      "text/plain": [
       "     cylinders  displacement\n",
       "43         8.0         400.0\n",
       "67         8.0         429.0\n",
       "106        8.0         350.0\n",
       "125        6.0         198.0"
      ]
     },
     "execution_count": 6,
     "metadata": {},
     "output_type": "execute_result"
    }
   ],
   "source": [
    "# set NaN values for displacement greater than 262 for 8 cylinders\n",
    "df_clean.loc[(df_clean['displacement']>262) & (df_clean['cylinders'].isna()), 'cylinders'] = 8.0\n",
    "\n",
    "# set NaN values for displacement less than 262 for 6 cylinders\n",
    "df_clean.loc[(df_clean['displacement']<262) & (df_clean['cylinders'].isna()), 'cylinders'] = 6.0\n",
    "\n",
    "df_clean.loc[cyl_na_idx,['cylinders', \"displacement\"]]"
   ]
  },
  {
   "cell_type": "markdown",
   "metadata": {},
   "source": [
    "***"
   ]
  },
  {
   "cell_type": "markdown",
   "metadata": {},
   "source": [
    "## Impute horsepower by cylinders\n",
    "\n",
    "Since horsepower probably depends on the number of cylinders in the engine and the displacement, we should **not** impute horsepower with just the mean of the *entire column*. \n",
    "\n",
    "For simplicity, I will impute horsepower for vehicles with 6 cylinder engines with the average horsepower of all vehicles with 6 cylinders, and then I will do the same for 4 cylinder engines."
   ]
  },
  {
   "cell_type": "code",
   "execution_count": 7,
   "metadata": {},
   "outputs": [
    {
     "data": {
      "text/html": [
       "<div>\n",
       "<style scoped>\n",
       "    .dataframe tbody tr th:only-of-type {\n",
       "        vertical-align: middle;\n",
       "    }\n",
       "\n",
       "    .dataframe tbody tr th {\n",
       "        vertical-align: top;\n",
       "    }\n",
       "\n",
       "    .dataframe thead th {\n",
       "        text-align: right;\n",
       "    }\n",
       "</style>\n",
       "<table border=\"1\" class=\"dataframe\">\n",
       "  <thead>\n",
       "    <tr style=\"text-align: right;\">\n",
       "      <th></th>\n",
       "      <th>cylinders</th>\n",
       "      <th>horsepower</th>\n",
       "    </tr>\n",
       "  </thead>\n",
       "  <tbody>\n",
       "    <tr>\n",
       "      <th>32</th>\n",
       "      <td>4.0</td>\n",
       "      <td>78.0</td>\n",
       "    </tr>\n",
       "    <tr>\n",
       "      <th>126</th>\n",
       "      <td>6.0</td>\n",
       "      <td>102.0</td>\n",
       "    </tr>\n",
       "    <tr>\n",
       "      <th>330</th>\n",
       "      <td>4.0</td>\n",
       "      <td>78.0</td>\n",
       "    </tr>\n",
       "    <tr>\n",
       "      <th>336</th>\n",
       "      <td>4.0</td>\n",
       "      <td>78.0</td>\n",
       "    </tr>\n",
       "    <tr>\n",
       "      <th>354</th>\n",
       "      <td>4.0</td>\n",
       "      <td>78.0</td>\n",
       "    </tr>\n",
       "    <tr>\n",
       "      <th>374</th>\n",
       "      <td>4.0</td>\n",
       "      <td>78.0</td>\n",
       "    </tr>\n",
       "  </tbody>\n",
       "</table>\n",
       "</div>"
      ],
      "text/plain": [
       "     cylinders  horsepower\n",
       "32         4.0        78.0\n",
       "126        6.0       102.0\n",
       "330        4.0        78.0\n",
       "336        4.0        78.0\n",
       "354        4.0        78.0\n",
       "374        4.0        78.0"
      ]
     },
     "execution_count": 7,
     "metadata": {},
     "output_type": "execute_result"
    }
   ],
   "source": [
    "# calculate the mean values for 4 and 6 cylinders\n",
    "mean_4cyl = round(df_clean.loc[df_clean['cylinders']==4.0, 'horsepower'].mean())\n",
    "mean_6cyl = round(df_clean.loc[df_clean['cylinders']==6.0, 'horsepower'].mean())\n",
    "\n",
    "# set NaN values for horsepower of 6 cylinder engines to the mean hp for 6 cylinders\n",
    "df_clean.loc[(df_clean['cylinders']==6.0) & (df_clean['horsepower'].isna()), 'horsepower'] = mean_6cyl\n",
    "\n",
    "# set NaN values for horsepower of 4 cylinder engines to the mean hp for 4 cylinders\n",
    "df_clean.loc[(df_clean['cylinders']==4.0) & (df_clean['horsepower'].isna()), 'horsepower'] = mean_4cyl\n",
    "\n",
    "df_clean.loc[hp_na_idx, ['cylinders', 'horsepower']]"
   ]
  },
  {
   "cell_type": "markdown",
   "metadata": {},
   "source": [
    "***\n"
   ]
  },
  {
   "cell_type": "markdown",
   "metadata": {},
   "source": [
    "## Impute Origin by other vehicles with the same make\n",
    "\n",
    "Since, in this data set, all other vehicles by the same *make* (e.g. \"Dodge\") are from the same *origin*, I will replace `NaN` values in 'origin' column with the mean value from other cars of the same make (since all othe origins for a make are all the same, taking the mean will give me that value)."
   ]
  },
  {
   "cell_type": "code",
   "execution_count": 8,
   "metadata": {},
   "outputs": [
    {
     "data": {
      "text/html": [
       "<div>\n",
       "<style scoped>\n",
       "    .dataframe tbody tr th:only-of-type {\n",
       "        vertical-align: middle;\n",
       "    }\n",
       "\n",
       "    .dataframe tbody tr th {\n",
       "        vertical-align: top;\n",
       "    }\n",
       "\n",
       "    .dataframe thead th {\n",
       "        text-align: right;\n",
       "    }\n",
       "</style>\n",
       "<table border=\"1\" class=\"dataframe\">\n",
       "  <thead>\n",
       "    <tr style=\"text-align: right;\">\n",
       "      <th></th>\n",
       "      <th>origin</th>\n",
       "      <th>name</th>\n",
       "    </tr>\n",
       "  </thead>\n",
       "  <tbody>\n",
       "    <tr>\n",
       "      <th>6</th>\n",
       "      <td>1.0</td>\n",
       "      <td>chevrolet impala</td>\n",
       "    </tr>\n",
       "    <tr>\n",
       "      <th>77</th>\n",
       "      <td>2.0</td>\n",
       "      <td>volkswagen 411 (sw)</td>\n",
       "    </tr>\n",
       "    <tr>\n",
       "      <th>146</th>\n",
       "      <td>1.0</td>\n",
       "      <td>dodge colt</td>\n",
       "    </tr>\n",
       "    <tr>\n",
       "      <th>218</th>\n",
       "      <td>2.0</td>\n",
       "      <td>renault 5 gtl</td>\n",
       "    </tr>\n",
       "    <tr>\n",
       "      <th>299</th>\n",
       "      <td>2.0</td>\n",
       "      <td>peugeot 504</td>\n",
       "    </tr>\n",
       "    <tr>\n",
       "      <th>353</th>\n",
       "      <td>2.0</td>\n",
       "      <td>volkswagen jetta</td>\n",
       "    </tr>\n",
       "    <tr>\n",
       "      <th>388</th>\n",
       "      <td>1.0</td>\n",
       "      <td>chrysler lebaron medallion</td>\n",
       "    </tr>\n",
       "  </tbody>\n",
       "</table>\n",
       "</div>"
      ],
      "text/plain": [
       "     origin                        name\n",
       "6       1.0            chevrolet impala\n",
       "77      2.0         volkswagen 411 (sw)\n",
       "146     1.0                  dodge colt\n",
       "218     2.0               renault 5 gtl\n",
       "299     2.0                 peugeot 504\n",
       "353     2.0            volkswagen jetta\n",
       "388     1.0  chrysler lebaron medallion"
      ]
     },
     "execution_count": 8,
     "metadata": {},
     "output_type": "execute_result"
    }
   ],
   "source": [
    "vehicle_makes = [\"chevrolet\",\"volkswagen\",\"dodge\",\"renault\",\"peugeot\",\"chrysler\"]\n",
    "\n",
    "for make in vehicle_makes:\n",
    "    mean = df_clean.loc[df_clean['name'].str.contains(make), 'origin'].mean()   # find the mean\n",
    "    # replace origin NaN for that make with its mean \n",
    "    df_clean.loc[(df_clean['name'].str.contains(make)) & (df_clean['origin'].isna()), 'origin'] = mean  \n",
    "\n",
    "df_clean.loc[origin_na_idx, ['origin', 'name']]"
   ]
  },
  {
   "cell_type": "markdown",
   "metadata": {},
   "source": [
    "***\n",
    "## Make sure no more missing values in df_clean"
   ]
  },
  {
   "cell_type": "code",
   "execution_count": 9,
   "metadata": {},
   "outputs": [
    {
     "data": {
      "text/plain": [
       "mpg             False\n",
       "cylinders       False\n",
       "displacement    False\n",
       "horsepower      False\n",
       "weight          False\n",
       "acceleration    False\n",
       "year            False\n",
       "origin          False\n",
       "name            False\n",
       "dtype: bool"
      ]
     },
     "execution_count": 9,
     "metadata": {},
     "output_type": "execute_result"
    }
   ],
   "source": [
    "df_clean.isna().any()  "
   ]
  },
  {
   "cell_type": "markdown",
   "metadata": {},
   "source": [
    "***\n",
    "## Remove `name` column\n",
    "\n",
    "Since the name column is all unique values (mostly) of type string, it won't add any predictive ability so I will remove it. For now, I will let all other columns remain."
   ]
  },
  {
   "cell_type": "code",
   "execution_count": 10,
   "metadata": {},
   "outputs": [
    {
     "name": "stdout",
     "output_type": "stream",
     "text": [
      "<class 'pandas.core.frame.DataFrame'>\n",
      "RangeIndex: 398 entries, 0 to 397\n",
      "Data columns (total 8 columns):\n",
      " #   Column        Non-Null Count  Dtype  \n",
      "---  ------        --------------  -----  \n",
      " 0   mpg           398 non-null    float64\n",
      " 1   cylinders     398 non-null    int32  \n",
      " 2   displacement  398 non-null    float64\n",
      " 3   horsepower    398 non-null    float64\n",
      " 4   weight        398 non-null    int64  \n",
      " 5   acceleration  398 non-null    float64\n",
      " 6   year          398 non-null    int32  \n",
      " 7   origin        398 non-null    int32  \n",
      "dtypes: float64(4), int32(3), int64(1)\n",
      "memory usage: 20.3 KB\n"
     ]
    }
   ],
   "source": [
    "# Now I will come back to part(a)\n",
    "# a) Remove uncessary column(s) that cannot be used for training any models. Explain why you choose those column(s).\n",
    "df_clean.drop(\"name\", axis=1, inplace=True)\n",
    "\n",
    "\n",
    "# c) Make sure columns labaled as \"multi-valued discrete\" are of integer type while \"continuous\" ones are of float type.\n",
    "df_clean['cylinders'] = df_clean['cylinders'].astype(int)\n",
    "df_clean['year'] = df_clean['year'].astype(int) # drop from df?\n",
    "df_clean['origin'] = df_clean['origin'].astype(int)\n",
    "\n",
    "df_clean.info()"
   ]
  },
  {
   "cell_type": "markdown",
   "metadata": {},
   "source": [
    "# 3) Prepare the following dataframes."
   ]
  },
  {
   "cell_type": "code",
   "execution_count": 11,
   "metadata": {},
   "outputs": [
    {
     "name": "stdout",
     "output_type": "stream",
     "text": [
      "full df_clean: (398, 8)\n",
      "features_train: (318, 7)\n",
      "features_test: (80, 7)\n",
      "response_train: (318, 1)\n",
      "response_test: (80, 1)\n"
     ]
    }
   ],
   "source": [
    "from sklearn.model_selection import train_test_split\n",
    "\n",
    "# a) Create a dataframe called \"response\" including only the column \"mpg\".\n",
    "response = df_clean[['mpg']]\n",
    "\n",
    "# b) Create a dataframe called \"features\" with the remaining columns.\n",
    "features = df_clean.iloc[:,1:]\n",
    "\n",
    "\n",
    "# c) Prepare a dataframe named \"features_train\": random 80% rows of the dataframe \"features\"\n",
    "# d) Prepare a dataframe named \"features_test\": random 20% rows of the dataframe \"features\"\n",
    "# e) Prepare a dataframe named \"response_train\": random 80% rows of the dataframe \"response\"\n",
    "# f) Prepare a dataframe named \"response_test\": random 20% rows of the dataframe \"response\"\n",
    "\n",
    "result_list = train_test_split(features, response, test_size=0.2, random_state=64)\n",
    "\n",
    "features_train, features_test, response_train, response_test = result_list\n",
    "\n",
    "print(\"full df_clean:\", df_clean.shape)\n",
    "print(\"features_train:\", features_train.shape)\n",
    "print(\"features_test:\", features_test.shape)\n",
    "print(\"response_train:\", response_train.shape)\n",
    "print(\"response_test:\", response_test.shape)"
   ]
  },
  {
   "cell_type": "markdown",
   "metadata": {},
   "source": [
    "# 4) Create a multiple linear regressoin model from scikit learn package. \n",
    "Train the model using the train data created above."
   ]
  },
  {
   "cell_type": "code",
   "execution_count": 12,
   "metadata": {},
   "outputs": [
    {
     "data": {
      "text/plain": [
       "LinearRegression(copy_X=True, fit_intercept=True, n_jobs=None, normalize=False)"
      ]
     },
     "execution_count": 12,
     "metadata": {},
     "output_type": "execute_result"
    }
   ],
   "source": [
    "from sklearn.linear_model import LinearRegression\n",
    "mlr = LinearRegression()\n",
    "mlr.fit(features_train, response_train)"
   ]
  },
  {
   "cell_type": "markdown",
   "metadata": {},
   "source": [
    "# 5) Produce predictions over the test data."
   ]
  },
  {
   "cell_type": "code",
   "execution_count": 13,
   "metadata": {},
   "outputs": [],
   "source": [
    "response_pred = mlr.predict(features_test)"
   ]
  },
  {
   "cell_type": "markdown",
   "metadata": {},
   "source": [
    "# 6) Evaluate the model performance over the test data by tabulating metrics of Mean Absolute Error, Mean Squared Error and Root Mean Squared Error."
   ]
  },
  {
   "cell_type": "code",
   "execution_count": 14,
   "metadata": {},
   "outputs": [
    {
     "data": {
      "image/png": "[encoded data removed]",
      "text/plain": [
       "<Figure size 504x432 with 1 Axes>"
      ]
     },
     "metadata": {
      "needs_background": "light"
     },
     "output_type": "display_data"
    }
   ],
   "source": [
    "import matplotlib.pyplot as plt\n",
    "plt.figure(figsize=(7, 6))\n",
    "plt.scatter(response_test, response_pred)\n",
    "plt.ylabel('Predicted MPG', size = 12)\n",
    "plt.xlabel('Actual MPG', size = 12)\n",
    "plt.show()"
   ]
  },
  {
   "cell_type": "code",
   "execution_count": 15,
   "metadata": {},
   "outputs": [
    {
     "data": {
      "text/html": [
       "<div>\n",
       "<style scoped>\n",
       "    .dataframe tbody tr th:only-of-type {\n",
       "        vertical-align: middle;\n",
       "    }\n",
       "\n",
       "    .dataframe tbody tr th {\n",
       "        vertical-align: top;\n",
       "    }\n",
       "\n",
       "    .dataframe thead th {\n",
       "        text-align: right;\n",
       "    }\n",
       "</style>\n",
       "<table border=\"1\" class=\"dataframe\">\n",
       "  <thead>\n",
       "    <tr style=\"text-align: right;\">\n",
       "      <th></th>\n",
       "      <th>metric</th>\n",
       "      <th>Model_1</th>\n",
       "    </tr>\n",
       "  </thead>\n",
       "  <tbody>\n",
       "    <tr>\n",
       "      <th>0</th>\n",
       "      <td>Mean Absolute Error</td>\n",
       "      <td>2.4539</td>\n",
       "    </tr>\n",
       "    <tr>\n",
       "      <th>1</th>\n",
       "      <td>Mean Squared Error</td>\n",
       "      <td>9.4026</td>\n",
       "    </tr>\n",
       "    <tr>\n",
       "      <th>2</th>\n",
       "      <td>Root Mean Squared Error</td>\n",
       "      <td>3.0664</td>\n",
       "    </tr>\n",
       "    <tr>\n",
       "      <th>3</th>\n",
       "      <td>R squared</td>\n",
       "      <td>0.8048</td>\n",
       "    </tr>\n",
       "  </tbody>\n",
       "</table>\n",
       "</div>"
      ],
      "text/plain": [
       "                    metric  Model_1\n",
       "0      Mean Absolute Error   2.4539\n",
       "1       Mean Squared Error   9.4026\n",
       "2  Root Mean Squared Error   3.0664\n",
       "3                R squared   0.8048"
      ]
     },
     "execution_count": 15,
     "metadata": {},
     "output_type": "execute_result"
    }
   ],
   "source": [
    "import numpy as np\n",
    "from sklearn import metrics\n",
    "\n",
    "results_dict = {'Mean Absolute Error':round(metrics.mean_absolute_error(response_test, response_pred), 4),\n",
    "    'Mean Squared Error':round(metrics.mean_squared_error(response_test, response_pred), 4),\n",
    "    'Root Mean Squared Error':round(np.sqrt(metrics.mean_squared_error(response_test, response_pred)), 4),\n",
    "    'R squared':round(metrics.r2_score(response_test, response_pred), 4)}\n",
    "\n",
    "results_df = pd.DataFrame(results_dict.items(), columns=['metric','Model_1'])\n",
    "results_df"
   ]
  },
  {
   "cell_type": "markdown",
   "metadata": {},
   "source": [
    "# 7) Normalize the data stored in df_clean."
   ]
  },
  {
   "cell_type": "code",
   "execution_count": 16,
   "metadata": {},
   "outputs": [
    {
     "data": {
      "text/html": [
       "<div>\n",
       "<style scoped>\n",
       "    .dataframe tbody tr th:only-of-type {\n",
       "        vertical-align: middle;\n",
       "    }\n",
       "\n",
       "    .dataframe tbody tr th {\n",
       "        vertical-align: top;\n",
       "    }\n",
       "\n",
       "    .dataframe thead th {\n",
       "        text-align: right;\n",
       "    }\n",
       "</style>\n",
       "<table border=\"1\" class=\"dataframe\">\n",
       "  <thead>\n",
       "    <tr style=\"text-align: right;\">\n",
       "      <th></th>\n",
       "      <th>mpg</th>\n",
       "      <th>cylinders</th>\n",
       "      <th>displacement</th>\n",
       "      <th>horsepower</th>\n",
       "      <th>weight</th>\n",
       "      <th>acceleration</th>\n",
       "      <th>year</th>\n",
       "      <th>origin</th>\n",
       "    </tr>\n",
       "  </thead>\n",
       "  <tbody>\n",
       "    <tr>\n",
       "      <th>0</th>\n",
       "      <td>0.239362</td>\n",
       "      <td>1.0</td>\n",
       "      <td>0.617571</td>\n",
       "      <td>0.456522</td>\n",
       "      <td>0.536150</td>\n",
       "      <td>0.238095</td>\n",
       "      <td>0.0</td>\n",
       "      <td>0.0</td>\n",
       "    </tr>\n",
       "    <tr>\n",
       "      <th>1</th>\n",
       "      <td>0.159574</td>\n",
       "      <td>1.0</td>\n",
       "      <td>0.728682</td>\n",
       "      <td>0.646739</td>\n",
       "      <td>0.589736</td>\n",
       "      <td>0.208333</td>\n",
       "      <td>0.0</td>\n",
       "      <td>0.0</td>\n",
       "    </tr>\n",
       "    <tr>\n",
       "      <th>2</th>\n",
       "      <td>0.239362</td>\n",
       "      <td>1.0</td>\n",
       "      <td>0.645995</td>\n",
       "      <td>0.565217</td>\n",
       "      <td>0.516870</td>\n",
       "      <td>0.178571</td>\n",
       "      <td>0.0</td>\n",
       "      <td>0.0</td>\n",
       "    </tr>\n",
       "    <tr>\n",
       "      <th>3</th>\n",
       "      <td>0.186170</td>\n",
       "      <td>1.0</td>\n",
       "      <td>0.609819</td>\n",
       "      <td>0.565217</td>\n",
       "      <td>0.516019</td>\n",
       "      <td>0.238095</td>\n",
       "      <td>0.0</td>\n",
       "      <td>0.0</td>\n",
       "    </tr>\n",
       "    <tr>\n",
       "      <th>4</th>\n",
       "      <td>0.212766</td>\n",
       "      <td>1.0</td>\n",
       "      <td>0.604651</td>\n",
       "      <td>0.510870</td>\n",
       "      <td>0.520556</td>\n",
       "      <td>0.148810</td>\n",
       "      <td>0.0</td>\n",
       "      <td>0.0</td>\n",
       "    </tr>\n",
       "  </tbody>\n",
       "</table>\n",
       "</div>"
      ],
      "text/plain": [
       "        mpg  cylinders  displacement  horsepower    weight  acceleration  \\\n",
       "0  0.239362        1.0      0.617571    0.456522  0.536150      0.238095   \n",
       "1  0.159574        1.0      0.728682    0.646739  0.589736      0.208333   \n",
       "2  0.239362        1.0      0.645995    0.565217  0.516870      0.178571   \n",
       "3  0.186170        1.0      0.609819    0.565217  0.516019      0.238095   \n",
       "4  0.212766        1.0      0.604651    0.510870  0.520556      0.148810   \n",
       "\n",
       "   year  origin  \n",
       "0   0.0     0.0  \n",
       "1   0.0     0.0  \n",
       "2   0.0     0.0  \n",
       "3   0.0     0.0  \n",
       "4   0.0     0.0  "
      ]
     },
     "execution_count": 16,
     "metadata": {},
     "output_type": "execute_result"
    }
   ],
   "source": [
    "from sklearn.preprocessing import MinMaxScaler\n",
    "scaler = MinMaxScaler() \n",
    "data_normalized = scaler.fit_transform(df_clean)\n",
    "df_normalized = pd.DataFrame(data_normalized, columns = df_clean.columns.to_list())\n",
    "\n",
    "df_normalized.head()"
   ]
  },
  {
   "cell_type": "markdown",
   "metadata": {},
   "source": [
    "# 8) Fit a multiple linear regression model using the normalized data."
   ]
  },
  {
   "cell_type": "code",
   "execution_count": 17,
   "metadata": {},
   "outputs": [
    {
     "data": {
      "text/plain": [
       "LinearRegression(copy_X=True, fit_intercept=True, n_jobs=None, normalize=False)"
      ]
     },
     "execution_count": 17,
     "metadata": {},
     "output_type": "execute_result"
    }
   ],
   "source": [
    "from sklearn.linear_model import LinearRegression\n",
    "mlr_norm = LinearRegression()\n",
    "features_norm = df_normalized.iloc[:,1:]\n",
    "response_norm = df_normalized[['mpg']]\n",
    "mlr_norm.fit(features_norm, response_norm) "
   ]
  },
  {
   "cell_type": "markdown",
   "metadata": {},
   "source": [
    "# 9) Extract Feature Importance. \n",
    "\n",
    "Report the coefficients (i.e. estimated parameters) of the fit model."
   ]
  },
  {
   "cell_type": "code",
   "execution_count": 18,
   "metadata": {},
   "outputs": [
    {
     "data": {
      "text/html": [
       "<div>\n",
       "<style scoped>\n",
       "    .dataframe tbody tr th:only-of-type {\n",
       "        vertical-align: middle;\n",
       "    }\n",
       "\n",
       "    .dataframe tbody tr th {\n",
       "        vertical-align: top;\n",
       "    }\n",
       "\n",
       "    .dataframe thead th {\n",
       "        text-align: right;\n",
       "    }\n",
       "</style>\n",
       "<table border=\"1\" class=\"dataframe\">\n",
       "  <thead>\n",
       "    <tr style=\"text-align: right;\">\n",
       "      <th></th>\n",
       "      <th>normalized_coef</th>\n",
       "    </tr>\n",
       "  </thead>\n",
       "  <tbody>\n",
       "    <tr>\n",
       "      <th>cylinders</th>\n",
       "      <td>-0.0561</td>\n",
       "    </tr>\n",
       "    <tr>\n",
       "      <th>displacement</th>\n",
       "      <td>0.1985</td>\n",
       "    </tr>\n",
       "    <tr>\n",
       "      <th>horsepower</th>\n",
       "      <td>-0.0678</td>\n",
       "    </tr>\n",
       "    <tr>\n",
       "      <th>weight</th>\n",
       "      <td>-0.6255</td>\n",
       "    </tr>\n",
       "    <tr>\n",
       "      <th>acceleration</th>\n",
       "      <td>0.0410</td>\n",
       "    </tr>\n",
       "    <tr>\n",
       "      <th>year</th>\n",
       "      <td>0.2407</td>\n",
       "    </tr>\n",
       "    <tr>\n",
       "      <th>origin</th>\n",
       "      <td>0.0763</td>\n",
       "    </tr>\n",
       "  </tbody>\n",
       "</table>\n",
       "</div>"
      ],
      "text/plain": [
       "              normalized_coef\n",
       "cylinders             -0.0561\n",
       "displacement           0.1985\n",
       "horsepower            -0.0678\n",
       "weight                -0.6255\n",
       "acceleration           0.0410\n",
       "year                   0.2407\n",
       "origin                 0.0763"
      ]
     },
     "execution_count": 18,
     "metadata": {},
     "output_type": "execute_result"
    }
   ],
   "source": [
    "importance = mlr_norm.coef_[0].round(4)      # list of estimated coeff parameters \n",
    "feature_names = df_normalized.columns.to_list()\n",
    "feature_names.remove('mpg')\n",
    "# summarize feature importance\n",
    "coef_df = pd.DataFrame(importance, index=feature_names, columns=[\"normalized_coef\"])\n",
    "coef_df"
   ]
  },
  {
   "cell_type": "markdown",
   "metadata": {},
   "source": [
    "## 10) Summarize results with a bar chart."
   ]
  },
  {
   "cell_type": "code",
   "execution_count": 19,
   "metadata": {},
   "outputs": [
    {
     "data": {
      "image/png": "[encoded data removed]",
      "text/plain": [
       "<Figure size 720x360 with 1 Axes>"
      ]
     },
     "metadata": {
      "needs_background": "light"
     },
     "output_type": "display_data"
    }
   ],
   "source": [
    "from matplotlib import pyplot\n",
    "pyplot.figure(figsize=(10, 5))\n",
    "# plot feature importance\n",
    "pyplot.bar(x = list(range(len(importance))), height = importance, tick_label = feature_names)\n",
    "pyplot.title('MPG Feature Importance')\n",
    "pyplot.xlabel('Features')\n",
    "pyplot.ylabel('Normalized Coefficient')\n",
    "pyplot.show()"
   ]
  },
  {
   "cell_type": "markdown",
   "metadata": {},
   "source": [
    "***\n",
    "# Bonus Questions:\n",
    "## 11) Analyze the results from the bar chart. \n"
   ]
  },
  {
   "cell_type": "markdown",
   "metadata": {},
   "source": [
    "In the plot above, we can see that `cylinders`, `horsepower`, and `acceleration` don't seem to contribute much to the model. In the output below, we can see that all three of these predictors do not have a significant (p>0.05) contribution to the model. Therefore, I will remove them to see if it improves model performance."
   ]
  },
  {
   "cell_type": "code",
   "execution_count": 20,
   "metadata": {},
   "outputs": [
    {
     "name": "stdout",
     "output_type": "stream",
     "text": [
      "                            OLS Regression Results                            \n",
      "==============================================================================\n",
      "Dep. Variable:                    mpg   R-squared:                       0.821\n",
      "Model:                            OLS   Adj. R-squared:                  0.818\n",
      "Method:                 Least Squares   F-statistic:                     255.6\n",
      "Date:                Tue, 07 Jul 2020   Prob (F-statistic):          1.96e-141\n",
      "Time:                        11:57:00   Log-Likelihood:                 403.34\n",
      "No. Observations:                 398   AIC:                            -790.7\n",
      "Df Residuals:                     390   BIC:                            -758.8\n",
      "Df Model:                           7                                         \n",
      "Covariance Type:            nonrobust                                         \n",
      "================================================================================\n",
      "                   coef    std err          t      P>|t|      [0.025      0.975]\n",
      "--------------------------------------------------------------------------------\n",
      "const            0.4505      0.031     14.692      0.000       0.390       0.511\n",
      "cylinders       -0.0561      0.043     -1.312      0.190      -0.140       0.028\n",
      "displacement     0.1985      0.077      2.564      0.011       0.046       0.351\n",
      "horsepower      -0.0678      0.067     -1.013      0.312      -0.199       0.064\n",
      "weight          -0.6255      0.061    -10.337      0.000      -0.744      -0.507\n",
      "acceleration     0.0410      0.044      0.940      0.348      -0.045       0.127\n",
      "year             0.2407      0.016     14.897      0.000       0.209       0.272\n",
      "origin           0.0763      0.015      5.182      0.000       0.047       0.105\n",
      "==============================================================================\n",
      "Omnibus:                       30.702   Durbin-Watson:                   1.291\n",
      "Prob(Omnibus):                  0.000   Jarque-Bera (JB):               49.508\n",
      "Skew:                           0.517   Prob(JB):                     1.78e-11\n",
      "Kurtosis:                       4.384   Cond. No.                         29.4\n",
      "==============================================================================\n",
      "\n",
      "Warnings:\n",
      "[1] Standard Errors assume that the covariance matrix of the errors is correctly specified.\n"
     ]
    }
   ],
   "source": [
    "import statsmodels.api as sm\n",
    "\n",
    "X = features_norm \n",
    "y = response_norm \n",
    "\n",
    "X2 = sm.add_constant(X)\n",
    "est = sm.OLS(y, X2)\n",
    "est2 = est.fit()\n",
    "print(est2.summary())"
   ]
  },
  {
   "cell_type": "markdown",
   "metadata": {},
   "source": [
    "## Drop least important features from df_clean.\n",
    "### First I will try removing just `cylinders` and `horsepower`"
   ]
  },
  {
   "cell_type": "code",
   "execution_count": 21,
   "metadata": {},
   "outputs": [],
   "source": [
    "# Remove non-significant predictors\n",
    "df_new = df_clean.drop([\"cylinders\",\"horsepower\"], axis=1) "
   ]
  },
  {
   "cell_type": "markdown",
   "metadata": {},
   "source": [
    "## 12) Repeat Questions 3 - 6\n",
    "Report the updated metrics of Mean Absolute Error, Mean Squared Error and Root Mean Squared Error. Compare the updated metric results agains the previous ones. "
   ]
  },
  {
   "cell_type": "code",
   "execution_count": 22,
   "metadata": {},
   "outputs": [
    {
     "data": {
      "text/html": [
       "<div>\n",
       "<style scoped>\n",
       "    .dataframe tbody tr th:only-of-type {\n",
       "        vertical-align: middle;\n",
       "    }\n",
       "\n",
       "    .dataframe tbody tr th {\n",
       "        vertical-align: top;\n",
       "    }\n",
       "\n",
       "    .dataframe thead th {\n",
       "        text-align: right;\n",
       "    }\n",
       "</style>\n",
       "<table border=\"1\" class=\"dataframe\">\n",
       "  <thead>\n",
       "    <tr style=\"text-align: right;\">\n",
       "      <th></th>\n",
       "      <th>metric</th>\n",
       "      <th>Model_1</th>\n",
       "      <th>-cyl_hp</th>\n",
       "    </tr>\n",
       "  </thead>\n",
       "  <tbody>\n",
       "    <tr>\n",
       "      <th>0</th>\n",
       "      <td>Mean Absolute Error</td>\n",
       "      <td>2.4539</td>\n",
       "      <td>2.4540</td>\n",
       "    </tr>\n",
       "    <tr>\n",
       "      <th>1</th>\n",
       "      <td>Mean Squared Error</td>\n",
       "      <td>9.4026</td>\n",
       "      <td>9.4137</td>\n",
       "    </tr>\n",
       "    <tr>\n",
       "      <th>2</th>\n",
       "      <td>Root Mean Squared Error</td>\n",
       "      <td>3.0664</td>\n",
       "      <td>3.0682</td>\n",
       "    </tr>\n",
       "    <tr>\n",
       "      <th>3</th>\n",
       "      <td>R squared</td>\n",
       "      <td>0.8048</td>\n",
       "      <td>0.8046</td>\n",
       "    </tr>\n",
       "  </tbody>\n",
       "</table>\n",
       "</div>"
      ],
      "text/plain": [
       "                    metric  Model_1  -cyl_hp\n",
       "0      Mean Absolute Error   2.4539   2.4540\n",
       "1       Mean Squared Error   9.4026   9.4137\n",
       "2  Root Mean Squared Error   3.0664   3.0682\n",
       "3                R squared   0.8048   0.8046"
      ]
     },
     "execution_count": 22,
     "metadata": {},
     "output_type": "execute_result"
    }
   ],
   "source": [
    "# 3) Prepare the following dataframes.\n",
    "\n",
    "from sklearn.model_selection import train_test_split\n",
    "\n",
    "# a) Create a dataframe called \"response_new\" including only the column \"mpg\".\n",
    "response_new = df_new[['mpg']]\n",
    "\n",
    "# b) Create a dataframe called \"features_new\" with the remaining columns.\n",
    "features_new = df_new.iloc[:,1:]\n",
    "\n",
    "\n",
    "# c) Prepare a dataframe named \"features_train_new\": random 80% rows of the dataframe \"features_new\"\n",
    "# d) Prepare a dataframe named \"features_test_new\": random 20% rows of the dataframe \"features_new\"\n",
    "# e) Prepare a dataframe named \"response_train_new\": random 80% rows of the dataframe \"response_new\"\n",
    "# f) Prepare a dataframe named \"response_test_new\": random 20% rows of the dataframe \"response_new\"\n",
    "\n",
    "result_list_new = train_test_split(features_new, response_new, test_size=0.2, random_state=64)\n",
    "\n",
    "features_train_new, features_test_new, response_train_new, response_test_new = result_list_new\n",
    "\n",
    "\n",
    "# 4) Create a multiple linear regressoin model from scikit learn package. \n",
    "# Train the model using the train data created above.\n",
    "\n",
    "from sklearn.linear_model import LinearRegression\n",
    "mlr_new = LinearRegression()\n",
    "mlr_new.fit(features_train_new, response_train_new)\n",
    "\n",
    "# 5) Produce predictions over the test data.\n",
    "\n",
    "response_pred_new = mlr_new.predict(features_test_new)\n",
    "\n",
    "\n",
    "# 6) Evaluate the model performance over the test data by tabulating metrics of Mean Absolute Error, Mean Squared Error and Root Mean Squared Error.\n",
    "results_metrics_new = [round(metrics.mean_absolute_error(response_test_new, response_pred_new), 4),\n",
    "    round(metrics.mean_squared_error(response_test_new, response_pred_new), 4),\n",
    "    round(np.sqrt(metrics.mean_squared_error(response_test_new, response_pred_new)), 4),\n",
    "    round(metrics.r2_score(response_test_new, response_pred_new), 4)]\n",
    "\n",
    "results_df['-cyl_hp'] = results_metrics_new\n",
    "results_df"
   ]
  },
  {
   "cell_type": "markdown",
   "metadata": {},
   "source": [
    "###  Try again just removing `acceleration`"
   ]
  },
  {
   "cell_type": "code",
   "execution_count": 23,
   "metadata": {},
   "outputs": [
    {
     "data": {
      "text/html": [
       "<div>\n",
       "<style scoped>\n",
       "    .dataframe tbody tr th:only-of-type {\n",
       "        vertical-align: middle;\n",
       "    }\n",
       "\n",
       "    .dataframe tbody tr th {\n",
       "        vertical-align: top;\n",
       "    }\n",
       "\n",
       "    .dataframe thead th {\n",
       "        text-align: right;\n",
       "    }\n",
       "</style>\n",
       "<table border=\"1\" class=\"dataframe\">\n",
       "  <thead>\n",
       "    <tr style=\"text-align: right;\">\n",
       "      <th></th>\n",
       "      <th>metric</th>\n",
       "      <th>Model_1</th>\n",
       "      <th>-cyl_hp</th>\n",
       "      <th>-accel</th>\n",
       "    </tr>\n",
       "  </thead>\n",
       "  <tbody>\n",
       "    <tr>\n",
       "      <th>0</th>\n",
       "      <td>Mean Absolute Error</td>\n",
       "      <td>2.4539</td>\n",
       "      <td>2.4540</td>\n",
       "      <td>2.4597</td>\n",
       "    </tr>\n",
       "    <tr>\n",
       "      <th>1</th>\n",
       "      <td>Mean Squared Error</td>\n",
       "      <td>9.4026</td>\n",
       "      <td>9.4137</td>\n",
       "      <td>9.4660</td>\n",
       "    </tr>\n",
       "    <tr>\n",
       "      <th>2</th>\n",
       "      <td>Root Mean Squared Error</td>\n",
       "      <td>3.0664</td>\n",
       "      <td>3.0682</td>\n",
       "      <td>3.0767</td>\n",
       "    </tr>\n",
       "    <tr>\n",
       "      <th>3</th>\n",
       "      <td>R squared</td>\n",
       "      <td>0.8048</td>\n",
       "      <td>0.8046</td>\n",
       "      <td>0.8035</td>\n",
       "    </tr>\n",
       "  </tbody>\n",
       "</table>\n",
       "</div>"
      ],
      "text/plain": [
       "                    metric  Model_1  -cyl_hp  -accel\n",
       "0      Mean Absolute Error   2.4539   2.4540  2.4597\n",
       "1       Mean Squared Error   9.4026   9.4137  9.4660\n",
       "2  Root Mean Squared Error   3.0664   3.0682  3.0767\n",
       "3                R squared   0.8048   0.8046  0.8035"
      ]
     },
     "execution_count": 23,
     "metadata": {},
     "output_type": "execute_result"
    }
   ],
   "source": [
    "# Remove non-significant predictors\n",
    "df_new = df_clean.drop([\"acceleration\"], axis=1) \n",
    "\n",
    "# 3) Prepare the following dataframes.\n",
    "\n",
    "from sklearn.model_selection import train_test_split\n",
    "\n",
    "# a) Create a dataframe called \"response_new\" including only the column \"mpg\".\n",
    "response_new = df_new[['mpg']]\n",
    "\n",
    "# b) Create a dataframe called \"features_new\" with the remaining columns.\n",
    "features_new = df_new.iloc[:,1:]\n",
    "\n",
    "\n",
    "# c) Prepare a dataframe named \"features_train_new\": random 80% rows of the dataframe \"features_new\"\n",
    "# d) Prepare a dataframe named \"features_test_new\": random 20% rows of the dataframe \"features_new\"\n",
    "# e) Prepare a dataframe named \"response_train_new\": random 80% rows of the dataframe \"response_new\"\n",
    "# f) Prepare a dataframe named \"response_test_new\": random 20% rows of the dataframe \"response_new\"\n",
    "\n",
    "result_list_new = train_test_split(features_new, response_new, test_size=0.2, random_state=64)\n",
    "\n",
    "features_train_new, features_test_new, response_train_new, response_test_new = result_list_new\n",
    "\n",
    "\n",
    "# 4) Create a multiple linear regressoin model from scikit learn package. \n",
    "# Train the model using the train data created above.\n",
    "\n",
    "from sklearn.linear_model import LinearRegression\n",
    "mlr_new = LinearRegression()\n",
    "mlr_new.fit(features_train_new, response_train_new)\n",
    "\n",
    "# 5) Produce predictions over the test data.\n",
    "\n",
    "response_pred_new = mlr_new.predict(features_test_new)\n",
    "\n",
    "\n",
    "# 6) Evaluate the model performance over the test data by tabulating metrics of Mean Absolute Error, Mean Squared Error and Root Mean Squared Error.\n",
    "results_metrics_new = [round(metrics.mean_absolute_error(response_test_new, response_pred_new), 4),\n",
    "    round(metrics.mean_squared_error(response_test_new, response_pred_new), 4),\n",
    "    round(np.sqrt(metrics.mean_squared_error(response_test_new, response_pred_new)), 4),\n",
    "    round(metrics.r2_score(response_test_new, response_pred_new), 4)]\n",
    "\n",
    "results_df['-accel'] = results_metrics_new\n",
    "results_df"
   ]
  },
  {
   "cell_type": "markdown",
   "metadata": {},
   "source": [
    "###  Try again just removing all three: `cylinders`, `horsepower`, and `acceleration`"
   ]
  },
  {
   "cell_type": "code",
   "execution_count": 24,
   "metadata": {},
   "outputs": [
    {
     "data": {
      "text/html": [
       "<div>\n",
       "<style scoped>\n",
       "    .dataframe tbody tr th:only-of-type {\n",
       "        vertical-align: middle;\n",
       "    }\n",
       "\n",
       "    .dataframe tbody tr th {\n",
       "        vertical-align: top;\n",
       "    }\n",
       "\n",
       "    .dataframe thead th {\n",
       "        text-align: right;\n",
       "    }\n",
       "</style>\n",
       "<table border=\"1\" class=\"dataframe\">\n",
       "  <thead>\n",
       "    <tr style=\"text-align: right;\">\n",
       "      <th></th>\n",
       "      <th>metric</th>\n",
       "      <th>Model_1</th>\n",
       "      <th>-cyl_hp</th>\n",
       "      <th>-accel</th>\n",
       "      <th>-cyl_hp_accel</th>\n",
       "    </tr>\n",
       "  </thead>\n",
       "  <tbody>\n",
       "    <tr>\n",
       "      <th>0</th>\n",
       "      <td>Mean Absolute Error</td>\n",
       "      <td>2.4539</td>\n",
       "      <td>2.4540</td>\n",
       "      <td>2.4597</td>\n",
       "      <td>2.4756</td>\n",
       "    </tr>\n",
       "    <tr>\n",
       "      <th>1</th>\n",
       "      <td>Mean Squared Error</td>\n",
       "      <td>9.4026</td>\n",
       "      <td>9.4137</td>\n",
       "      <td>9.4660</td>\n",
       "      <td>9.6851</td>\n",
       "    </tr>\n",
       "    <tr>\n",
       "      <th>2</th>\n",
       "      <td>Root Mean Squared Error</td>\n",
       "      <td>3.0664</td>\n",
       "      <td>3.0682</td>\n",
       "      <td>3.0767</td>\n",
       "      <td>3.1121</td>\n",
       "    </tr>\n",
       "    <tr>\n",
       "      <th>3</th>\n",
       "      <td>R squared</td>\n",
       "      <td>0.8048</td>\n",
       "      <td>0.8046</td>\n",
       "      <td>0.8035</td>\n",
       "      <td>0.7990</td>\n",
       "    </tr>\n",
       "  </tbody>\n",
       "</table>\n",
       "</div>"
      ],
      "text/plain": [
       "                    metric  Model_1  -cyl_hp  -accel  -cyl_hp_accel\n",
       "0      Mean Absolute Error   2.4539   2.4540  2.4597         2.4756\n",
       "1       Mean Squared Error   9.4026   9.4137  9.4660         9.6851\n",
       "2  Root Mean Squared Error   3.0664   3.0682  3.0767         3.1121\n",
       "3                R squared   0.8048   0.8046  0.8035         0.7990"
      ]
     },
     "execution_count": 24,
     "metadata": {},
     "output_type": "execute_result"
    }
   ],
   "source": [
    "# Remove non-significant predictors\n",
    "df_new = df_clean.drop([\"cylinders\",\"horsepower\",\"acceleration\"], axis=1) \n",
    "\n",
    "# 3) Prepare the following dataframes.\n",
    "\n",
    "from sklearn.model_selection import train_test_split\n",
    "\n",
    "# a) Create a dataframe called \"response_new\" including only the column \"mpg\".\n",
    "response_new = df_new[['mpg']]\n",
    "\n",
    "# b) Create a dataframe called \"features_new\" with the remaining columns.\n",
    "features_new = df_new.iloc[:,1:]\n",
    "\n",
    "\n",
    "# c) Prepare a dataframe named \"features_train_new\": random 80% rows of the dataframe \"features_new\"\n",
    "# d) Prepare a dataframe named \"features_test_new\": random 20% rows of the dataframe \"features_new\"\n",
    "# e) Prepare a dataframe named \"response_train_new\": random 80% rows of the dataframe \"response_new\"\n",
    "# f) Prepare a dataframe named \"response_test_new\": random 20% rows of the dataframe \"response_new\"\n",
    "\n",
    "result_list_new = train_test_split(features_new, response_new, test_size=0.2, random_state=64)\n",
    "\n",
    "features_train_new, features_test_new, response_train_new, response_test_new = result_list_new\n",
    "\n",
    "\n",
    "# 4) Create a multiple linear regressoin model from scikit learn package. \n",
    "# Train the model using the train data created above.\n",
    "\n",
    "from sklearn.linear_model import LinearRegression\n",
    "mlr_new = LinearRegression()\n",
    "mlr_new.fit(features_train_new, response_train_new)\n",
    "\n",
    "# 5) Produce predictions over the test data.\n",
    "\n",
    "response_pred_new = mlr_new.predict(features_test_new)\n",
    "\n",
    "\n",
    "# 6) Evaluate the model performance over the test data by tabulating metrics of Mean Absolute Error, Mean Squared Error and Root Mean Squared Error.\n",
    "results_metrics_new = [round(metrics.mean_absolute_error(response_test_new, response_pred_new), 4),\n",
    "    round(metrics.mean_squared_error(response_test_new, response_pred_new), 4),\n",
    "    round(np.sqrt(metrics.mean_squared_error(response_test_new, response_pred_new)), 4),\n",
    "    round(metrics.r2_score(response_test_new, response_pred_new), 4)]\n",
    "\n",
    "results_df['-cyl_hp_accel'] = results_metrics_new\n",
    "results_df"
   ]
  },
  {
   "cell_type": "markdown",
   "metadata": {},
   "source": [
    "## Conclusion\n",
    "The original model was the best predictor. Removing `cylinders`, `horsepower`, and `acceleration` in any combination produces a slightly worse performance in all model metrics. "
   ]
  }
 ],
 "metadata": {
  "kernelspec": {
   "display_name": "Python 3",
   "language": "python",
   "name": "python3"
  },
  "language_info": {
   "codemirror_mode": {
    "name": "ipython",
    "version": 3
   },
   "file_extension": ".py",
   "mimetype": "text/x-python",
   "name": "python",
   "nbconvert_exporter": "python",
   "pygments_lexer": "ipython3",
   "version": "3.7.7"
  }
 },
 "nbformat": 4,
 "nbformat_minor": 4
}
