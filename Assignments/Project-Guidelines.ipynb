{
 "cells": [
  {
   "cell_type": "markdown",
   "metadata": {},
   "source": [
    "# <center> <h1>Project Guidelines</h1> </center>\n",
    "<center> <h1>EIN 4933/6935 Python for Data Science Summer 2020</h1> </center>"
   ]
  },
  {
   "cell_type": "markdown",
   "metadata": {},
   "source": [
    "Two major types of problems that machine learning algorithms try to solve are:\n",
    "\n",
    "**Regression** — Predict continuous value of a given data point<br/>\n",
    "**Classification** — Predict the class of the given data point<br/>\n",
    "\n",
    "In you project, choose one type of problem and make sure to follow the steps listed below:"
   ]
  },
  {
   "cell_type": "markdown",
   "metadata": {},
   "source": [
    "**Step-1 Problem Definition:**<br/>\n",
    "Choose a problem whose data set is available. This problem should either fall into regression or classification group. You can choose one of the datasets that are listed below. You are also free to choose another dataset that you are familiar with. You must write a summary about the problem and the associated dataset. <br/>\n",
    "**Step-2: Data Cleaning and Preprocessing:**<br/>\n",
    "In this step, you must identify the relevant columns in the dataset that can be used as predictors. Any irrelevant data columns must be excluded from the analysis. If there are any missing values in the dataset, they should be replaced through a data imputation method. Any missing rows should be deleted from the dataset. Each column data type must be converted into an appropriate data type. The data types can be obtained either in data info files or can be determined by inspection.  <br/>\n",
    "**Step-3 (optional): Feature Extraction/Addition:**<br/>\n",
    "In this step, additional features can be added to the existing dataset. The existing features can be altered in a way that can better serve for training the underlying model. You can skip this step if you think there is no room for extracting/adding extra features.<br/>\n",
    "**Step-4: Data Scaling (optional):**<br/>\n",
    "Transform your data so that it fits within a specific scale. For example standardization or normalization. You can skip this step if you think your dataset does not contain features highly varying in magnitudes, units and range.<br/>\n",
    "**Step-5: Data Splitting:**<br/>\n",
    "This step should start with creating two dataframes: response and features. Split these dataframes into train and test parts.<br/>\n",
    "**Step-6: Model Selection, Model Fitting and Model Evaluation:**<br/>\n",
    "Choose an appropriate model that can be used for your problem. You can choose a model that is listed under a given problem group below. You are also free to choose another model that you are familiar with. Fit your train data to your model. Generate predictions over the test data and then evaluate your model by reporting appropriate accuracy metrics.<br/>\n",
    "**Step-7: Report Feature Importance:**<br/>\n",
    "You must report the feature importance results.<br/>\n",
    "**Step-8: Improve Your Results:**<br/>\n",
    "Choose one or multiple different methods to improve your baseline results that you reported in the previous step. For example, you can enumerate multiple different models and recommend the one that gives the best accuracy metrics results. Or you can develop feature elimination strategy that yields better results. You are also free to choose another method that you are familiar with.<br/>"
   ]
  },
  {
   "cell_type": "markdown",
   "metadata": {},
   "source": [
    "## Regression Problem\n",
    "Models to consider:<br/>\n",
    "**Multiple Linear Regression**<br/>\n",
    "**Decision Trees**<br/>\n",
    "**Random Forecast**<br/>\n",
    "**Support Vector Machines**<br/>\n",
    "Any other model that can be used for regression problem.<br/>\n",
    "\n",
    "#### Example Data Sets for Regression Problem:\n",
    "**1) Nba:** Predict the salary of an NBA player.<br/> \n",
    "Dowload link: https://sites.google.com/site/yasinunlu/home/research/new1/nba.csv<br/> \n",
    "**2) Automobile Data Set:** Predict car prices.<br/> \n",
    "Dowload link:https://sites.google.com/site/yasinunlu/home/research/new1/AutomobileDataSet.xlsx<br/> \n",
    "More info: https://sites.google.com/site/yasinunlu/home/research/new1/auto_prices_info.txt<br/>\n",
    "**3) Auto Mpg:** Predict the mpg of an automobile.<br/> \n",
    "Dowload link:https://sites.google.com/site/yasinunlu/home/research/new1/mpg.zip"
   ]
  },
  {
   "cell_type": "markdown",
   "metadata": {},
   "source": [
    "## Classification Problem\n",
    "Models to consider:<br/>\n",
    "**Logistic Regression**<br/>\n",
    "**Decision Trees**<br/>\n",
    "**Random Forest**<br/>\n",
    "**Nearest Neighbor**<br/>\n",
    "**Support Vector Machines**<br/>\n",
    "**Naïve Bayes**<br/>\n",
    "Any other model that can be used for classification problem.<br/>\n",
    "\n",
    "#### Example Data Sets for Classification Problem:\n",
    "**1) Titanic:** Predict whether a passenger survived.<br/> \n",
    "Dowload link: https://sites.google.com/site/yasinunlu/home/research/new1/Titanic_train.csv<br/>\n",
    "**2) Iris:** Predict species name.<br/>\n",
    "Download link: https://sites.google.com/site/yasinunlu/home/research/new1/iris.csv<br/>\n",
    "**3) Adult:** Predict whether a person makes over 50K a year.<br/>\n",
    "Download link: https://sites.google.com/site/yasinunlu/home/research/new1/adult.zip<br/>"
   ]
  }
 ],
 "metadata": {
  "kernelspec": {
   "display_name": "Python 3",
   "language": "python",
   "name": "python3"
  },
  "language_info": {
   "codemirror_mode": {
    "name": "ipython",
    "version": 3
   },
   "file_extension": ".py",
   "mimetype": "text/x-python",
   "name": "python",
   "nbconvert_exporter": "python",
   "pygments_lexer": "ipython3",
   "version": "3.7.7"
  }
 },
 "nbformat": 4,
 "nbformat_minor": 4
}
