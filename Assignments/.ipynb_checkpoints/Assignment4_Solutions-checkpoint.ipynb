{
 "cells": [
  {
   "cell_type": "markdown",
   "metadata": {},
   "source": [
    "# <center> <h1>Assignment 4</h1> </center>\n",
    "<center> <h1>EIN 4933/6935 Python for Data Science Summer 2020</h1> </center>"
   ]
  },
  {
   "cell_type": "markdown",
   "metadata": {},
   "source": [
    "## Questions:\n",
    "*Return a Jupyter Notebook and a zipped folder for all files that you create. Do not include the database file.*<br/>\n",
    "1) Click the link below and download the SQLite database named \"chinook.db\".<br/>\n",
    "Link: https://sites.google.com/site/yasinunlu/home/research/new1/chinook.db<br/>\n",
    "2) You can browse the given database file using an online database browser. Here is an example link: https://sqliteonline.com/. How many tables are there in the database?<br/>\n",
    "3) Establish a connection using Python code below.<br/>\n",
    "4) Choose and read 3 different tables in the database as Pandas dataframe. In the code below, you see a table named \"tracks\" stored into Pandas dataframe named \"df_tracks\".<br/>\n",
    "5) Store each dataframe file as a CSV file in .csv and .txt extensions and a TSV file in .txt extension. For example, df_tracks dataframe should be stored under a name \"tracks_CSV.csv\", \"tracks_CSV.txt\" and \"tracks_TSV.txt\".<br/>\n",
    "6) Store each dataframe file as a .json file by using `to_json()` in Pandas. For example, df_tracks dataframe should be stored under a name \"tracks.json\". Please note these files must be in JSON files.<br/>\n",
    "7) Read each .json file as a single string by using `read()` function in Python.<br/>\n",
    "8) You must notice this is not in a nice format (i.e. no indentation). Create a JSON object by using `json.loads()`.<br/> \n",
    "9) Convert the JSON object into an indented format by using `json.dumps()` function.<br/>\n",
    "10) Write the formatted data into a file with .json extension. Use `write()` function. For example, the JSON formatted data of df_tracks dataframe should be stored under a name \"tracks_formatted.json\". \n",
    "## Bonus Questions:\n",
    "*Return only a Jupyter Notebook.*<br/>\n",
    "11) Report the names and the total number of tables in the database by using Python code.<br/>\n",
    "12) Create  _CSV.csv, _CSV.txt, _TSV.txt and formatted .json files in an automated fashion using Python code.<br/>"
   ]
  },
  {
   "cell_type": "markdown",
   "metadata": {},
   "source": [
    "## Solutions:"
   ]
  },
  {
   "attachments": {
    "image.png": {
     "image/png": "[encoded data removed]"
    }
   },
   "cell_type": "markdown",
   "metadata": {},
   "source": [
    "1) Click the link below and download the SQLite database named \"chinook.db\".\n",
    "Link: https://sites.google.com/site/yasinunlu/home/research/new1/chinook.db\n",
    "2) You can browse the given database file using an online database browser. Here is an example link: https://sqliteonline.com/. How many tables are there in the database?\n",
    "![image.png](attachment:image.png)\n",
    "I am seeing 13 tables in the database. Alternatively someone can evaluate sql query and list the tables in the database using the code below. This is really not required. But just to make you aware that you can evaluate any SQL query using Python code!"
   ]
  },
  {
   "cell_type": "code",
   "execution_count": 2,
   "metadata": {},
   "outputs": [
    {
     "data": {
      "text/html": [
       "<div>\n",
       "<style scoped>\n",
       "    .dataframe tbody tr th:only-of-type {\n",
       "        vertical-align: middle;\n",
       "    }\n",
       "\n",
       "    .dataframe tbody tr th {\n",
       "        vertical-align: top;\n",
       "    }\n",
       "\n",
       "    .dataframe thead th {\n",
       "        text-align: right;\n",
       "    }\n",
       "</style>\n",
       "<table border=\"1\" class=\"dataframe\">\n",
       "  <thead>\n",
       "    <tr style=\"text-align: right;\">\n",
       "      <th></th>\n",
       "      <th>name</th>\n",
       "    </tr>\n",
       "  </thead>\n",
       "  <tbody>\n",
       "    <tr>\n",
       "      <th>0</th>\n",
       "      <td>albums</td>\n",
       "    </tr>\n",
       "    <tr>\n",
       "      <th>1</th>\n",
       "      <td>sqlite_sequence</td>\n",
       "    </tr>\n",
       "    <tr>\n",
       "      <th>2</th>\n",
       "      <td>artists</td>\n",
       "    </tr>\n",
       "    <tr>\n",
       "      <th>3</th>\n",
       "      <td>customers</td>\n",
       "    </tr>\n",
       "    <tr>\n",
       "      <th>4</th>\n",
       "      <td>employees</td>\n",
       "    </tr>\n",
       "    <tr>\n",
       "      <th>5</th>\n",
       "      <td>genres</td>\n",
       "    </tr>\n",
       "    <tr>\n",
       "      <th>6</th>\n",
       "      <td>invoices</td>\n",
       "    </tr>\n",
       "    <tr>\n",
       "      <th>7</th>\n",
       "      <td>invoice_items</td>\n",
       "    </tr>\n",
       "    <tr>\n",
       "      <th>8</th>\n",
       "      <td>media_types</td>\n",
       "    </tr>\n",
       "    <tr>\n",
       "      <th>9</th>\n",
       "      <td>playlists</td>\n",
       "    </tr>\n",
       "    <tr>\n",
       "      <th>10</th>\n",
       "      <td>playlist_track</td>\n",
       "    </tr>\n",
       "    <tr>\n",
       "      <th>11</th>\n",
       "      <td>tracks</td>\n",
       "    </tr>\n",
       "    <tr>\n",
       "      <th>12</th>\n",
       "      <td>sqlite_stat1</td>\n",
       "    </tr>\n",
       "  </tbody>\n",
       "</table>\n",
       "</div>"
      ],
      "text/plain": [
       "               name\n",
       "0            albums\n",
       "1   sqlite_sequence\n",
       "2           artists\n",
       "3         customers\n",
       "4         employees\n",
       "5            genres\n",
       "6          invoices\n",
       "7     invoice_items\n",
       "8       media_types\n",
       "9         playlists\n",
       "10   playlist_track\n",
       "11           tracks\n",
       "12     sqlite_stat1"
      ]
     },
     "execution_count": 2,
     "metadata": {},
     "output_type": "execute_result"
    }
   ],
   "source": [
    "import pandas as pd\n",
    "import sqlite3\n",
    "conn = sqlite3.connect(\"C:\\\\Users\\\\yasin.unlu\\\\Documents\\\\chinook.db\")\n",
    "pd.read_sql_query(\"SELECT name FROM sqlite_master WHERE type = \\\"table\\\";\", conn)"
   ]
  },
  {
   "cell_type": "markdown",
   "metadata": {},
   "source": [
    "3) Establish a connection using Python code below."
   ]
  },
  {
   "cell_type": "code",
   "execution_count": 2,
   "metadata": {
    "scrolled": true
   },
   "outputs": [
    {
     "data": {
      "text/html": [
       "<div>\n",
       "<style scoped>\n",
       "    .dataframe tbody tr th:only-of-type {\n",
       "        vertical-align: middle;\n",
       "    }\n",
       "\n",
       "    .dataframe tbody tr th {\n",
       "        vertical-align: top;\n",
       "    }\n",
       "\n",
       "    .dataframe thead th {\n",
       "        text-align: right;\n",
       "    }\n",
       "</style>\n",
       "<table border=\"1\" class=\"dataframe\">\n",
       "  <thead>\n",
       "    <tr style=\"text-align: right;\">\n",
       "      <th></th>\n",
       "      <th>TrackId</th>\n",
       "      <th>Name</th>\n",
       "      <th>AlbumId</th>\n",
       "      <th>MediaTypeId</th>\n",
       "      <th>GenreId</th>\n",
       "      <th>Composer</th>\n",
       "      <th>Milliseconds</th>\n",
       "      <th>Bytes</th>\n",
       "      <th>UnitPrice</th>\n",
       "    </tr>\n",
       "  </thead>\n",
       "  <tbody>\n",
       "    <tr>\n",
       "      <th>0</th>\n",
       "      <td>1</td>\n",
       "      <td>For Those About To Rock (We Salute You)</td>\n",
       "      <td>1</td>\n",
       "      <td>1</td>\n",
       "      <td>1</td>\n",
       "      <td>Angus Young, Malcolm Young, Brian Johnson</td>\n",
       "      <td>343719</td>\n",
       "      <td>11170334</td>\n",
       "      <td>0.99</td>\n",
       "    </tr>\n",
       "    <tr>\n",
       "      <th>1</th>\n",
       "      <td>2</td>\n",
       "      <td>Balls to the Wall</td>\n",
       "      <td>2</td>\n",
       "      <td>2</td>\n",
       "      <td>1</td>\n",
       "      <td>None</td>\n",
       "      <td>342562</td>\n",
       "      <td>5510424</td>\n",
       "      <td>0.99</td>\n",
       "    </tr>\n",
       "    <tr>\n",
       "      <th>2</th>\n",
       "      <td>3</td>\n",
       "      <td>Fast As a Shark</td>\n",
       "      <td>3</td>\n",
       "      <td>2</td>\n",
       "      <td>1</td>\n",
       "      <td>F. Baltes, S. Kaufman, U. Dirkscneider &amp; W. Ho...</td>\n",
       "      <td>230619</td>\n",
       "      <td>3990994</td>\n",
       "      <td>0.99</td>\n",
       "    </tr>\n",
       "    <tr>\n",
       "      <th>3</th>\n",
       "      <td>4</td>\n",
       "      <td>Restless and Wild</td>\n",
       "      <td>3</td>\n",
       "      <td>2</td>\n",
       "      <td>1</td>\n",
       "      <td>F. Baltes, R.A. Smith-Diesel, S. Kaufman, U. D...</td>\n",
       "      <td>252051</td>\n",
       "      <td>4331779</td>\n",
       "      <td>0.99</td>\n",
       "    </tr>\n",
       "    <tr>\n",
       "      <th>4</th>\n",
       "      <td>5</td>\n",
       "      <td>Princess of the Dawn</td>\n",
       "      <td>3</td>\n",
       "      <td>2</td>\n",
       "      <td>1</td>\n",
       "      <td>Deaffy &amp; R.A. Smith-Diesel</td>\n",
       "      <td>375418</td>\n",
       "      <td>6290521</td>\n",
       "      <td>0.99</td>\n",
       "    </tr>\n",
       "  </tbody>\n",
       "</table>\n",
       "</div>"
      ],
      "text/plain": [
       "   TrackId                                     Name  AlbumId  MediaTypeId  \\\n",
       "0        1  For Those About To Rock (We Salute You)        1            1   \n",
       "1        2                        Balls to the Wall        2            2   \n",
       "2        3                          Fast As a Shark        3            2   \n",
       "3        4                        Restless and Wild        3            2   \n",
       "4        5                     Princess of the Dawn        3            2   \n",
       "\n",
       "   GenreId                                           Composer  Milliseconds  \\\n",
       "0        1          Angus Young, Malcolm Young, Brian Johnson        343719   \n",
       "1        1                                               None        342562   \n",
       "2        1  F. Baltes, S. Kaufman, U. Dirkscneider & W. Ho...        230619   \n",
       "3        1  F. Baltes, R.A. Smith-Diesel, S. Kaufman, U. D...        252051   \n",
       "4        1                         Deaffy & R.A. Smith-Diesel        375418   \n",
       "\n",
       "      Bytes  UnitPrice  \n",
       "0  11170334       0.99  \n",
       "1   5510424       0.99  \n",
       "2   3990994       0.99  \n",
       "3   4331779       0.99  \n",
       "4   6290521       0.99  "
      ]
     },
     "execution_count": 2,
     "metadata": {},
     "output_type": "execute_result"
    }
   ],
   "source": [
    "import pandas as pd\n",
    "import sqlite3\n",
    "conn = sqlite3.connect(\"C:\\\\Users\\\\yasin.unlu\\\\Documents\\\\chinook.db\") #I saved the database file in Documents on my computer.\n",
    "df_tracks = pd.read_sql_query(\"select * from tracks;\", conn) \n",
    "df_tracks.head() \n",
    "#I establish a sqlite3 connection and \n",
    "#evaluate a simple query (read a rable records) and \n",
    "#assign the records into a Pandas dataframe and\n",
    "#report the first 5 rows of the dataframe. This ensures that the connection is successful."
   ]
  },
  {
   "cell_type": "markdown",
   "metadata": {},
   "source": [
    "4) Choose and read 3 different tables in the database as Pandas dataframe. "
   ]
  },
  {
   "cell_type": "code",
   "execution_count": 3,
   "metadata": {},
   "outputs": [],
   "source": [
    "#I chose the tables named \"albums\", \"artists\" and \"customers\".\n",
    "df_albums = pd.read_sql_query(\"select * from albums;\", conn) \n",
    "\n",
    "df_artists = pd.read_sql_query(\"select * from artists;\", conn) \n",
    "\n",
    "df_customers = pd.read_sql_query(\"select * from customers;\", conn) "
   ]
  },
  {
   "cell_type": "markdown",
   "metadata": {},
   "source": [
    "5) Store each dataframe file as a CSV file in .csv and .txt extensions and a TSV file in .txt extension. For example, df_tracks dataframe should be stored under a name \"tracks_CSV.csv\", \"tracks_CSV.txt\" and \"tracks_TSV.txt\"."
   ]
  },
  {
   "cell_type": "code",
   "execution_count": 4,
   "metadata": {},
   "outputs": [
    {
     "name": "stdout",
     "output_type": "stream",
     "text": [
      "C:\\Users\\yasin.unlu\\Documents\\Original Docs\\Documents1\\Docs\\Teaching\\PythonForDataScienceSummer2020\\ClassMaterials\\Assignment4\n"
     ]
    }
   ],
   "source": [
    "%cd \"C:\\\\Users\\\\yasin.unlu\\\\Documents\\\\Original Docs\\\\Documents1\\\\Docs\\\\Teaching\\\\PythonForDataScienceSummer2020\\\\ClassMaterials\\\\Assignment4\\\\\""
   ]
  },
  {
   "cell_type": "code",
   "execution_count": 5,
   "metadata": {},
   "outputs": [],
   "source": [
    "df_albums.to_csv(\"albums_CSV.csv\", index = False)\n",
    "df_albums.to_csv(\"albums_CSV.txt\", index = False)\n",
    "df_albums.to_csv(\"albums_TSV.txt\", index = False, sep = \"\\t\") #must provide the sep = \"\\t\"\n",
    "\n",
    "df_artists.to_csv(\"artists.csv\", index = False)\n",
    "df_albums.to_csv(\"artists_CSV.txt\", index = False)\n",
    "df_albums.to_csv(\"artists_TSV.txt\", index = False, sep = \"\\t\") #must provide the sep = \"\\t\"\n",
    "\n",
    "df_customers.to_csv(\"customers.csv\", index = False)\n",
    "df_albums.to_csv(\"customers_CSV.txt\", index = False)\n",
    "df_albums.to_csv(\"customers_TSV.txt\", index = False, sep = \"\\t\") #must provide the sep = \"\\t\"\n",
    "\n"
   ]
  },
  {
   "cell_type": "markdown",
   "metadata": {},
   "source": [
    "6) Store each dataframe file as a .json file by using to_json() in Pandas. For example, df_tracks dataframe should be stored under a name \"tracks.json\". Please note these files must be in JSON files."
   ]
  },
  {
   "cell_type": "code",
   "execution_count": 6,
   "metadata": {},
   "outputs": [],
   "source": [
    "df_albums.to_json(\"albums.json\")\n",
    "\n",
    "df_artists.to_json(\"artists.json\")\n",
    "\n",
    "df_customers.to_json(\"customers.json\")"
   ]
  },
  {
   "cell_type": "markdown",
   "metadata": {},
   "source": [
    "7) Read each .json file as a single string by using read() function in Python."
   ]
  },
  {
   "cell_type": "code",
   "execution_count": 7,
   "metadata": {},
   "outputs": [],
   "source": [
    "my_file = open(\"albums.json\", \"r\")\n",
    "albums_str = my_file.read()\n",
    "my_file.close()\n",
    "\n",
    "my_file = open(\"artists.json\", \"r\")\n",
    "artists_str = my_file.read()\n",
    "my_file.close()\n",
    "\n",
    "my_file = open(\"customers.json\", \"r\")\n",
    "customers_str = my_file.read()\n",
    "my_file.close()"
   ]
  },
  {
   "cell_type": "markdown",
   "metadata": {},
   "source": [
    "8) You must notice this is not in a nice format (i.e. no indentation). Create a JSON object by using json.loads()."
   ]
  },
  {
   "cell_type": "code",
   "execution_count": 8,
   "metadata": {},
   "outputs": [],
   "source": [
    "import json as JSON\n",
    "json_object_albums = JSON.loads(albums_str)\n",
    "\n",
    "json_object_artists = JSON.loads(artists_str)\n",
    "\n",
    "json_object_customers = JSON.loads(customers_str)"
   ]
  },
  {
   "cell_type": "markdown",
   "metadata": {},
   "source": [
    "9) Convert the JSON object into an indented format by using json.dumps() function."
   ]
  },
  {
   "cell_type": "code",
   "execution_count": 11,
   "metadata": {},
   "outputs": [],
   "source": [
    "albums_json_formatted_str = JSON.dumps(json_object_albums, indent = 2)\n",
    "\n",
    "artists_json_formatted_str = JSON.dumps(json_object_artists, indent = 2)\n",
    "\n",
    "customers_json_formatted_str = JSON.dumps(json_object_customers, indent = 2)"
   ]
  },
  {
   "cell_type": "markdown",
   "metadata": {},
   "source": [
    "10) Write the formatted data into a file with .json extension. Use write() function. For example, the JSON formatted data of df_tracks dataframe should be stored under a name \"tracks_formatted.json\"."
   ]
  },
  {
   "cell_type": "code",
   "execution_count": 12,
   "metadata": {},
   "outputs": [],
   "source": [
    "my_file = open(\"albums_formatted.json\", \"w\")\n",
    "my_file.write(albums_json_formatted_str)\n",
    "my_file.close()\n",
    "\n",
    "my_file = open(\"artists_formatted.json\", \"w\")\n",
    "my_file.write(albums_json_formatted_str)\n",
    "my_file.close()\n",
    "\n",
    "my_file = open(\"customers_formatted.json\", \"w\")\n",
    "my_file.write(albums_json_formatted_str)\n",
    "my_file.close()"
   ]
  },
  {
   "cell_type": "markdown",
   "metadata": {},
   "source": [
    "11) Report the names and the total number of tables in the database by using Python code."
   ]
  },
  {
   "cell_type": "code",
   "execution_count": 16,
   "metadata": {
    "scrolled": true
   },
   "outputs": [
    {
     "name": "stdout",
     "output_type": "stream",
     "text": [
      "               name\n",
      "0            albums\n",
      "1   sqlite_sequence\n",
      "2           artists\n",
      "3         customers\n",
      "4         employees\n",
      "5            genres\n",
      "6          invoices\n",
      "7     invoice_items\n",
      "8       media_types\n",
      "9         playlists\n",
      "10   playlist_track\n",
      "11           tracks\n",
      "12     sqlite_stat1\n"
     ]
    },
    {
     "data": {
      "text/plain": [
       "13"
      ]
     },
     "execution_count": 16,
     "metadata": {},
     "output_type": "execute_result"
    }
   ],
   "source": [
    "import pandas as pd\n",
    "import sqlite3\n",
    "conn = sqlite3.connect(\"C:\\\\Users\\\\yasin.unlu\\\\Documents\\\\chinook.db\")\n",
    "df_table_names = pd.read_sql_query(\"SELECT name FROM sqlite_master WHERE type = \\\"table\\\";\", conn) \n",
    "print(df_table_names)\n",
    "len(df_table_names)"
   ]
  },
  {
   "cell_type": "markdown",
   "metadata": {},
   "source": [
    "12) Create _CSV.csv, _CSV.txt, _TSV.txt and formatted .json files in an automated fashion using Python code."
   ]
  },
  {
   "cell_type": "code",
   "execution_count": 27,
   "metadata": {},
   "outputs": [
    {
     "name": "stdout",
     "output_type": "stream",
     "text": [
      "C:\\Users\\yasin.unlu\\Documents\\Original Docs\\Documents1\\Docs\\Teaching\\PythonForDataScienceSummer2020\\ClassMaterials\\Assignment4\\AllTables\n"
     ]
    }
   ],
   "source": [
    "%cd \"C:\\\\Users\\\\yasin.unlu\\\\Documents\\\\Original Docs\\\\Documents1\\\\Docs\\\\Teaching\\\\PythonForDataScienceSummer2020\\\\ClassMaterials\\\\Assignment4\\\\AllTables\""
   ]
  },
  {
   "cell_type": "code",
   "execution_count": 28,
   "metadata": {},
   "outputs": [],
   "source": [
    "import pandas as pd\n",
    "import sqlite3\n",
    "import json as JSON\n",
    "conn = sqlite3.connect(\"C:\\\\Users\\\\yasin.unlu\\\\Documents\\\\chinook.db\")\n",
    "#Read the table names by evaluating a SQL query.\n",
    "df_table_names = pd.read_sql_query(\"SELECT name FROM sqlite_master WHERE type = \\\"table\\\";\", conn)\n",
    "#create a list of table names\n",
    "my_tables_list = df_table_names['name'].to_list()"
   ]
  },
  {
   "cell_type": "code",
   "execution_count": 29,
   "metadata": {},
   "outputs": [],
   "source": [
    "#Let's create the required files. Notice that .json file is not formatted yet.\n",
    "for table_name in my_tables_list:\n",
    "    df_table = pd.read_sql_query(\"select * from \"+table_name+\";\", conn) \n",
    "    df_table.to_csv(table_name+\"_CSV.csv\", index = False)\n",
    "    df_table.to_csv(table_name+\"_CSV.txt\", index = False)\n",
    "    df_table.to_csv(table_name+\"_TSV.txt\", index = False, sep = '\\t')\n",
    "    df_table.to_json(table_name+\".json\")"
   ]
  },
  {
   "cell_type": "code",
   "execution_count": 31,
   "metadata": {},
   "outputs": [],
   "source": [
    "#Now let's create pretty .json files.\n",
    "for table_name in my_tables_list: \n",
    "    my_file = open(table_name+\".json\", \"r\")\n",
    "    table_str = my_file.read()\n",
    "    my_file.close()\n",
    "    json_object = JSON.loads(table_str)\n",
    "    json_formatted_str = JSON.dumps(json_object, indent = 2)\n",
    "    my_file = open(table_name+\"_formatted.json\", \"w\")\n",
    "    my_file.write(json_formatted_str)\n",
    "    my_file.close()"
   ]
  }
 ],
 "metadata": {
  "kernelspec": {
   "display_name": "Python 3",
   "language": "python",
   "name": "python3"
  },
  "language_info": {
   "codemirror_mode": {
    "name": "ipython",
    "version": 3
   },
   "file_extension": ".py",
   "mimetype": "text/x-python",
   "name": "python",
   "nbconvert_exporter": "python",
   "pygments_lexer": "ipython3",
   "version": "3.7.7"
  }
 },
 "nbformat": 4,
 "nbformat_minor": 4
}
