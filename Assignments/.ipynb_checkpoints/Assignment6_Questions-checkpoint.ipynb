{
 "cells": [
  {
   "cell_type": "markdown",
   "metadata": {},
   "source": [
    "# <center> <h1>Assignment 6</h1> </center>\n",
    "<center> <h1>EIN 4933/6935 Python for Data Science Summer 2020</h1> </center>"
   ]
  },
  {
   "cell_type": "markdown",
   "metadata": {},
   "source": [
    "You will build a decision tree model using a data set related to breast cancer (Breast Cancer Wisconsin (Diagnostic) Data Set). You can have more info about the data set in this <a href=\"http://archive.ics.uci.edu/ml/datasets/breast+cancer+wisconsin+%28diagnostic%29\">web-site</a>. \n",
    "\n",
    "You can use this link: https://sites.google.com/site/yasinunlu/home/research/new1/breast_cancer.csv to dowload the data in csv format. In this dataset there are 30 features and one response variable. It is highly likely to predict breast cancer by using a decision tree model and given the set of predictors for a number of observations.\n",
    "\n",
    "The column named \"diagnosis\" shows whether a patient is diagnosed as \"malignant\" (M) or \"benign\" (B). Use this dataset to answer the questions below. You can create as many cells as you desire for all solutions.<br/>"
   ]
  },
  {
   "cell_type": "markdown",
   "metadata": {},
   "source": [
    "## Questions:\n",
    "1) Read the data into a dataframe from csv file source. Download link is given above. <br/>\n",
    "2) Remove any irrelevant data columns from the dataframe. If there are any missing values in the dataset, they should be replaced through a data imputation method. Any missing rows should be deleted from the dataset. Each column data type must be converted into an appropriate data type. The data types can be obtained either in data info files or can be determined by inspection.<br/>\n",
    "3) Convert categorical variables in \"diagnosis\" column into integer numerical values.<br/>\n",
    "4) Transform the data so that it fits within a specific scale (0 and 1).<br/>\n",
    "5) Create two dataframes: response and features. Split these dataframes into train and test parts.<br/>\n",
    "6) Train a decision tree model using train part of the data.<br/>\n",
    "7) Generate predictions over the test data.<br/>\n",
    "8) Calculate the accuracy. <br/>\n",
    "a) Write code that calculates the accuracy over test data.<br/>\n",
    "b) Call the built-in function from scikit learn package to calculate the accuracy over test data.<br/>\n",
    "9) Report and interpret the confusion matrix.<br/>\n",
    "10) Report feature importance results. Create a dataframe that has two columns: one for the name of the feature and one for the associated score.<br/>"
   ]
  },
  {
   "cell_type": "code",
   "execution_count": null,
   "metadata": {
    "scrolled": false
   },
   "outputs": [],
   "source": []
  }
 ],
 "metadata": {
  "kernelspec": {
   "display_name": "Python 3",
   "language": "python",
   "name": "python3"
  },
  "language_info": {
   "codemirror_mode": {
    "name": "ipython",
    "version": 3
   },
   "file_extension": ".py",
   "mimetype": "text/x-python",
   "name": "python",
   "nbconvert_exporter": "python",
   "pygments_lexer": "ipython3",
   "version": "3.7.7"
  }
 },
 "nbformat": 4,
 "nbformat_minor": 4
}
