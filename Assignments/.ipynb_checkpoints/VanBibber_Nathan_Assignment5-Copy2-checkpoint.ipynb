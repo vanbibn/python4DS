{
 "cells": [
  {
   "cell_type": "markdown",
   "metadata": {},
   "source": [
    "# <center> <h1>Assignment 5</h1> </center>\n",
    "<center> <h1>EIN 4933/6935 Python for Data Science Summer 2020</h1> </center>"
   ]
  },
  {
   "cell_type": "markdown",
   "metadata": {},
   "source": [
    "Click the link below and download the file named \"auto_mpg_modified.csv\".<br/>\n",
    "Link: https://sites.google.com/site/yasinunlu/home/research/new1/auto_mpg_modified.csv<br/>\n",
    "You can find more info about the data set <a href=\"https://sites.google.com/site/yasinunlu/home/research/new1/auto_mpg_info.txt\">here</a>. "
   ]
  },
  {
   "cell_type": "markdown",
   "metadata": {},
   "source": [
    "### Questions:\n",
    "1) Read the file and create a dataframe and name it \"df\".<br/>\n",
    "2) Perform the following data preprocessing:<br/>\n",
    "a) Remove uncessary column(s) that cannot be used for training any models. Remove from df. Explain why you choose those column(s).<br/>\n",
    "b) Determine any missing data point in df. Replace those missing data points with an imputated value. <br/>\n",
    "c) Make sure columns labaled as \"multi-valued discrete\" are of integer type while \"continuous\" ones are of float type. You can read the column labels in this <a href=\"https://sites.google.com/site/yasinunlu/home/research/new1/auto_mpg_info.txt\">file</a>. The final dataframe should be named \"df_clean\".<br/>\n",
    "3) Prepare the following dataframes.<br/> \n",
    "a) Create a dataframe called \"response\" including only the column \"mpg\".<br/>\n",
    "b) Create a dataframe called \"features\" with the remaining columns.<br/>\n",
    "c) Prepare a dataframe named \"features_train\": random 80% rows of the dataframe \"features\"<br/>\n",
    "d) Prepare a dataframe named \"features_test\": random 20% rows of the dataframe \"features\"<br/>\n",
    "e) Prepare a dataframe named \"response_train\": random 80% rows of the dataframe \"response\"<br/>\n",
    "f) Prepare a dataframe named \"response_test\": random 20% rows of the dataframe \"response\"<br/>\n",
    "4) Create a multiple linear regressoin model from scikit learn package. Train your model using the train data that you created above. <br/>\n",
    "5) Produce predictions over the test data.<br/>\n",
    "6) Evaluate the model performance over the test data by tabulating metrics of Mean Absolute Error, Mean Squared Error and Root Mean Squared Error.<br/>\n",
    "7) Normalize the data stored in df_clean. <br/>\n",
    "8) Fit a multiple linear regression model using the normalized data.<br/>\n",
    "9) Extract Feature Importance. That is, repor the coefficients (i.e. estimated parameters) of the fit model.<br/>\n",
    "10) Summarize results with a bar chart.<br/>"
   ]
  },
  {
   "cell_type": "code",
   "execution_count": 1,
   "metadata": {},
   "outputs": [],
   "source": [
    "import pandas as pd\n",
    "\n",
    "# 1) Read the file and create a dataframe and name it \"df\".\n",
    "df = pd.read_csv(\"auto_mpg_modified.csv\")\n",
    "\n",
    "# 2) Perform the following data preprocessing: \n",
    "df_clean = df.copy()\n",
    "\n",
    "# b) Determine any missing data point in df. Replace those missing data points with an imputated value.\n",
    "cyl_na_idx = df_clean[df_clean.cylinders.isna()].index  # create index to verify later\n",
    "hp_na_idx = df_clean[df_clean.horsepower.isna()].index  # create index to verify later\n",
    "origin_na_idx = df_clean[df_clean.origin.isna()].index  # create index to verify later\n",
    "\n",
    "## Impute cylinders by displacement\n",
    "# Since none of the missing valuse have displacements within the overlapping ranges between cylinders, I will impute cylinders based on the standard ranges for displacement. There are no missing values in the 4 cylinder range so I don't have to worry about those.\n",
    "\n",
    "# set NaN values for displacement greater than 262 for 8 cylinders\n",
    "df_clean.loc[(df_clean['displacement']>262) & (df_clean['cylinders'].isna()), 'cylinders'] = 8.0\n",
    "\n",
    "# set NaN values for displacement less than 262 for 6 cylinders\n",
    "df_clean.loc[(df_clean['displacement']<262) & (df_clean['cylinders'].isna()), 'cylinders'] = 6.0\n",
    "\n",
    "\n",
    "\n",
    "## Impute horsepower by cylinders\n",
    "# Since horsepower probably depends on the number of cylinders in the engine and the displacement, we should **not** impute horsepower with just the mean of the *entire column*. \n",
    "# For simplicity I will replace the horsepower for 6 cylinder engines with the average horsepower for that group and then do the same for 4 cylinder engines.\n",
    "\n",
    "# calculate the mean values\n",
    "mean_4cyl = round(df_clean.loc[df_clean['cylinders']==4.0, 'horsepower'].mean())\n",
    "mean_6cyl = round(df_clean.loc[df_clean['cylinders']==6.0, 'horsepower'].mean())\n",
    "\n",
    "# set NaN values for horsepower of 6 cylinder engines to the mean hp for 6 cylinders\n",
    "df_clean.loc[(df_clean['cylinders']==6.0) & (df_clean['horsepower'].isna()), 'horsepower'] = mean_6cyl\n",
    "\n",
    "# set NaN values for horsepower of 4 cylinder engines to the mean hp for 4 cylinders\n",
    "df_clean.loc[(df_clean['cylinders']==4.0) & (df_clean['horsepower'].isna()), 'horsepower'] = mean_4cyl\n",
    "\n",
    "\n",
    "\n",
    "## Impute Origin by origin of other vehicles with the same make\n",
    "# Since, in this data set, all other vehicles by the same *make* (i.e \"dodge\") are from the same origin, I will replace `NaN` values in 'origin' column with the mean value from other cars of the same make (since all othe origins for a make are all the same, taking the mean will give me that value).\n",
    "\n",
    "vehicle_makes = [\"chevrolet\",\"volkswagen\",\"dodge\",\"renault\",\"peugeot\",\"chrysler\"]\n",
    "\n",
    "for make in vehicle_makes:\n",
    "    mean = df_clean.loc[df_clean['name'].str.contains(make), 'origin'].mean()   # find the mean\n",
    "    # replace origin NaN for that make with its mean \n",
    "    df_clean.loc[(df_clean['name'].str.contains(make)) & (df_clean['origin'].isna()), 'origin'] = mean  \n",
    "\n",
    "\n",
    "## Remove `name` column `cylinders`, and `horespower`\n",
    "# Since the name column is all (mostly) unique values of type string it won't add any predictive ability so I will remove it. For now, I will let all other columns remain.\n",
    "\n",
    "# a) Remove uncessary column(s) that cannot be used for training any models. Explain why you choose those column(s).\n",
    "df_clean.drop(\"name\", axis=1, inplace=True)\n",
    "\n",
    "\n",
    "# c) Make sure columns labaled as \"multi-valued discrete\" are of integer type while \"continuous\" ones are of float type.\n",
    "# df_clean['cylinders'] = df_clean['cylinders'].astype(int)\n",
    "df_clean['year'] = df_clean['year'].astype(int) # drop from df?\n",
    "df_clean['origin'] = df_clean['origin'].astype(int)"
   ]
  },
  {
   "cell_type": "markdown",
   "metadata": {},
   "source": [
    "***\n",
    "## Remove other columns: `cylinders`, and `horsepower`\n",
    "Since the name column is all (mostly) unique values of type string it won't add any predictive ability so I will remove it. For now, I will let all other columns remain.\n"
   ]
  },
  {
   "cell_type": "code",
   "execution_count": 2,
   "metadata": {},
   "outputs": [
    {
     "name": "stdout",
     "output_type": "stream",
     "text": [
      "full df_clean: (398, 8)\n",
      "features_train: (318, 7)\n",
      "features_test: (80, 7)\n",
      "response_train: (318, 1)\n",
      "response_test: (80, 1)\n"
     ]
    },
    {
     "data": {
      "image/png": "[encoded data removed]",
      "text/plain": [
       "<Figure size 504x432 with 1 Axes>"
      ]
     },
     "metadata": {
      "needs_background": "light"
     },
     "output_type": "display_data"
    }
   ],
   "source": [
    "# Remove non-significant predictors\n",
    "df_new = df_clean.drop([\"cylinders\",\"horsepower\"], axis=1)\n",
    "\n",
    "# 3) Prepare the following dataframes.\n",
    "\n",
    "from sklearn.model_selection import train_test_split\n",
    "\n",
    "# a) Create a dataframe called \"response\" including only the column \"mpg\".\n",
    "response = df_clean[['mpg']]\n",
    "\n",
    "# b) Create a dataframe called \"features\" with the remaining columns.\n",
    "features = df_clean.iloc[:,1:]\n",
    "\n",
    "\n",
    "# c) Prepare a dataframe named \"features_train\": random 80% rows of the dataframe \"features\"\n",
    "# d) Prepare a dataframe named \"features_test\": random 20% rows of the dataframe \"features\"\n",
    "# e) Prepare a dataframe named \"response_train\": random 80% rows of the dataframe \"response\"\n",
    "# f) Prepare a dataframe named \"response_test\": random 20% rows of the dataframe \"response\"\n",
    "\n",
    "result_list = train_test_split(features, response, test_size=0.2, random_state=64)\n",
    "\n",
    "features_train, features_test, response_train, response_test = result_list\n",
    "\n",
    "print(\"full df_clean:\", df_clean.shape)\n",
    "print(\"features_train:\", features_train.shape)\n",
    "print(\"features_test:\", features_test.shape)\n",
    "print(\"response_train:\", response_train.shape)\n",
    "print(\"response_test:\", response_test.shape)\n",
    "\n",
    "# 4) Create a multiple linear regressoin model from scikit learn package. \n",
    "# Train the model using the train data created above.\n",
    "\n",
    "from sklearn.linear_model import LinearRegression\n",
    "mlr = LinearRegression()\n",
    "mlr.fit(features_train, response_train)\n",
    "\n",
    "# 5) Produce predictions over the test data.\n",
    "\n",
    "response_pred = mlr.predict(features_test)\n",
    "\n",
    "\n",
    "# 6) Evaluate the model performance over the test data by tabulating metrics of Mean Absolute Error, Mean Squared Error and Root Mean Squared Error.\n",
    "\n",
    "import matplotlib.pyplot as plt\n",
    "plt.figure(figsize=(7, 6))\n",
    "plt.scatter(response_test, response_pred)\n",
    "plt.ylabel('Predicted MPG', size = 12)\n",
    "plt.xlabel('Actual MPG', size = 12)\n",
    "plt.show()"
   ]
  },
  {
   "cell_type": "code",
   "execution_count": 53,
   "metadata": {
    "scrolled": true
   },
   "outputs": [
    {
     "data": {
      "text/html": [
       "<div>\n",
       "<style scoped>\n",
       "    .dataframe tbody tr th:only-of-type {\n",
       "        vertical-align: middle;\n",
       "    }\n",
       "\n",
       "    .dataframe tbody tr th {\n",
       "        vertical-align: top;\n",
       "    }\n",
       "\n",
       "    .dataframe thead th {\n",
       "        text-align: right;\n",
       "    }\n",
       "</style>\n",
       "<table border=\"1\" class=\"dataframe\">\n",
       "  <thead>\n",
       "    <tr style=\"text-align: right;\">\n",
       "      <th></th>\n",
       "      <th>metric</th>\n",
       "      <th>Model_1</th>\n",
       "    </tr>\n",
       "  </thead>\n",
       "  <tbody>\n",
       "    <tr>\n",
       "      <th>0</th>\n",
       "      <td>Mean Absolute Error</td>\n",
       "      <td>2.4539</td>\n",
       "    </tr>\n",
       "    <tr>\n",
       "      <th>1</th>\n",
       "      <td>Mean Squared Error</td>\n",
       "      <td>9.4026</td>\n",
       "    </tr>\n",
       "    <tr>\n",
       "      <th>2</th>\n",
       "      <td>Root Mean Squared Error</td>\n",
       "      <td>3.0664</td>\n",
       "    </tr>\n",
       "    <tr>\n",
       "      <th>3</th>\n",
       "      <td>R squared</td>\n",
       "      <td>0.8048</td>\n",
       "    </tr>\n",
       "  </tbody>\n",
       "</table>\n",
       "</div>"
      ],
      "text/plain": [
       "                    metric  Model_1\n",
       "0      Mean Absolute Error   2.4539\n",
       "1       Mean Squared Error   9.4026\n",
       "2  Root Mean Squared Error   3.0664\n",
       "3                R squared   0.8048"
      ]
     },
     "execution_count": 53,
     "metadata": {},
     "output_type": "execute_result"
    }
   ],
   "source": [
    "import numpy as np\n",
    "from sklearn import metrics\n",
    "results_dict = {'Mean Absolute Error':round(metrics.mean_absolute_error(response_test, response_pred), 4),\n",
    "    'Mean Squared Error':round(metrics.mean_squared_error(response_test, response_pred), 4),\n",
    "    'Root Mean Squared Error':round(np.sqrt(metrics.mean_squared_error(response_test, response_pred)), 4),\n",
    "    'R squared':round(metrics.r2_score(response_test, response_pred), 4)}\n",
    "\n",
    "results_df = pd.DataFrame(results_dict.items(), columns=['metric','Model_1'])\n",
    "results_df"
   ]
  },
  {
   "cell_type": "markdown",
   "metadata": {},
   "source": [
    "# 7) Normalize the data stored in df_clean."
   ]
  },
  {
   "cell_type": "code",
   "execution_count": 35,
   "metadata": {},
   "outputs": [
    {
     "data": {
      "text/html": [
       "<div>\n",
       "<style scoped>\n",
       "    .dataframe tbody tr th:only-of-type {\n",
       "        vertical-align: middle;\n",
       "    }\n",
       "\n",
       "    .dataframe tbody tr th {\n",
       "        vertical-align: top;\n",
       "    }\n",
       "\n",
       "    .dataframe thead th {\n",
       "        text-align: right;\n",
       "    }\n",
       "</style>\n",
       "<table border=\"1\" class=\"dataframe\">\n",
       "  <thead>\n",
       "    <tr style=\"text-align: right;\">\n",
       "      <th></th>\n",
       "      <th>mpg</th>\n",
       "      <th>cylinders</th>\n",
       "      <th>displacement</th>\n",
       "      <th>horsepower</th>\n",
       "      <th>weight</th>\n",
       "      <th>acceleration</th>\n",
       "      <th>year</th>\n",
       "      <th>origin</th>\n",
       "    </tr>\n",
       "  </thead>\n",
       "  <tbody>\n",
       "    <tr>\n",
       "      <th>0</th>\n",
       "      <td>0.239362</td>\n",
       "      <td>1.0</td>\n",
       "      <td>0.617571</td>\n",
       "      <td>0.456522</td>\n",
       "      <td>0.536150</td>\n",
       "      <td>0.238095</td>\n",
       "      <td>0.0</td>\n",
       "      <td>0.0</td>\n",
       "    </tr>\n",
       "    <tr>\n",
       "      <th>1</th>\n",
       "      <td>0.159574</td>\n",
       "      <td>1.0</td>\n",
       "      <td>0.728682</td>\n",
       "      <td>0.646739</td>\n",
       "      <td>0.589736</td>\n",
       "      <td>0.208333</td>\n",
       "      <td>0.0</td>\n",
       "      <td>0.0</td>\n",
       "    </tr>\n",
       "    <tr>\n",
       "      <th>2</th>\n",
       "      <td>0.239362</td>\n",
       "      <td>1.0</td>\n",
       "      <td>0.645995</td>\n",
       "      <td>0.565217</td>\n",
       "      <td>0.516870</td>\n",
       "      <td>0.178571</td>\n",
       "      <td>0.0</td>\n",
       "      <td>0.0</td>\n",
       "    </tr>\n",
       "    <tr>\n",
       "      <th>3</th>\n",
       "      <td>0.186170</td>\n",
       "      <td>1.0</td>\n",
       "      <td>0.609819</td>\n",
       "      <td>0.565217</td>\n",
       "      <td>0.516019</td>\n",
       "      <td>0.238095</td>\n",
       "      <td>0.0</td>\n",
       "      <td>0.0</td>\n",
       "    </tr>\n",
       "    <tr>\n",
       "      <th>4</th>\n",
       "      <td>0.212766</td>\n",
       "      <td>1.0</td>\n",
       "      <td>0.604651</td>\n",
       "      <td>0.510870</td>\n",
       "      <td>0.520556</td>\n",
       "      <td>0.148810</td>\n",
       "      <td>0.0</td>\n",
       "      <td>0.0</td>\n",
       "    </tr>\n",
       "  </tbody>\n",
       "</table>\n",
       "</div>"
      ],
      "text/plain": [
       "        mpg  cylinders  displacement  horsepower    weight  acceleration  \\\n",
       "0  0.239362        1.0      0.617571    0.456522  0.536150      0.238095   \n",
       "1  0.159574        1.0      0.728682    0.646739  0.589736      0.208333   \n",
       "2  0.239362        1.0      0.645995    0.565217  0.516870      0.178571   \n",
       "3  0.186170        1.0      0.609819    0.565217  0.516019      0.238095   \n",
       "4  0.212766        1.0      0.604651    0.510870  0.520556      0.148810   \n",
       "\n",
       "   year  origin  \n",
       "0   0.0     0.0  \n",
       "1   0.0     0.0  \n",
       "2   0.0     0.0  \n",
       "3   0.0     0.0  \n",
       "4   0.0     0.0  "
      ]
     },
     "execution_count": 35,
     "metadata": {},
     "output_type": "execute_result"
    }
   ],
   "source": [
    "from sklearn.preprocessing import MinMaxScaler\n",
    "scaler = MinMaxScaler() \n",
    "data_normalized = scaler.fit_transform(df_clean)\n",
    "df_normalized = pd.DataFrame(data_normalized, columns = df_clean.columns.to_list())\n",
    "\n",
    "df_normalized.head()"
   ]
  },
  {
   "cell_type": "markdown",
   "metadata": {},
   "source": [
    "# 8) Fit a multiple linear regression model using the normalized data."
   ]
  },
  {
   "cell_type": "code",
   "execution_count": 36,
   "metadata": {},
   "outputs": [
    {
     "data": {
      "text/plain": [
       "LinearRegression(copy_X=True, fit_intercept=True, n_jobs=None, normalize=False)"
      ]
     },
     "execution_count": 36,
     "metadata": {},
     "output_type": "execute_result"
    }
   ],
   "source": [
    "from sklearn.linear_model import LinearRegression\n",
    "mlr_norm = LinearRegression()\n",
    "features_norm = df_normalized.iloc[:,1:]\n",
    "response_norm = df_normalized[['mpg']]\n",
    "mlr_norm.fit(features_norm, response_norm) "
   ]
  },
  {
   "cell_type": "markdown",
   "metadata": {},
   "source": [
    "# 9) Extract Feature Importance. \n",
    "\n",
    "Report the coefficients (i.e. estimated parameters) of the fit model."
   ]
  },
  {
   "cell_type": "code",
   "execution_count": 44,
   "metadata": {
    "scrolled": true
   },
   "outputs": [
    {
     "name": "stdout",
     "output_type": "stream",
     "text": [
      "cylinders: -0.05610\n",
      "displacement: 0.19850\n",
      "horsepower: -0.06780\n",
      "weight: -0.62550\n",
      "acceleration: 0.04100\n",
      "year: 0.24070\n",
      "origin: 0.07630\n"
     ]
    }
   ],
   "source": [
    "importance = mlr_norm.coef_[0].round(4)      # list of estimated coeff parameters \n",
    "feature_names = df_normalized.columns.to_list()\n",
    "feature_names.remove('mpg')\n",
    "# summarize feature importance\n",
    "for i, score in enumerate(importance):\n",
    "    print('%s: %.5f' % (feature_names[i], score))"
   ]
  },
  {
   "cell_type": "code",
   "execution_count": 45,
   "metadata": {},
   "outputs": [
    {
     "data": {
      "text/plain": [
       "array([-0.0561,  0.1985, -0.0678, -0.6255,  0.041 ,  0.2407,  0.0763])"
      ]
     },
     "execution_count": 45,
     "metadata": {},
     "output_type": "execute_result"
    }
   ],
   "source": [
    "mlr_norm.coef_[0].round(4)"
   ]
  },
  {
   "cell_type": "code",
   "execution_count": 49,
   "metadata": {},
   "outputs": [
    {
     "data": {
      "text/html": [
       "<div>\n",
       "<style scoped>\n",
       "    .dataframe tbody tr th:only-of-type {\n",
       "        vertical-align: middle;\n",
       "    }\n",
       "\n",
       "    .dataframe tbody tr th {\n",
       "        vertical-align: top;\n",
       "    }\n",
       "\n",
       "    .dataframe thead th {\n",
       "        text-align: right;\n",
       "    }\n",
       "</style>\n",
       "<table border=\"1\" class=\"dataframe\">\n",
       "  <thead>\n",
       "    <tr style=\"text-align: right;\">\n",
       "      <th></th>\n",
       "      <th>Model_1</th>\n",
       "    </tr>\n",
       "  </thead>\n",
       "  <tbody>\n",
       "    <tr>\n",
       "      <th>cylinders</th>\n",
       "      <td>-0.0561</td>\n",
       "    </tr>\n",
       "    <tr>\n",
       "      <th>displacement</th>\n",
       "      <td>0.1985</td>\n",
       "    </tr>\n",
       "    <tr>\n",
       "      <th>horsepower</th>\n",
       "      <td>-0.0678</td>\n",
       "    </tr>\n",
       "    <tr>\n",
       "      <th>weight</th>\n",
       "      <td>-0.6255</td>\n",
       "    </tr>\n",
       "    <tr>\n",
       "      <th>acceleration</th>\n",
       "      <td>0.0410</td>\n",
       "    </tr>\n",
       "    <tr>\n",
       "      <th>year</th>\n",
       "      <td>0.2407</td>\n",
       "    </tr>\n",
       "    <tr>\n",
       "      <th>origin</th>\n",
       "      <td>0.0763</td>\n",
       "    </tr>\n",
       "  </tbody>\n",
       "</table>\n",
       "</div>"
      ],
      "text/plain": [
       "              Model_1\n",
       "cylinders     -0.0561\n",
       "displacement   0.1985\n",
       "horsepower    -0.0678\n",
       "weight        -0.6255\n",
       "acceleration   0.0410\n",
       "year           0.2407\n",
       "origin         0.0763"
      ]
     },
     "execution_count": 49,
     "metadata": {},
     "output_type": "execute_result"
    }
   ],
   "source": [
    "coef_df = pd.DataFrame(importance, index=feature_names, columns=[\"Model_1\"])\n",
    "coef_df"
   ]
  },
  {
   "cell_type": "code",
   "execution_count": 24,
   "metadata": {},
   "outputs": [
    {
     "name": "stdout",
     "output_type": "stream",
     "text": [
      "displacement: 0.11624\n",
      "weight: -0.65727\n",
      "acceleration: 0.06649\n",
      "year: 0.24438\n",
      "origin: 0.07148\n"
     ]
    }
   ],
   "source": [
    "importance = mlr_norm.coef_[0]      # list of estimated coeff parameters \n",
    "feature_names = df_normalized.columns.to_list()\n",
    "feature_names.remove('mpg')\n",
    "# summarize feature importance\n",
    "for i, score in enumerate(importance):\n",
    "    print('%s: %.5f' % (feature_names[i], score))"
   ]
  },
  {
   "cell_type": "markdown",
   "metadata": {},
   "source": [
    "## 10) Summarize results with a bar chart."
   ]
  },
  {
   "cell_type": "code",
   "execution_count": 25,
   "metadata": {},
   "outputs": [
    {
     "data": {
      "image/png": "[encoded data removed]",
      "text/plain": [
       "<Figure size 720x360 with 1 Axes>"
      ]
     },
     "metadata": {
      "needs_background": "light"
     },
     "output_type": "display_data"
    }
   ],
   "source": [
    "from matplotlib import pyplot\n",
    "pyplot.figure(figsize=(10, 5))\n",
    "# plot feature importance\n",
    "pyplot.bar(x = list(range(len(importance))), height = importance, tick_label = feature_names)\n",
    "pyplot.title('MPG Feature Importance')\n",
    "pyplot.xlabel('Features')\n",
    "pyplot.ylabel('Importance Score')\n",
    "pyplot.show()"
   ]
  },
  {
   "cell_type": "markdown",
   "metadata": {},
   "source": [
    "### Bonus Questions:\n",
    "11) Analyze the results from the bar chart. Drop one or two least important features from df_clean.<br/>\n",
    "12) Repeat Questions 3 - 6 and report the updated metrics of Mean Absolute Error, Mean Squared Error and Root Mean Squared Error. Compare the updated metric results agains the previous ones. "
   ]
  },
  {
   "cell_type": "code",
   "execution_count": 26,
   "metadata": {},
   "outputs": [],
   "source": [
    "#work on your code here and after."
   ]
  },
  {
   "cell_type": "code",
   "execution_count": 27,
   "metadata": {
    "scrolled": true
   },
   "outputs": [
    {
     "name": "stdout",
     "output_type": "stream",
     "text": [
      "                            OLS Regression Results                            \n",
      "==============================================================================\n",
      "Dep. Variable:                    mpg   R-squared:                       0.820\n",
      "Model:                            OLS   Adj. R-squared:                  0.818\n",
      "Method:                 Least Squares   F-statistic:                     356.9\n",
      "Date:                Fri, 03 Jul 2020   Prob (F-statistic):          1.88e-143\n",
      "Time:                        16:24:28   Log-Likelihood:                 402.08\n",
      "No. Observations:                 398   AIC:                            -792.2\n",
      "Df Residuals:                     392   BIC:                            -768.2\n",
      "Df Model:                           5                                         \n",
      "Covariance Type:            nonrobust                                         \n",
      "================================================================================\n",
      "                   coef    std err          t      P>|t|      [0.025      0.975]\n",
      "--------------------------------------------------------------------------------\n",
      "const            0.4285      0.024     17.737      0.000       0.381       0.476\n",
      "displacement     0.1162      0.055      2.102      0.036       0.008       0.225\n",
      "weight          -0.6573      0.054    -12.140      0.000      -0.764      -0.551\n",
      "acceleration     0.0665      0.035      1.925      0.055      -0.001       0.134\n",
      "year             0.2444      0.016     15.529      0.000       0.213       0.275\n",
      "origin           0.0715      0.014      5.005      0.000       0.043       0.100\n",
      "==============================================================================\n",
      "Omnibus:                       28.870   Durbin-Watson:                   1.276\n",
      "Prob(Omnibus):                  0.000   Jarque-Bera (JB):               45.704\n",
      "Skew:                           0.497   Prob(JB):                     1.19e-10\n",
      "Kurtosis:                       4.330   Cond. No.                         23.3\n",
      "==============================================================================\n",
      "\n",
      "Warnings:\n",
      "[1] Standard Errors assume that the covariance matrix of the errors is correctly specified.\n"
     ]
    }
   ],
   "source": [
    "import pandas as pd\n",
    "import numpy as np\n",
    "from sklearn import datasets, linear_model\n",
    "from sklearn.linear_model import LinearRegression\n",
    "import statsmodels.api as sm\n",
    "from scipy import stats\n",
    "\n",
    "# diabetes = datasets.load_diabetes()\n",
    "X = features_norm #diabetes.data\n",
    "y = response_norm #diabetes.target\n",
    "\n",
    "X2 = sm.add_constant(X)\n",
    "est = sm.OLS(y, X2)\n",
    "est2 = est.fit()\n",
    "print(est2.summary())"
   ]
  }
 ],
 "metadata": {
  "kernelspec": {
   "display_name": "Python 3",
   "language": "python",
   "name": "python3"
  },
  "language_info": {
   "codemirror_mode": {
    "name": "ipython",
    "version": 3
   },
   "file_extension": ".py",
   "mimetype": "text/x-python",
   "name": "python",
   "nbconvert_exporter": "python",
   "pygments_lexer": "ipython3",
   "version": "3.7.7"
  }
 },
 "nbformat": 4,
 "nbformat_minor": 4
}
