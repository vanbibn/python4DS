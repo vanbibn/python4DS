{
 "cells": [
  {
   "cell_type": "markdown",
   "metadata": {},
   "source": [
    "# <center> <h1>Assignment 4</h1> </center>\n",
    "<center> <h1>EIN 4933/6935 Python for Data Science Summer 2020</h1> </center>"
   ]
  },
  {
   "cell_type": "markdown",
   "metadata": {},
   "source": [
    "## Questions:\n",
    "*Return a Jupyter Notebook and a zipped folder for all files that you create. Do not include the database file.*<br/>\n",
    "1) Click the link below and download the SQLite database named \"chinook.db\".<br/>\n",
    "Link: https://sites.google.com/site/yasinunlu/home/research/new1/chinook.db<br/>\n",
    "2) You can browse the given database file using an online database browser. Here is an example link: https://sqliteonline.com/. How many tables are there in the database?<br/>\n",
    "3) Establish a connection using Python code below.<br/>\n",
    "4) Choose and read 3 different tables in the database as Pandas dataframe. In the code below, you see a table named \"tracks\" stored into Pandas dataframe named \"df_tracks\".<br/>\n",
    "5) Store each dataframe file as a CSV file in .csv and .txt extensions and a TSV file in .txt extension. For example, df_tracks dataframe should be stored under a name \"tracks_CSV.csv\", \"tracks_CSV.txt\" and \"tracks_TSV.txt\".<br/>\n",
    "6) Store each dataframe file as a .json file by using `to_json()` in Pandas. For example, df_tracks dataframe should be stored under a name \"tracks.json\". Please note these files must be in JSON files.<br/>\n",
    "7) Read each .json file as a single string by using `read()` function in Python.<br/>\n",
    "8) You must notice this is not in a nice format (i.e. no indentation). Create a JSON object by using `json.loads()`.<br/> \n",
    "9) Convert the JSON object into an indented format by using `json.dumps()` function.<br/>\n",
    "10) Write the formatted data into a file with .json extension. Use `write()` function. For example, the JSON formatted data of df_tracks dataframe should be stored under a name \"tracks_formatted.json\". "
   ]
  },
  {
   "cell_type": "markdown",
   "metadata": {},
   "source": [
    "## Bonus Questions:\n",
    "*Return only a Jupyter Notebook.*<br/>\n",
    "11) Report the names and the total number of tables in the database by using Python code.<br/>\n",
    "12) Create  _CSV.csv, _CSV.txt, _TSV.txt and formatted .json files in an automated fashion using Python code.<br/>"
   ]
  },
  {
   "cell_type": "markdown",
   "metadata": {},
   "source": [
    "### 1. Download the SQLite database named \"chinook.db\".  \n",
    "  Link: https://sites.google.com/site/yasinunlu/home/research/new1/chinook.db\n",
    "### 2. How many tables are there in the database? "
   ]
  },
  {
   "cell_type": "markdown",
   "metadata": {},
   "source": [
    "*Answer:* There are 13 tables in the database including:\n",
    "\n",
    "1. albums\n",
    "2. employees\n",
    "3. invoices\n",
    "4. playlists\n",
    "5. artists\n",
    "6. genres\n",
    "7. media_types\n",
    "8. tracks\n",
    "9. customers\n",
    "10. invoice_items\n",
    "11. playlist_track\n",
    "12. sqlite_sequence\n",
    "13. sqlite_stat1"
   ]
  },
  {
   "cell_type": "markdown",
   "metadata": {},
   "source": [
    "### 3. Establish a connection using Python code below."
   ]
  },
  {
   "cell_type": "code",
   "execution_count": 1,
   "metadata": {},
   "outputs": [],
   "source": [
    "import pandas as pd\n",
    "import sqlite3"
   ]
  },
  {
   "cell_type": "code",
   "execution_count": 4,
   "metadata": {},
   "outputs": [],
   "source": [
    "# %pwd"
   ]
  },
  {
   "cell_type": "code",
   "execution_count": 3,
   "metadata": {},
   "outputs": [
    {
     "data": {
      "text/plain": [
       "<sqlite3.Connection at 0x2a5f9786f10>"
      ]
     },
     "execution_count": 3,
     "metadata": {},
     "output_type": "execute_result"
    }
   ],
   "source": [
    "conn = sqlite3.connect(\"..\\\\data\\\\chinook.db\")\n",
    "conn"
   ]
  },
  {
   "cell_type": "markdown",
   "metadata": {},
   "source": [
    "### 4) Choose and read 3 different tables in the database as Pandas dataframe. \n",
    "In the code below, you see a table named \"tracks\" stored into Pandas dataframe named \"df_tracks\"."
   ]
  },
  {
   "cell_type": "code",
   "execution_count": 5,
   "metadata": {},
   "outputs": [
    {
     "data": {
      "text/html": [
       "<div>\n",
       "<style scoped>\n",
       "    .dataframe tbody tr th:only-of-type {\n",
       "        vertical-align: middle;\n",
       "    }\n",
       "\n",
       "    .dataframe tbody tr th {\n",
       "        vertical-align: top;\n",
       "    }\n",
       "\n",
       "    .dataframe thead th {\n",
       "        text-align: right;\n",
       "    }\n",
       "</style>\n",
       "<table border=\"1\" class=\"dataframe\">\n",
       "  <thead>\n",
       "    <tr style=\"text-align: right;\">\n",
       "      <th></th>\n",
       "      <th>EmployeeId</th>\n",
       "      <th>LastName</th>\n",
       "      <th>FirstName</th>\n",
       "      <th>Title</th>\n",
       "      <th>ReportsTo</th>\n",
       "      <th>BirthDate</th>\n",
       "      <th>HireDate</th>\n",
       "      <th>Address</th>\n",
       "      <th>City</th>\n",
       "      <th>State</th>\n",
       "      <th>Country</th>\n",
       "      <th>PostalCode</th>\n",
       "      <th>Phone</th>\n",
       "      <th>Fax</th>\n",
       "      <th>Email</th>\n",
       "    </tr>\n",
       "  </thead>\n",
       "  <tbody>\n",
       "    <tr>\n",
       "      <th>0</th>\n",
       "      <td>1</td>\n",
       "      <td>Adams</td>\n",
       "      <td>Andrew</td>\n",
       "      <td>General Manager</td>\n",
       "      <td>NaN</td>\n",
       "      <td>1962-02-18 00:00:00</td>\n",
       "      <td>2002-08-14 00:00:00</td>\n",
       "      <td>11120 Jasper Ave NW</td>\n",
       "      <td>Edmonton</td>\n",
       "      <td>AB</td>\n",
       "      <td>Canada</td>\n",
       "      <td>T5K 2N1</td>\n",
       "      <td>+1 (780) 428-9482</td>\n",
       "      <td>+1 (780) 428-3457</td>\n",
       "      <td>andrew@chinookcorp.com</td>\n",
       "    </tr>\n",
       "    <tr>\n",
       "      <th>1</th>\n",
       "      <td>2</td>\n",
       "      <td>Edwards</td>\n",
       "      <td>Nancy</td>\n",
       "      <td>Sales Manager</td>\n",
       "      <td>1.0</td>\n",
       "      <td>1958-12-08 00:00:00</td>\n",
       "      <td>2002-05-01 00:00:00</td>\n",
       "      <td>825 8 Ave SW</td>\n",
       "      <td>Calgary</td>\n",
       "      <td>AB</td>\n",
       "      <td>Canada</td>\n",
       "      <td>T2P 2T3</td>\n",
       "      <td>+1 (403) 262-3443</td>\n",
       "      <td>+1 (403) 262-3322</td>\n",
       "      <td>nancy@chinookcorp.com</td>\n",
       "    </tr>\n",
       "  </tbody>\n",
       "</table>\n",
       "</div>"
      ],
      "text/plain": [
       "   EmployeeId LastName FirstName            Title  ReportsTo  \\\n",
       "0           1    Adams    Andrew  General Manager        NaN   \n",
       "1           2  Edwards     Nancy    Sales Manager        1.0   \n",
       "\n",
       "             BirthDate             HireDate              Address      City  \\\n",
       "0  1962-02-18 00:00:00  2002-08-14 00:00:00  11120 Jasper Ave NW  Edmonton   \n",
       "1  1958-12-08 00:00:00  2002-05-01 00:00:00         825 8 Ave SW   Calgary   \n",
       "\n",
       "  State Country PostalCode              Phone                Fax  \\\n",
       "0    AB  Canada    T5K 2N1  +1 (780) 428-9482  +1 (780) 428-3457   \n",
       "1    AB  Canada    T2P 2T3  +1 (403) 262-3443  +1 (403) 262-3322   \n",
       "\n",
       "                    Email  \n",
       "0  andrew@chinookcorp.com  \n",
       "1   nancy@chinookcorp.com  "
      ]
     },
     "execution_count": 5,
     "metadata": {},
     "output_type": "execute_result"
    }
   ],
   "source": [
    "df_employees = pd.read_sql_query(\"SELECT * FROM employees;\", conn)\n",
    "df_employees.head(2)"
   ]
  },
  {
   "cell_type": "code",
   "execution_count": 6,
   "metadata": {},
   "outputs": [
    {
     "data": {
      "text/html": [
       "<div>\n",
       "<style scoped>\n",
       "    .dataframe tbody tr th:only-of-type {\n",
       "        vertical-align: middle;\n",
       "    }\n",
       "\n",
       "    .dataframe tbody tr th {\n",
       "        vertical-align: top;\n",
       "    }\n",
       "\n",
       "    .dataframe thead th {\n",
       "        text-align: right;\n",
       "    }\n",
       "</style>\n",
       "<table border=\"1\" class=\"dataframe\">\n",
       "  <thead>\n",
       "    <tr style=\"text-align: right;\">\n",
       "      <th></th>\n",
       "      <th>CustomerId</th>\n",
       "      <th>FirstName</th>\n",
       "      <th>LastName</th>\n",
       "      <th>Company</th>\n",
       "      <th>Address</th>\n",
       "      <th>City</th>\n",
       "      <th>State</th>\n",
       "      <th>Country</th>\n",
       "      <th>PostalCode</th>\n",
       "      <th>Phone</th>\n",
       "      <th>Fax</th>\n",
       "      <th>Email</th>\n",
       "      <th>SupportRepId</th>\n",
       "    </tr>\n",
       "  </thead>\n",
       "  <tbody>\n",
       "    <tr>\n",
       "      <th>0</th>\n",
       "      <td>1</td>\n",
       "      <td>Luís</td>\n",
       "      <td>Gonçalves</td>\n",
       "      <td>Embraer - Empresa Brasileira de Aeronáutica S.A.</td>\n",
       "      <td>Av. Brigadeiro Faria Lima, 2170</td>\n",
       "      <td>São José dos Campos</td>\n",
       "      <td>SP</td>\n",
       "      <td>Brazil</td>\n",
       "      <td>12227-000</td>\n",
       "      <td>+55 (12) 3923-5555</td>\n",
       "      <td>+55 (12) 3923-5566</td>\n",
       "      <td>luisg@embraer.com.br</td>\n",
       "      <td>3</td>\n",
       "    </tr>\n",
       "    <tr>\n",
       "      <th>1</th>\n",
       "      <td>2</td>\n",
       "      <td>Leonie</td>\n",
       "      <td>Köhler</td>\n",
       "      <td>None</td>\n",
       "      <td>Theodor-Heuss-Straße 34</td>\n",
       "      <td>Stuttgart</td>\n",
       "      <td>None</td>\n",
       "      <td>Germany</td>\n",
       "      <td>70174</td>\n",
       "      <td>+49 0711 2842222</td>\n",
       "      <td>None</td>\n",
       "      <td>leonekohler@surfeu.de</td>\n",
       "      <td>5</td>\n",
       "    </tr>\n",
       "  </tbody>\n",
       "</table>\n",
       "</div>"
      ],
      "text/plain": [
       "   CustomerId FirstName   LastName  \\\n",
       "0           1      Luís  Gonçalves   \n",
       "1           2    Leonie     Köhler   \n",
       "\n",
       "                                            Company  \\\n",
       "0  Embraer - Empresa Brasileira de Aeronáutica S.A.   \n",
       "1                                              None   \n",
       "\n",
       "                           Address                 City State  Country  \\\n",
       "0  Av. Brigadeiro Faria Lima, 2170  São José dos Campos    SP   Brazil   \n",
       "1          Theodor-Heuss-Straße 34            Stuttgart  None  Germany   \n",
       "\n",
       "  PostalCode               Phone                 Fax                  Email  \\\n",
       "0  12227-000  +55 (12) 3923-5555  +55 (12) 3923-5566   luisg@embraer.com.br   \n",
       "1      70174    +49 0711 2842222                None  leonekohler@surfeu.de   \n",
       "\n",
       "   SupportRepId  \n",
       "0             3  \n",
       "1             5  "
      ]
     },
     "execution_count": 6,
     "metadata": {},
     "output_type": "execute_result"
    }
   ],
   "source": [
    "df_customers = pd.read_sql_query(\"SELECT * FROM customers;\", conn)\n",
    "df_customers.head(2)"
   ]
  },
  {
   "cell_type": "code",
   "execution_count": 8,
   "metadata": {
    "scrolled": true
   },
   "outputs": [
    {
     "data": {
      "text/html": [
       "<div>\n",
       "<style scoped>\n",
       "    .dataframe tbody tr th:only-of-type {\n",
       "        vertical-align: middle;\n",
       "    }\n",
       "\n",
       "    .dataframe tbody tr th {\n",
       "        vertical-align: top;\n",
       "    }\n",
       "\n",
       "    .dataframe thead th {\n",
       "        text-align: right;\n",
       "    }\n",
       "</style>\n",
       "<table border=\"1\" class=\"dataframe\">\n",
       "  <thead>\n",
       "    <tr style=\"text-align: right;\">\n",
       "      <th></th>\n",
       "      <th>ArtistId</th>\n",
       "      <th>Name</th>\n",
       "    </tr>\n",
       "  </thead>\n",
       "  <tbody>\n",
       "    <tr>\n",
       "      <th>0</th>\n",
       "      <td>1</td>\n",
       "      <td>AC/DC</td>\n",
       "    </tr>\n",
       "    <tr>\n",
       "      <th>1</th>\n",
       "      <td>2</td>\n",
       "      <td>Accept</td>\n",
       "    </tr>\n",
       "    <tr>\n",
       "      <th>2</th>\n",
       "      <td>3</td>\n",
       "      <td>Aerosmith</td>\n",
       "    </tr>\n",
       "    <tr>\n",
       "      <th>3</th>\n",
       "      <td>4</td>\n",
       "      <td>Alanis Morissette</td>\n",
       "    </tr>\n",
       "    <tr>\n",
       "      <th>4</th>\n",
       "      <td>5</td>\n",
       "      <td>Alice In Chains</td>\n",
       "    </tr>\n",
       "  </tbody>\n",
       "</table>\n",
       "</div>"
      ],
      "text/plain": [
       "   ArtistId               Name\n",
       "0         1              AC/DC\n",
       "1         2             Accept\n",
       "2         3          Aerosmith\n",
       "3         4  Alanis Morissette\n",
       "4         5    Alice In Chains"
      ]
     },
     "execution_count": 8,
     "metadata": {},
     "output_type": "execute_result"
    }
   ],
   "source": [
    "df_artists = pd.read_sql_query(\"SELECT * FROM artists;\", conn)\n",
    "df_artists.head(5)"
   ]
  },
  {
   "cell_type": "code",
   "execution_count": 9,
   "metadata": {},
   "outputs": [],
   "source": [
    "conn.close()"
   ]
  },
  {
   "cell_type": "markdown",
   "metadata": {},
   "source": [
    "### 5. Store each dataframe file as:\n",
    "* a CSV file in .csv and .txt extensions and \n",
    "* a TSV file in .txt extension. \n",
    "\n",
    "For example, df_tracks dataframe should be stored under a name \"tracks_CSV.csv\", \"tracks_CSV.txt\" and \"tracks_TSV.txt\"."
   ]
  },
  {
   "cell_type": "code",
   "execution_count": 10,
   "metadata": {},
   "outputs": [],
   "source": [
    "df_employees.to_csv(\"Assignment4_files\\\\employees_CSV.csv\", index = False)\n",
    "df_employees.to_csv(\"Assignment4_files\\\\employees_CSV.txt\", index = False)\n",
    "df_employees.to_csv(\"Assignment4_files\\\\employees_TSV.txt\", sep = \"\\t\", index = False)"
   ]
  },
  {
   "cell_type": "code",
   "execution_count": 11,
   "metadata": {},
   "outputs": [],
   "source": [
    "df_customers.to_csv(\"Assignment4_files\\\\customers_CSV.csv\", index = False)\n",
    "df_customers.to_csv(\"Assignment4_files\\\\customers_CSV.txt\", index = False)\n",
    "df_customers.to_csv(\"Assignment4_files\\\\customers_TSV.txt\", sep = \"\\t\", index = False)"
   ]
  },
  {
   "cell_type": "code",
   "execution_count": 12,
   "metadata": {},
   "outputs": [],
   "source": [
    "df_artists.to_csv(\"Assignment4_files\\\\artists_CSV.csv\", index = False)\n",
    "df_artists.to_csv(\"Assignment4_files\\\\artists_CSV.txt\", index = False)\n",
    "df_artists.to_csv(\"Assignment4_files\\\\artists_TSV.txt\", sep = \"\\t\", index = False)"
   ]
  },
  {
   "cell_type": "markdown",
   "metadata": {},
   "source": [
    "### 6. Store each dataframe file as a .json file by using to_json() in Pandas. \n",
    "For example, df_tracks dataframe should be stored under a name \"tracks.json\". Please note these files must be in JSON files."
   ]
  },
  {
   "cell_type": "code",
   "execution_count": 13,
   "metadata": {},
   "outputs": [],
   "source": [
    "df_employees.to_json(\"Assignment4_files\\\\employees.json\")\n",
    "df_customers.to_json(\"Assignment4_files\\\\customers.json\")\n",
    "df_artists.to_json(\"Assignment4_files\\\\artists.json\")"
   ]
  },
  {
   "cell_type": "markdown",
   "metadata": {},
   "source": [
    "### 7. Read each `.json` file as a single string by using `read()` function in Python."
   ]
  },
  {
   "cell_type": "code",
   "execution_count": 14,
   "metadata": {},
   "outputs": [
    {
     "name": "stdout",
     "output_type": "stream",
     "text": [
      "True True True\n",
      "<class 'str'> <class 'str'> <class 'str'>\n"
     ]
    }
   ],
   "source": [
    "with open(\"Assignment4_files\\\\employees.json\", \"r\") as json_file1:\n",
    "    employees_json_data = json_file1.read()\n",
    "    \n",
    "with open(\"Assignment4_files\\\\customers.json\", \"r\") as json_file2:\n",
    "    customers_json_data = json_file2.read()\n",
    "\n",
    "with open(\"Assignment4_files\\\\artists.json\", \"r\") as json_file3:\n",
    "    artists_json_data = json_file3.read()\n",
    "\n",
    "print(json_file1.closed, json_file2.closed, json_file3.closed)\n",
    "print(type(employees_json_data), type(customers_json_data), type(artists_json_data))\n",
    "# print(employees_json_data)"
   ]
  },
  {
   "cell_type": "markdown",
   "metadata": {},
   "source": [
    "### 8. Create a JSON object by using json.loads().  \n",
    "You must notice this is not in a nice format (i.e. no indentation)."
   ]
  },
  {
   "cell_type": "code",
   "execution_count": 15,
   "metadata": {},
   "outputs": [],
   "source": [
    "import json as JSON\n",
    "employees_json_object = JSON.loads(employees_json_data)\n",
    "# print(employees_json_object)"
   ]
  },
  {
   "cell_type": "code",
   "execution_count": 16,
   "metadata": {},
   "outputs": [],
   "source": [
    "customers_json_object = JSON.loads(customers_json_data)\n",
    "# print(customers_json_object)"
   ]
  },
  {
   "cell_type": "code",
   "execution_count": 17,
   "metadata": {},
   "outputs": [],
   "source": [
    "artists_json_object = JSON.loads(artists_json_data)\n",
    "# print(artists_json_object)"
   ]
  },
  {
   "cell_type": "markdown",
   "metadata": {},
   "source": [
    "### 9. Convert the JSON object into an indented format by using `json.dumps()` function.\n",
    "This will convert the object inot a nicer, indented format."
   ]
  },
  {
   "cell_type": "code",
   "execution_count": 18,
   "metadata": {},
   "outputs": [],
   "source": [
    "employees_json_formatted = JSON.dumps(employees_json_object, indent = 2)\n",
    "# print(employees_json_formatted)"
   ]
  },
  {
   "cell_type": "code",
   "execution_count": 19,
   "metadata": {},
   "outputs": [],
   "source": [
    "customers_json_formatted = JSON.dumps(customers_json_object, indent = 2)\n",
    "# print(customers_json_formatted)"
   ]
  },
  {
   "cell_type": "code",
   "execution_count": 20,
   "metadata": {},
   "outputs": [],
   "source": [
    "artists_json_formatted = JSON.dumps(artists_json_object, indent = 2)\n",
    "# print(artists_json_formatted)"
   ]
  },
  {
   "cell_type": "markdown",
   "metadata": {},
   "source": [
    "### 10. Write the formatted data into a file with .json extension. Use `write()` function. \n",
    "For example, the JSON formatted data of df_tracks dataframe should be stored under a name \"tracks_formatted.json\"."
   ]
  },
  {
   "cell_type": "code",
   "execution_count": 21,
   "metadata": {},
   "outputs": [
    {
     "name": "stdout",
     "output_type": "stream",
     "text": [
      "True True True\n"
     ]
    }
   ],
   "source": [
    "with open(\"Assignment4_files\\\\employees_formatted.json\",\"w\") as file1:\n",
    "    file1.write(employees_json_formatted)\n",
    "\n",
    "with open(\"Assignment4_files\\\\customers_formatted.json\",\"w\") as file2:\n",
    "    file2.write(customers_json_formatted)\n",
    "\n",
    "with open(\"Assignment4_files\\\\artists_formatted.json\",\"w\") as file3:\n",
    "    file3.write(artists_json_formatted)\n",
    "\n",
    "print(file1.closed, file2.closed, file3.closed)"
   ]
  },
  {
   "cell_type": "markdown",
   "metadata": {},
   "source": [
    "## Bonus Questions:\n",
    "*Return only a Jupyter Notebook.*<br/>"
   ]
  },
  {
   "cell_type": "markdown",
   "metadata": {},
   "source": [
    "### 11. Report the names and the total number of tables in the database by using Python code."
   ]
  },
  {
   "cell_type": "code",
   "execution_count": 22,
   "metadata": {},
   "outputs": [],
   "source": [
    "import sqlite3\n",
    "conn = sqlite3.connect(\"..\\\\data\\\\chinook.db\")\n",
    "\n",
    "cur = conn.cursor()\n",
    "cur.execute('SELECT name from sqlite_master WHERE type= \"table\"')\n",
    "db_tables = cur.fetchall()\n",
    "\n",
    "conn.close()"
   ]
  },
  {
   "cell_type": "code",
   "execution_count": 23,
   "metadata": {},
   "outputs": [
    {
     "name": "stdout",
     "output_type": "stream",
     "text": [
      "The 'chinook.db' database has 13 tables.\n"
     ]
    }
   ],
   "source": [
    "print(\"The 'chinook.db' database has {} tables.\".format(len(db_tables)))"
   ]
  },
  {
   "cell_type": "code",
   "execution_count": 24,
   "metadata": {},
   "outputs": [
    {
     "name": "stdout",
     "output_type": "stream",
     "text": [
      "albums\n",
      "sqlite_sequence\n",
      "artists\n",
      "customers\n",
      "employees\n",
      "genres\n",
      "invoices\n",
      "invoice_items\n",
      "media_types\n",
      "playlists\n",
      "playlist_track\n",
      "tracks\n",
      "sqlite_stat1\n"
     ]
    }
   ],
   "source": [
    "for table in db_tables:\n",
    "    print(table[0])"
   ]
  },
  {
   "cell_type": "code",
   "execution_count": 25,
   "metadata": {},
   "outputs": [],
   "source": [
    "table_names = [table[0] for table in db_tables]\n",
    "# table_names"
   ]
  },
  {
   "cell_type": "markdown",
   "metadata": {},
   "source": [
    "### 12. Create  `_CSV.csv`, `_CSV.txt`, `_TSV.txt` and formatted `.json` files in an automated fashion using Python code."
   ]
  },
  {
   "cell_type": "code",
   "execution_count": 26,
   "metadata": {},
   "outputs": [],
   "source": [
    "import pandas as pd\n",
    "import sqlite3\n",
    "import json as JSON\n",
    "import os\n",
    "\n",
    "\n",
    "def file_write(table, db_loc, save_loc):\n",
    "    \"\"\"This is a function for automated creation of CSV, TSV, and JSON files \n",
    "    from a dataframe imported from a database.\"\"\"\n",
    "    # Establish a connection using Python code below.\n",
    "    conn = sqlite3.connect(db_loc)\n",
    "\n",
    "    # Read tables in the database as Pandas dataframe.\n",
    "    query = \"SELECT * FROM \" + table + \";\"\n",
    "    df = pd.read_sql_query(query, conn)\n",
    "\n",
    "    conn.close()\n",
    "\n",
    "    # Store each dataframe as a CSV file (in .csv and .txt extensions) and a TSV file in .txt extension.\n",
    "    ext_CSV_csv = table +\"_CSV.csv\"\n",
    "    ext_CSV_txt = table +\"_CSV.txt\"\n",
    "    ext_TSV_txt = table +\"_TSV.txt\"\n",
    "\n",
    "    df.to_csv(os.path.join(directory, ext_CSV_csv), index = False)\n",
    "    df.to_csv(os.path.join(directory, ext_CSV_txt), index = False)\n",
    "    df.to_csv(os.path.join(directory, ext_TSV_txt), sep = \"\\t\", index = False)\n",
    "\n",
    "\n",
    "    # Store each dataframe file as a .json file by using to_json() in Pandas.\n",
    "    ext_json = table + \".json\"\n",
    "    df.to_json(os.path.join(directory, ext_json))\n",
    "\n",
    "    # Read each .json file as a single string by using read() function in Python.\n",
    "    with open(os.path.join(directory, ext_json), \"r\") as json_file:\n",
    "        json_data = json_file.read()\n",
    "\n",
    "    # Create a JSON object by using json.loads().\n",
    "    json_object = JSON.loads(json_data)\n",
    "\n",
    "    # Convert the JSON object into an indented format by using json.dumps() function.\n",
    "    json_formatted = JSON.dumps(json_object, indent = 2)\n",
    "\n",
    "    # Write the formatted data into a file with .json extension. Use write() function.\n",
    "    ext_json_formatted = table + \"_formatted.json\"\n",
    "    with open(os.path.join(directory, ext_json_formatted),\"w\") as file:\n",
    "        file.write(json_formatted)"
   ]
  },
  {
   "cell_type": "code",
   "execution_count": 27,
   "metadata": {},
   "outputs": [],
   "source": [
    "chinook = \"..\\\\data\\\\chinook.db\"\n",
    "directory = \"Assignment4_files_auto\\\\\"\n",
    "\n",
    "for table in table_names:\n",
    "    file_write(table, db_loc=chinook, save_loc=directory)"
   ]
  },
  {
   "cell_type": "code",
   "execution_count": 29,
   "metadata": {},
   "outputs": [
    {
     "name": "stdout",
     "output_type": "stream",
     "text": [
      "There are 65 files in this directory (5 files for each table)!\n"
     ]
    },
    {
     "data": {
      "text/plain": [
       "['albums.json',\n",
       " 'albums_CSV.csv',\n",
       " 'albums_CSV.txt',\n",
       " 'albums_formatted.json',\n",
       " 'albums_TSV.txt',\n",
       " 'artists.json',\n",
       " 'artists_CSV.csv',\n",
       " 'artists_CSV.txt',\n",
       " 'artists_formatted.json',\n",
       " 'artists_TSV.txt',\n",
       " 'customers.json',\n",
       " 'customers_CSV.csv',\n",
       " 'customers_CSV.txt',\n",
       " 'customers_formatted.json',\n",
       " 'customers_TSV.txt',\n",
       " 'employees.json',\n",
       " 'employees_CSV.csv',\n",
       " 'employees_CSV.txt',\n",
       " 'employees_formatted.json',\n",
       " 'employees_TSV.txt',\n",
       " 'genres.json',\n",
       " 'genres_CSV.csv',\n",
       " 'genres_CSV.txt',\n",
       " 'genres_formatted.json',\n",
       " 'genres_TSV.txt',\n",
       " 'invoices.json',\n",
       " 'invoices_CSV.csv',\n",
       " 'invoices_CSV.txt',\n",
       " 'invoices_formatted.json',\n",
       " 'invoices_TSV.txt',\n",
       " 'invoice_items.json',\n",
       " 'invoice_items_CSV.csv',\n",
       " 'invoice_items_CSV.txt',\n",
       " 'invoice_items_formatted.json',\n",
       " 'invoice_items_TSV.txt',\n",
       " 'media_types.json',\n",
       " 'media_types_CSV.csv',\n",
       " 'media_types_CSV.txt',\n",
       " 'media_types_formatted.json',\n",
       " 'media_types_TSV.txt',\n",
       " 'playlists.json',\n",
       " 'playlists_CSV.csv',\n",
       " 'playlists_CSV.txt',\n",
       " 'playlists_formatted.json',\n",
       " 'playlists_TSV.txt',\n",
       " 'playlist_track.json',\n",
       " 'playlist_track_CSV.csv',\n",
       " 'playlist_track_CSV.txt',\n",
       " 'playlist_track_formatted.json',\n",
       " 'playlist_track_TSV.txt',\n",
       " 'sqlite_sequence.json',\n",
       " 'sqlite_sequence_CSV.csv',\n",
       " 'sqlite_sequence_CSV.txt',\n",
       " 'sqlite_sequence_formatted.json',\n",
       " 'sqlite_sequence_TSV.txt',\n",
       " 'sqlite_stat1.json',\n",
       " 'sqlite_stat1_CSV.csv',\n",
       " 'sqlite_stat1_CSV.txt',\n",
       " 'sqlite_stat1_formatted.json',\n",
       " 'sqlite_stat1_TSV.txt',\n",
       " 'tracks.json',\n",
       " 'tracks_CSV.csv',\n",
       " 'tracks_CSV.txt',\n",
       " 'tracks_formatted.json',\n",
       " 'tracks_TSV.txt']"
      ]
     },
     "execution_count": 29,
     "metadata": {},
     "output_type": "execute_result"
    }
   ],
   "source": [
    "all_files = os.listdir(directory)\n",
    "print(f\"There are {len(all_files)} files in this directory (5 files for each table)!\")\n",
    "all_files"
   ]
  }
 ],
 "metadata": {
  "kernelspec": {
   "display_name": "Python 3",
   "language": "python",
   "name": "python3"
  },
  "language_info": {
   "codemirror_mode": {
    "name": "ipython",
    "version": 3
   },
   "file_extension": ".py",
   "mimetype": "text/x-python",
   "name": "python",
   "nbconvert_exporter": "python",
   "pygments_lexer": "ipython3",
   "version": "3.7.7"
  }
 },
 "nbformat": 4,
 "nbformat_minor": 4
}
