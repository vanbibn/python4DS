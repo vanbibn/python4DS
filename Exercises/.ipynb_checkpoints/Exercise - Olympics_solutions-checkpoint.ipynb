{
 "cells": [
  {
   "cell_type": "markdown",
   "metadata": {},
   "source": [
    "<center> <h1>DataFrame Exercise (Olympics)</h1> </center>"
   ]
  },
  {
   "cell_type": "markdown",
   "metadata": {},
   "source": [
    "The following code loads the olympics dataset \"olympics.csv\" from a local directory and does some basic data cleaning."
   ]
  },
  {
   "cell_type": "code",
   "execution_count": 14,
   "metadata": {},
   "outputs": [
    {
     "name": "stdout",
     "output_type": "stream",
     "text": [
      "C:\\Users\\yasin.unlu\\Documents\\Original Docs\\Documents1\\Docs\\Teaching\\PythonForDataScienceSummer2020\\Data\\Olympics\n"
     ]
    },
    {
     "data": {
      "text/html": [
       "<div>\n",
       "<style scoped>\n",
       "    .dataframe tbody tr th:only-of-type {\n",
       "        vertical-align: middle;\n",
       "    }\n",
       "\n",
       "    .dataframe tbody tr th {\n",
       "        vertical-align: top;\n",
       "    }\n",
       "\n",
       "    .dataframe thead th {\n",
       "        text-align: right;\n",
       "    }\n",
       "</style>\n",
       "<table border=\"1\" class=\"dataframe\">\n",
       "  <thead>\n",
       "    <tr style=\"text-align: right;\">\n",
       "      <th></th>\n",
       "      <th>summer_participations</th>\n",
       "      <th>summer_gold</th>\n",
       "      <th>summer_silver</th>\n",
       "      <th>summer_bronze</th>\n",
       "      <th>summer_total</th>\n",
       "      <th>winter_participations</th>\n",
       "      <th>winter_gold</th>\n",
       "      <th>winter_silver</th>\n",
       "      <th>winter_bronze</th>\n",
       "      <th>winter_total</th>\n",
       "      <th>total_participations</th>\n",
       "      <th>total_gold</th>\n",
       "      <th>total_silver</th>\n",
       "      <th>total_bronze</th>\n",
       "      <th>total_combined</th>\n",
       "      <th>ID</th>\n",
       "    </tr>\n",
       "  </thead>\n",
       "  <tbody>\n",
       "    <tr>\n",
       "      <th>Afghanistan</th>\n",
       "      <td>13</td>\n",
       "      <td>0</td>\n",
       "      <td>0</td>\n",
       "      <td>2</td>\n",
       "      <td>2</td>\n",
       "      <td>0</td>\n",
       "      <td>0</td>\n",
       "      <td>0</td>\n",
       "      <td>0</td>\n",
       "      <td>0</td>\n",
       "      <td>13</td>\n",
       "      <td>0</td>\n",
       "      <td>0</td>\n",
       "      <td>2</td>\n",
       "      <td>2</td>\n",
       "      <td>AFG</td>\n",
       "    </tr>\n",
       "    <tr>\n",
       "      <th>Algeria</th>\n",
       "      <td>12</td>\n",
       "      <td>5</td>\n",
       "      <td>2</td>\n",
       "      <td>8</td>\n",
       "      <td>15</td>\n",
       "      <td>3</td>\n",
       "      <td>0</td>\n",
       "      <td>0</td>\n",
       "      <td>0</td>\n",
       "      <td>0</td>\n",
       "      <td>15</td>\n",
       "      <td>5</td>\n",
       "      <td>2</td>\n",
       "      <td>8</td>\n",
       "      <td>15</td>\n",
       "      <td>ALG</td>\n",
       "    </tr>\n",
       "    <tr>\n",
       "      <th>Argentina</th>\n",
       "      <td>23</td>\n",
       "      <td>18</td>\n",
       "      <td>24</td>\n",
       "      <td>28</td>\n",
       "      <td>70</td>\n",
       "      <td>18</td>\n",
       "      <td>0</td>\n",
       "      <td>0</td>\n",
       "      <td>0</td>\n",
       "      <td>0</td>\n",
       "      <td>41</td>\n",
       "      <td>18</td>\n",
       "      <td>24</td>\n",
       "      <td>28</td>\n",
       "      <td>70</td>\n",
       "      <td>ARG</td>\n",
       "    </tr>\n",
       "    <tr>\n",
       "      <th>Armenia</th>\n",
       "      <td>5</td>\n",
       "      <td>1</td>\n",
       "      <td>2</td>\n",
       "      <td>9</td>\n",
       "      <td>12</td>\n",
       "      <td>6</td>\n",
       "      <td>0</td>\n",
       "      <td>0</td>\n",
       "      <td>0</td>\n",
       "      <td>0</td>\n",
       "      <td>11</td>\n",
       "      <td>1</td>\n",
       "      <td>2</td>\n",
       "      <td>9</td>\n",
       "      <td>12</td>\n",
       "      <td>ARM</td>\n",
       "    </tr>\n",
       "    <tr>\n",
       "      <th>Australasia</th>\n",
       "      <td>2</td>\n",
       "      <td>3</td>\n",
       "      <td>4</td>\n",
       "      <td>5</td>\n",
       "      <td>12</td>\n",
       "      <td>0</td>\n",
       "      <td>0</td>\n",
       "      <td>0</td>\n",
       "      <td>0</td>\n",
       "      <td>0</td>\n",
       "      <td>2</td>\n",
       "      <td>3</td>\n",
       "      <td>4</td>\n",
       "      <td>5</td>\n",
       "      <td>12</td>\n",
       "      <td>ANZ</td>\n",
       "    </tr>\n",
       "  </tbody>\n",
       "</table>\n",
       "</div>"
      ],
      "text/plain": [
       "             summer_participations  summer_gold  summer_silver  summer_bronze  \\\n",
       "Afghanistan                     13            0              0              2   \n",
       "Algeria                         12            5              2              8   \n",
       "Argentina                       23           18             24             28   \n",
       "Armenia                          5            1              2              9   \n",
       "Australasia                      2            3              4              5   \n",
       "\n",
       "             summer_total  winter_participations  winter_gold  winter_silver  \\\n",
       "Afghanistan             2                      0            0              0   \n",
       "Algeria                15                      3            0              0   \n",
       "Argentina              70                     18            0              0   \n",
       "Armenia                12                      6            0              0   \n",
       "Australasia            12                      0            0              0   \n",
       "\n",
       "             winter_bronze  winter_total  total_participations  total_gold  \\\n",
       "Afghanistan              0             0                    13           0   \n",
       "Algeria                  0             0                    15           5   \n",
       "Argentina                0             0                    41          18   \n",
       "Armenia                  0             0                    11           1   \n",
       "Australasia              0             0                     2           3   \n",
       "\n",
       "             total_silver  total_bronze  total_combined   ID  \n",
       "Afghanistan             0             2               2  AFG  \n",
       "Algeria                 2             8              15  ALG  \n",
       "Argentina              24            28              70  ARG  \n",
       "Armenia                 2             9              12  ARM  \n",
       "Australasia             4             5              12  ANZ  "
      ]
     },
     "execution_count": 14,
     "metadata": {},
     "output_type": "execute_result"
    }
   ],
   "source": [
    "import pandas as pd\n",
    "%cd C:\\\\Users\\\\yasin.unlu\\\\Documents\\\\Original Docs\\\\Documents1\\\\Docs\\\\Teaching\\\\PythonForDataScienceSummer2020\\\\Data\\\\Olympics\n",
    "\n",
    "df = pd.read_csv('olympics.csv', index_col=0, encoding= 'unicode_escape')\n",
    "\n",
    "#let's clean up the data\n",
    "new_columns = (\"summer_participations\",\n",
    "\"summer_gold\",\n",
    "\"summer_silver\",\n",
    "\"summer_bronze\",\n",
    "\"summer_total\",\n",
    "\"winter_participations\",\n",
    "\"winter_gold\",\n",
    "\"winter_silver\",\n",
    "\"winter_bronze\",\n",
    "\"winter_total\",\n",
    "\"total_participations\",\n",
    "\"total_gold\",\n",
    "\"total_silver\",\n",
    "\"total_bronze\",\n",
    "\"total_combined\")\n",
    "df.columns = new_columns\n",
    "names_ids = df.index.str.split('\\s\\(') # split the index by '('\n",
    "\n",
    "df.index = names_ids.str[0] # the [0] element is the country name (new index) \n",
    "df['ID'] = names_ids.str[1].str[:3] # the [1] element is the abbreviation or ID (take first 3 characters from that)\n",
    "\n",
    "df = df.drop('Totals')\n",
    "df.head()"
   ]
  },
  {
   "cell_type": "markdown",
   "metadata": {},
   "source": [
    "## Question-1\n",
    "Create a dedicated dataframe for the first country in df and report it. "
   ]
  },
  {
   "cell_type": "code",
   "execution_count": 13,
   "metadata": {
    "scrolled": true
   },
   "outputs": [
    {
     "data": {
      "text/html": [
       "<div>\n",
       "<style scoped>\n",
       "    .dataframe tbody tr th:only-of-type {\n",
       "        vertical-align: middle;\n",
       "    }\n",
       "\n",
       "    .dataframe tbody tr th {\n",
       "        vertical-align: top;\n",
       "    }\n",
       "\n",
       "    .dataframe thead th {\n",
       "        text-align: right;\n",
       "    }\n",
       "</style>\n",
       "<table border=\"1\" class=\"dataframe\">\n",
       "  <thead>\n",
       "    <tr style=\"text-align: right;\">\n",
       "      <th></th>\n",
       "      <th>summer_participations</th>\n",
       "      <th>summer_gold</th>\n",
       "      <th>summer_silver</th>\n",
       "      <th>summer_bronze</th>\n",
       "      <th>summer_total</th>\n",
       "      <th>winter_participations</th>\n",
       "      <th>winter_gold</th>\n",
       "      <th>winter_silver</th>\n",
       "      <th>winter_bronze</th>\n",
       "      <th>winter_total</th>\n",
       "      <th>total_participations</th>\n",
       "      <th>total_gold</th>\n",
       "      <th>total_silver</th>\n",
       "      <th>total_bronze</th>\n",
       "      <th>total_combined</th>\n",
       "      <th>ID</th>\n",
       "    </tr>\n",
       "  </thead>\n",
       "  <tbody>\n",
       "    <tr>\n",
       "      <th>Afghanistan</th>\n",
       "      <td>13</td>\n",
       "      <td>0</td>\n",
       "      <td>0</td>\n",
       "      <td>2</td>\n",
       "      <td>2</td>\n",
       "      <td>0</td>\n",
       "      <td>0</td>\n",
       "      <td>0</td>\n",
       "      <td>0</td>\n",
       "      <td>0</td>\n",
       "      <td>13</td>\n",
       "      <td>0</td>\n",
       "      <td>0</td>\n",
       "      <td>2</td>\n",
       "      <td>2</td>\n",
       "      <td>AFG</td>\n",
       "    </tr>\n",
       "  </tbody>\n",
       "</table>\n",
       "</div>"
      ],
      "text/plain": [
       "             summer_participations  summer_gold  summer_silver  summer_bronze  \\\n",
       "Afghanistan                     13            0              0              2   \n",
       "\n",
       "             summer_total  winter_participations  winter_gold  winter_silver  \\\n",
       "Afghanistan             2                      0            0              0   \n",
       "\n",
       "             winter_bronze  winter_total  total_participations  total_gold  \\\n",
       "Afghanistan              0             0                    13           0   \n",
       "\n",
       "             total_silver  total_bronze  total_combined   ID  \n",
       "Afghanistan             0             2               2  AFG  "
      ]
     },
     "execution_count": 13,
     "metadata": {},
     "output_type": "execute_result"
    }
   ],
   "source": [
    "new_df = df.head(1) #returns first row as a new dataframe\n",
    "new_df = df.iloc[0] #returns first row as a pandas series\n",
    "new_df = df.iloc[[0]] #returns first row as a dataframe\n",
    "new_df"
   ]
  },
  {
   "cell_type": "markdown",
   "metadata": {},
   "source": [
    "## Question-2\n",
    "Which country has won the most gold medals in summer games? Use for loop and if statement for your work."
   ]
  },
  {
   "cell_type": "code",
   "execution_count": 29,
   "metadata": {},
   "outputs": [
    {
     "data": {
      "text/plain": [
       "'United States'"
      ]
     },
     "execution_count": 29,
     "metadata": {},
     "output_type": "execute_result"
    }
   ],
   "source": [
    "max = 0\n",
    "my_list = list(df['summer_gold']) #keeps number of summer gold medals\n",
    "my_index = list(df.index) #keeps country names\n",
    "\n",
    "for index, n_golds in enumerate(my_list):\n",
    "    if n_golds >= max:\n",
    "        max = n_golds\n",
    "        tempIndex = index\n",
    "my_index[tempIndex]"
   ]
  },
  {
   "cell_type": "markdown",
   "metadata": {},
   "source": [
    "You can also use a build-in Pandas function. We will use .idmax() function which is detailed in the link below. \n",
    "https://pandas.io/docs/reference/api/pandas.DataFrame.idxmax.html\n",
    "You browse and study other Pandas buil-in functions."
   ]
  },
  {
   "cell_type": "code",
   "execution_count": 31,
   "metadata": {
    "scrolled": true
   },
   "outputs": [
    {
     "data": {
      "text/plain": [
       "'United States'"
      ]
     },
     "execution_count": 31,
     "metadata": {},
     "output_type": "execute_result"
    }
   ],
   "source": [
    "df['summer_gold'].idxmax()"
   ]
  },
  {
   "cell_type": "markdown",
   "metadata": {},
   "source": [
    "# Question-3\n",
    "Which country has the biggest difference between their summer and winter gold medal counts? Use for and if statement for your work."
   ]
  },
  {
   "cell_type": "code",
   "execution_count": 54,
   "metadata": {},
   "outputs": [
    {
     "name": "stdout",
     "output_type": "stream",
     "text": [
      "United States\n"
     ]
    }
   ],
   "source": [
    "tempDiff = 0\n",
    "my_list_summer = list(df['summer_gold']) #keeps number of summer gold medals\n",
    "my_list_winter = list(df['winter_gold']) #keeps number of winter gold medals\n",
    "my_index = list(df.index) #keeps country names\n",
    "\n",
    "for index, country in enumerate(my_index):\n",
    "    diff = abs(my_list_summer[index] - my_list_winter[index])\n",
    "    if diff >= tempDiff:\n",
    "        tempDiff = diff\n",
    "        tempCountry = country #keep the country name that has the largest difference in summer and gold medals\n",
    "print(tempCountry)"
   ]
  },
  {
   "cell_type": "markdown",
   "metadata": {},
   "source": [
    "You can use a build-in Pandas function."
   ]
  },
  {
   "cell_type": "code",
   "execution_count": 55,
   "metadata": {},
   "outputs": [
    {
     "data": {
      "text/plain": [
       "'United States'"
      ]
     },
     "execution_count": 55,
     "metadata": {},
     "output_type": "execute_result"
    }
   ],
   "source": [
    "df['Gold Medal Diff'] = abs(df['summer_gold'] - df['winter_gold']) #add a new column named \"Gold Medal Diff\"\n",
    "df['Gold Medal Diff'].idxmax()"
   ]
  },
  {
   "cell_type": "markdown",
   "metadata": {},
   "source": [
    "## Question-4\n",
    "Which country has the biggest difference between their summer gold medal counts and winter gold medal counts relative to their total gold medal count? \n",
    "\n",
    "$$\\frac{Summer~Gold - Winter~Gold}{Total~Gold}$$\n",
    "\n",
    "Only include countries that have won at least 1 gold in both summer and winter."
   ]
  },
  {
   "cell_type": "code",
   "execution_count": 71,
   "metadata": {},
   "outputs": [
    {
     "name": "stdout",
     "output_type": "stream",
     "text": [
      "Bulgaria\n"
     ]
    }
   ],
   "source": [
    "tempDiff = 0\n",
    "my_list_summer = list(df['summer_gold']) #keeps number of summer gold medals\n",
    "my_list_winter = list(df['winter_gold']) #keeps number of winter gold medals\n",
    "my_list_total = list(df['total_gold']) #keeps number of total gold medals\n",
    "my_index = list(df.index) #keeps country names\n",
    "\n",
    "for index, country in enumerate(my_index):\n",
    "    #check if a country has won a least 1 gold in both summer and winter.\n",
    "    if my_list_summer[index] > 0 and my_list_winter[index] > 0: \n",
    "        #check if the denominator is nonzero to avoid numerical issues\n",
    "        if my_list_total[index] > 0:\n",
    "            rel_diff = abs(my_list_summer[index] - my_list_winter[index])/my_list_total[index]\n",
    "            if rel_diff >= tempDiff: #nested if\n",
    "                tempDiff = rel_diff\n",
    "                tempCountry = country #keep the country name that has the largest difference in summer and gold medals\n",
    "print(tempCountry)"
   ]
  },
  {
   "cell_type": "markdown",
   "metadata": {},
   "source": [
    "You can use a build-in Pandas function."
   ]
  },
  {
   "cell_type": "code",
   "execution_count": 73,
   "metadata": {},
   "outputs": [
    {
     "data": {
      "text/plain": [
       "'Bulgaria'"
      ]
     },
     "execution_count": 73,
     "metadata": {},
     "output_type": "execute_result"
    }
   ],
   "source": [
    "df_result = df.copy() #clone the existing dataframe\n",
    "#make sure a country has won a least 1 gold in both summer and winter.\n",
    "df_result = df_result[(df_result['summer_gold'] > 0) & (df_result['winter_gold'] > 0)] \n",
    "df_result['Gold Medal Diff'] = abs(df_result['summer_gold'] - df_result['winter_gold'])\n",
    "df_result['Total Gold'] = df_result['summer_gold'] + df_result['winter_gold']\n",
    "df_result['Relative Gold'] = df_result['Gold Medal Diff']/df_result['Total Gold']\n",
    "df_result['Relative Gold'].idxmax()"
   ]
  },
  {
   "cell_type": "markdown",
   "metadata": {},
   "source": [
    "## Question-5\n",
    "Add a new column called \"Points\" which is a weighted value where each total gold medal counts for 3 points, total silver medals for 2 points, and total bronze medals for 1 point. Report the first 5 rows of the new dataframe. Report the country that has the most points."
   ]
  },
  {
   "cell_type": "code",
   "execution_count": 76,
   "metadata": {
    "scrolled": true
   },
   "outputs": [
    {
     "data": {
      "text/html": [
       "<div>\n",
       "<style scoped>\n",
       "    .dataframe tbody tr th:only-of-type {\n",
       "        vertical-align: middle;\n",
       "    }\n",
       "\n",
       "    .dataframe tbody tr th {\n",
       "        vertical-align: top;\n",
       "    }\n",
       "\n",
       "    .dataframe thead th {\n",
       "        text-align: right;\n",
       "    }\n",
       "</style>\n",
       "<table border=\"1\" class=\"dataframe\">\n",
       "  <thead>\n",
       "    <tr style=\"text-align: right;\">\n",
       "      <th></th>\n",
       "      <th>summer_participations</th>\n",
       "      <th>summer_gold</th>\n",
       "      <th>summer_silver</th>\n",
       "      <th>summer_bronze</th>\n",
       "      <th>summer_total</th>\n",
       "      <th>winter_participations</th>\n",
       "      <th>winter_gold</th>\n",
       "      <th>winter_silver</th>\n",
       "      <th>winter_bronze</th>\n",
       "      <th>winter_total</th>\n",
       "      <th>total_participations</th>\n",
       "      <th>total_gold</th>\n",
       "      <th>total_silver</th>\n",
       "      <th>total_bronze</th>\n",
       "      <th>total_combined</th>\n",
       "      <th>ID</th>\n",
       "      <th>Gold Medal Diff</th>\n",
       "      <th>Points</th>\n",
       "    </tr>\n",
       "  </thead>\n",
       "  <tbody>\n",
       "    <tr>\n",
       "      <th>Afghanistan</th>\n",
       "      <td>13</td>\n",
       "      <td>0</td>\n",
       "      <td>0</td>\n",
       "      <td>2</td>\n",
       "      <td>2</td>\n",
       "      <td>0</td>\n",
       "      <td>0</td>\n",
       "      <td>0</td>\n",
       "      <td>0</td>\n",
       "      <td>0</td>\n",
       "      <td>13</td>\n",
       "      <td>0</td>\n",
       "      <td>0</td>\n",
       "      <td>2</td>\n",
       "      <td>2</td>\n",
       "      <td>AFG</td>\n",
       "      <td>0</td>\n",
       "      <td>2</td>\n",
       "    </tr>\n",
       "    <tr>\n",
       "      <th>Algeria</th>\n",
       "      <td>12</td>\n",
       "      <td>5</td>\n",
       "      <td>2</td>\n",
       "      <td>8</td>\n",
       "      <td>15</td>\n",
       "      <td>3</td>\n",
       "      <td>0</td>\n",
       "      <td>0</td>\n",
       "      <td>0</td>\n",
       "      <td>0</td>\n",
       "      <td>15</td>\n",
       "      <td>5</td>\n",
       "      <td>2</td>\n",
       "      <td>8</td>\n",
       "      <td>15</td>\n",
       "      <td>ALG</td>\n",
       "      <td>5</td>\n",
       "      <td>27</td>\n",
       "    </tr>\n",
       "    <tr>\n",
       "      <th>Argentina</th>\n",
       "      <td>23</td>\n",
       "      <td>18</td>\n",
       "      <td>24</td>\n",
       "      <td>28</td>\n",
       "      <td>70</td>\n",
       "      <td>18</td>\n",
       "      <td>0</td>\n",
       "      <td>0</td>\n",
       "      <td>0</td>\n",
       "      <td>0</td>\n",
       "      <td>41</td>\n",
       "      <td>18</td>\n",
       "      <td>24</td>\n",
       "      <td>28</td>\n",
       "      <td>70</td>\n",
       "      <td>ARG</td>\n",
       "      <td>18</td>\n",
       "      <td>130</td>\n",
       "    </tr>\n",
       "    <tr>\n",
       "      <th>Armenia</th>\n",
       "      <td>5</td>\n",
       "      <td>1</td>\n",
       "      <td>2</td>\n",
       "      <td>9</td>\n",
       "      <td>12</td>\n",
       "      <td>6</td>\n",
       "      <td>0</td>\n",
       "      <td>0</td>\n",
       "      <td>0</td>\n",
       "      <td>0</td>\n",
       "      <td>11</td>\n",
       "      <td>1</td>\n",
       "      <td>2</td>\n",
       "      <td>9</td>\n",
       "      <td>12</td>\n",
       "      <td>ARM</td>\n",
       "      <td>1</td>\n",
       "      <td>16</td>\n",
       "    </tr>\n",
       "    <tr>\n",
       "      <th>Australasia</th>\n",
       "      <td>2</td>\n",
       "      <td>3</td>\n",
       "      <td>4</td>\n",
       "      <td>5</td>\n",
       "      <td>12</td>\n",
       "      <td>0</td>\n",
       "      <td>0</td>\n",
       "      <td>0</td>\n",
       "      <td>0</td>\n",
       "      <td>0</td>\n",
       "      <td>2</td>\n",
       "      <td>3</td>\n",
       "      <td>4</td>\n",
       "      <td>5</td>\n",
       "      <td>12</td>\n",
       "      <td>ANZ</td>\n",
       "      <td>3</td>\n",
       "      <td>22</td>\n",
       "    </tr>\n",
       "  </tbody>\n",
       "</table>\n",
       "</div>"
      ],
      "text/plain": [
       "             summer_participations  summer_gold  summer_silver  summer_bronze  \\\n",
       "Afghanistan                     13            0              0              2   \n",
       "Algeria                         12            5              2              8   \n",
       "Argentina                       23           18             24             28   \n",
       "Armenia                          5            1              2              9   \n",
       "Australasia                      2            3              4              5   \n",
       "\n",
       "             summer_total  winter_participations  winter_gold  winter_silver  \\\n",
       "Afghanistan             2                      0            0              0   \n",
       "Algeria                15                      3            0              0   \n",
       "Argentina              70                     18            0              0   \n",
       "Armenia                12                      6            0              0   \n",
       "Australasia            12                      0            0              0   \n",
       "\n",
       "             winter_bronze  winter_total  total_participations  total_gold  \\\n",
       "Afghanistan              0             0                    13           0   \n",
       "Algeria                  0             0                    15           5   \n",
       "Argentina                0             0                    41          18   \n",
       "Armenia                  0             0                    11           1   \n",
       "Australasia              0             0                     2           3   \n",
       "\n",
       "             total_silver  total_bronze  total_combined   ID  Gold Medal Diff  \\\n",
       "Afghanistan             0             2               2  AFG                0   \n",
       "Algeria                 2             8              15  ALG                5   \n",
       "Argentina              24            28              70  ARG               18   \n",
       "Armenia                 2             9              12  ARM                1   \n",
       "Australasia             4             5              12  ANZ                3   \n",
       "\n",
       "             Points  \n",
       "Afghanistan       2  \n",
       "Algeria          27  \n",
       "Argentina       130  \n",
       "Armenia          16  \n",
       "Australasia      22  "
      ]
     },
     "execution_count": 76,
     "metadata": {},
     "output_type": "execute_result"
    }
   ],
   "source": [
    "df['Points'] = df['total_gold']*3 + df['total_silver']*2 + df['total_bronze']\n",
    "df.head()"
   ]
  },
  {
   "cell_type": "code",
   "execution_count": 78,
   "metadata": {},
   "outputs": [
    {
     "data": {
      "text/plain": [
       "'United States'"
      ]
     },
     "execution_count": 78,
     "metadata": {},
     "output_type": "execute_result"
    }
   ],
   "source": [
    "df['Points'].idxmax()"
   ]
  }
 ],
 "metadata": {
  "kernelspec": {
   "display_name": "Python 3",
   "language": "python",
   "name": "python3"
  },
  "language_info": {
   "codemirror_mode": {
    "name": "ipython",
    "version": 3
   },
   "file_extension": ".py",
   "mimetype": "text/x-python",
   "name": "python",
   "nbconvert_exporter": "python",
   "pygments_lexer": "ipython3",
   "version": "3.7.7"
  }
 },
 "nbformat": 4,
 "nbformat_minor": 4
}
