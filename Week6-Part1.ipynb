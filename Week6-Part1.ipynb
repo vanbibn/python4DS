{
 "cells": [
  {
   "cell_type": "markdown",
   "metadata": {},
   "source": [
    "# Reading and Writing Files in Python"
   ]
  },
  {
   "cell_type": "markdown",
   "metadata": {},
   "source": [
    "We will learn how to read and write data into files, such as CSV, JSON, text files in Python using io and os modules.<br/>\n",
    "Docs: https://docs.python.org/3/library/io.html"
   ]
  },
  {
   "cell_type": "markdown",
   "metadata": {},
   "source": [
    "File formats can be divided into two groups: 1) Flat Files 2) Non-Flat Files.<br/>\n",
    "#### Flat File: \n",
    "In a flat file, records follow a uniform format, and there are no structures for indexing or recognizing relationships between records.<br/>\n",
    "A flat file can be a plain text file having a TSV (tab separated values), CSV (comma separated format, or a binary file format.<br/>\n",
    "CSV files contain data values that are separated by \",\"."
   ]
  },
  {
   "cell_type": "code",
   "execution_count": null,
   "metadata": {},
   "outputs": [],
   "source": [
    "ID,COUNTRY,POP,AREA,GDP,CONT,IND_DAY\n",
    "CHN,China,1398.72,9596.96,12234.8,Asia,NaN\n",
    "IND,India,1351.16,3287.26,2575.67,Asia,8/15/1947\n",
    "USA,US,329.74,9833.52,19485.4,N.America,1776-07-04\n",
    "IDN,Indonesia,268.07,1910.93,1015.54,Asia,8/17/1945\n",
    "BRA,Brazil,210.32,8515.77,2055.51,S.America,1822-09-07\n",
    "PAK,Pakistan,205.71,881.91,302.14,Asia,8/14/1947\n",
    "NGA,Nigeria,200.96,923.77,375.77,Africa,10/1/1960\n",
    "BGD,Bangladesh,167.09,147.57,245.63,Asia,3/26/1971\n",
    "RUS,Russia,146.79,17098.2,1530.75,NaN,6/12/1992\n",
    "MEX,Mexico,126.58,1964.38,1158.23,N.America,1810-09-16\n",
    "JPN,Japan,126.22,377.97,4872.42,Asia,NaN\n",
    "DEU,Germany,83.02,357.11,3693.2,Europe,NaN\n",
    "FRA,France,67.02,640.68,2582.49,Europe,1789-07-14\n",
    "GBR,UK,66.44,242.5,2631.23,Europe,NaN\n",
    "ITA,Italy,60.36,301.34,1943.84,Europe,NaN\n",
    "ARG,Argentina,44.94,2780.4,637.49,S.America,1816-07-09\n",
    "DZA,Algeria,43.38,2381.74,167.56,Africa,7/5/1962\n",
    "CAN,Canada,37.59,9984.67,1647.12,N.America,1867-07-01\n",
    "AUS,Australia,25.47,7692.02,1408.68,Oceania,NaN\n",
    "KAZ,Kazakhstan,18.53,2724.9,159.41,Asia,12/16/1991"
   ]
  },
  {
   "cell_type": "markdown",
   "metadata": {},
   "source": [
    "The above given records in a file can be stored with a delimited file. The most common delimited file is TSV which uses \\t."
   ]
  },
  {
   "cell_type": "markdown",
   "metadata": {},
   "source": [
    "#### Non-Flat File:\n",
    "A non-flat file is a file where an index is assigned to every record. The exact location of the record can be known using the index of that record. You would normally need some applications like a database management system to read this type of file.\n",
    "\n",
    "`XML` and `JSON` are examples of a non-flat file."
   ]
  },
  {
   "cell_type": "markdown",
   "metadata": {},
   "source": [
    "Example `XML` file format:"
   ]
  },
  {
   "cell_type": "code",
   "execution_count": null,
   "metadata": {},
   "outputs": [],
   "source": [
    "<?xml version=\"1.0\"?>\n",
    "<table>\n",
    "<row>\n",
    "<ID>CHN</ID>\n",
    "<COUNTRY>China</COUNTRY>\n",
    "<POP>1398.72</POP>\n",
    "<AREA>9596.96</AREA>\n",
    "<GDP>12234.8</GDP>\n",
    "<CONT>Asia</CONT>\n",
    "<IND_DAY>null</IND_DAY>\n",
    "</row>\n",
    "<row>\n",
    "#second row starts"
   ]
  },
  {
   "cell_type": "markdown",
   "metadata": {},
   "source": [
    "Example `JSON` file format:"
   ]
  },
  {
   "cell_type": "code",
   "execution_count": null,
   "metadata": {},
   "outputs": [],
   "source": [
    "[{\"ID\":\"CHN\",\"COUNTRY\":\"China\",\"POP\":1398.72,\"AREA\":9596.96,\"GDP\":12234.8,\"CONT\":\"Asia\",\"IND_DAY\":null},\n",
    "{\"ID\":\"IND\",\"COUNTRY\":\"India\",\"POP\":1351.16,\"AREA\":3287.26,\"GDP\":2575.67,\"CONT\":\"Asia\",\"IND_DAY\":\"8\\/15\\/1947\"},\n",
    " #...\n",
    " {\"ID\":\"KAZ\",\"COUNTRY\":\"Kazakhstan\",\"POP\":18.53,\"AREA\":2724.9,\"GDP\":159.41,\"CONT\":\"Asia\",\"IND_DAY\":\"12\\/16\\/1991\"}]"
   ]
  },
  {
   "cell_type": "code",
   "execution_count": 3,
   "metadata": {},
   "outputs": [],
   "source": [
    "import pandas as pd\n",
    "csv_file = pd.DataFrame(pd.read_csv(\"countries.csv\", sep = \",\", header = 0, index_col = False))\n",
    "csv_file.to_json(\"countries.json\", orient = \"records\", date_format = \"epoch\", double_precision = 10, force_ascii = True, date_unit = \"ms\", default_handler = None)"
   ]
  },
  {
   "cell_type": "markdown",
   "metadata": {},
   "source": [
    "## Python File Objects\n"
   ]
  },
  {
   "cell_type": "markdown",
   "metadata": {},
   "source": [
    "Python has in-built functions to create, read, write, and manipulate accessible files. The io module is the default module for accessing files that can be used off the shelf without even importing it. Before you read, write, or manipulate the file, you need to make use of the module open(filename, access_mode) that returns a file object called \"handle\". After which you can simply use this handle to read from or write to a file. Like everything else, files in Python are also treated as an object, which has its own attributes and methods.\n",
    "\n",
    "An IOError exception is raised if, while opening the file, the operation fails. It could be due to various reasons like trying to read a file that is opened in write mode or accessing a file that is already closed."
   ]
  },
  {
   "cell_type": "markdown",
   "metadata": {},
   "source": [
    "As you might have expected from reading the previous section, text files have an End-Of-Line (EOL) character to indicate each line's termination. In Python, the new line character (`\\n`) is the default EOL terminator."
   ]
  },
  {
   "cell_type": "markdown",
   "metadata": {},
   "source": [
    "#### Open()\n",
    "The built-in Python function `open()` has the following arguments: `open(file, mode='r', buffering=-1, encoding=None, errors=None, newline=None, closefd=True, opener=None)`<br/> \n",
    "`open()` function has almost 8 parameters along with their default values for each argument as shown above.\n",
    "\n",
    "You would be focusing on the first and second parameters for now, which are essential for reading and writing files. And go through other parameters one by one as the tutorial progresses.\n",
    "\n",
    "Let's understand the first argument, i.e., file."
   ]
  },
  {
   "cell_type": "markdown",
   "metadata": {},
   "source": [
    "#### file\n",
    "`file` is a mandatory argument that you have to provide to the open function while rest all arguments are optional and use their default values. The file argument represents the path where your file resides in your system.\n",
    "\n",
    "If the path is in the current working directory, you can just provide the filename. If not then you have to provide the absolute path of the file, just like in the following examples: `my_file=open(\"countries.txt\")`<br/> \n",
    "If the file resides in a directory other than the current directory, you have to provide the absolute path with the file name. "
   ]
  },
  {
   "cell_type": "code",
   "execution_count": 21,
   "metadata": {},
   "outputs": [
    {
     "name": "stdout",
     "output_type": "stream",
     "text": [
      "Help on built-in function open in module io:\n",
      "\n",
      "open(file, mode='r', buffering=-1, encoding=None, errors=None, newline=None, closefd=True, opener=None)\n",
      "    Open file and return a stream.  Raise OSError upon failure.\n",
      "    \n",
      "    file is either a text or byte string giving the name (and the path\n",
      "    if the file isn't in the current working directory) of the file to\n",
      "    be opened or an integer file descriptor of the file to be\n",
      "    wrapped. (If a file descriptor is given, it is closed when the\n",
      "    returned I/O object is closed, unless closefd is set to False.)\n",
      "    \n",
      "    mode is an optional string that specifies the mode in which the file\n",
      "    is opened. It defaults to 'r' which means open for reading in text\n",
      "    mode.  Other common values are 'w' for writing (truncating the file if\n",
      "    it already exists), 'x' for creating and writing to a new file, and\n",
      "    'a' for appending (which on some Unix systems, means that all writes\n",
      "    append to the end of the file regardless of the current seek position).\n",
      "    In text mode, if encoding is not specified the encoding used is platform\n",
      "    dependent: locale.getpreferredencoding(False) is called to get the\n",
      "    current locale encoding. (For reading and writing raw bytes use binary\n",
      "    mode and leave encoding unspecified.) The available modes are:\n",
      "    \n",
      "    ========= ===============================================================\n",
      "    Character Meaning\n",
      "    --------- ---------------------------------------------------------------\n",
      "    'r'       open for reading (default)\n",
      "    'w'       open for writing, truncating the file first\n",
      "    'x'       create a new file and open it for writing\n",
      "    'a'       open for writing, appending to the end of the file if it exists\n",
      "    'b'       binary mode\n",
      "    't'       text mode (default)\n",
      "    '+'       open a disk file for updating (reading and writing)\n",
      "    'U'       universal newline mode (deprecated)\n",
      "    ========= ===============================================================\n",
      "    \n",
      "    The default mode is 'rt' (open for reading text). For binary random\n",
      "    access, the mode 'w+b' opens and truncates the file to 0 bytes, while\n",
      "    'r+b' opens the file without truncation. The 'x' mode implies 'w' and\n",
      "    raises an `FileExistsError` if the file already exists.\n",
      "    \n",
      "    Python distinguishes between files opened in binary and text modes,\n",
      "    even when the underlying operating system doesn't. Files opened in\n",
      "    binary mode (appending 'b' to the mode argument) return contents as\n",
      "    bytes objects without any decoding. In text mode (the default, or when\n",
      "    't' is appended to the mode argument), the contents of the file are\n",
      "    returned as strings, the bytes having been first decoded using a\n",
      "    platform-dependent encoding or using the specified encoding if given.\n",
      "    \n",
      "    'U' mode is deprecated and will raise an exception in future versions\n",
      "    of Python.  It has no effect in Python 3.  Use newline to control\n",
      "    universal newlines mode.\n",
      "    \n",
      "    buffering is an optional integer used to set the buffering policy.\n",
      "    Pass 0 to switch buffering off (only allowed in binary mode), 1 to select\n",
      "    line buffering (only usable in text mode), and an integer > 1 to indicate\n",
      "    the size of a fixed-size chunk buffer.  When no buffering argument is\n",
      "    given, the default buffering policy works as follows:\n",
      "    \n",
      "    * Binary files are buffered in fixed-size chunks; the size of the buffer\n",
      "      is chosen using a heuristic trying to determine the underlying device's\n",
      "      \"block size\" and falling back on `io.DEFAULT_BUFFER_SIZE`.\n",
      "      On many systems, the buffer will typically be 4096 or 8192 bytes long.\n",
      "    \n",
      "    * \"Interactive\" text files (files for which isatty() returns True)\n",
      "      use line buffering.  Other text files use the policy described above\n",
      "      for binary files.\n",
      "    \n",
      "    encoding is the name of the encoding used to decode or encode the\n",
      "    file. This should only be used in text mode. The default encoding is\n",
      "    platform dependent, but any encoding supported by Python can be\n",
      "    passed.  See the codecs module for the list of supported encodings.\n",
      "    \n",
      "    errors is an optional string that specifies how encoding errors are to\n",
      "    be handled---this argument should not be used in binary mode. Pass\n",
      "    'strict' to raise a ValueError exception if there is an encoding error\n",
      "    (the default of None has the same effect), or pass 'ignore' to ignore\n",
      "    errors. (Note that ignoring encoding errors can lead to data loss.)\n",
      "    See the documentation for codecs.register or run 'help(codecs.Codec)'\n",
      "    for a list of the permitted encoding error strings.\n",
      "    \n",
      "    newline controls how universal newlines works (it only applies to text\n",
      "    mode). It can be None, '', '\\n', '\\r', and '\\r\\n'.  It works as\n",
      "    follows:\n",
      "    \n",
      "    * On input, if newline is None, universal newlines mode is\n",
      "      enabled. Lines in the input can end in '\\n', '\\r', or '\\r\\n', and\n",
      "      these are translated into '\\n' before being returned to the\n",
      "      caller. If it is '', universal newline mode is enabled, but line\n",
      "      endings are returned to the caller untranslated. If it has any of\n",
      "      the other legal values, input lines are only terminated by the given\n",
      "      string, and the line ending is returned to the caller untranslated.\n",
      "    \n",
      "    * On output, if newline is None, any '\\n' characters written are\n",
      "      translated to the system default line separator, os.linesep. If\n",
      "      newline is '' or '\\n', no translation takes place. If newline is any\n",
      "      of the other legal values, any '\\n' characters written are translated\n",
      "      to the given string.\n",
      "    \n",
      "    If closefd is False, the underlying file descriptor will be kept open\n",
      "    when the file is closed. This does not work when a file name is given\n",
      "    and must be True in that case.\n",
      "    \n",
      "    A custom opener can be used by passing a callable as *opener*. The\n",
      "    underlying file descriptor for the file object is then obtained by\n",
      "    calling *opener* with (*file*, *flags*). *opener* must return an open\n",
      "    file descriptor (passing os.open as *opener* results in functionality\n",
      "    similar to passing None).\n",
      "    \n",
      "    open() returns a file object whose type depends on the mode, and\n",
      "    through which the standard file operations such as reading and writing\n",
      "    are performed. When open() is used to open a file in a text mode ('w',\n",
      "    'r', 'wt', 'rt', etc.), it returns a TextIOWrapper. When used to open\n",
      "    a file in a binary mode, the returned class varies: in read binary\n",
      "    mode, it returns a BufferedReader; in write binary and append binary\n",
      "    modes, it returns a BufferedWriter, and in read/write mode, it returns\n",
      "    a BufferedRandom.\n",
      "    \n",
      "    It is also possible to use a string or bytearray as a file for both\n",
      "    reading and writing. For strings StringIO can be used like a file\n",
      "    opened in a text mode, and for bytes a BytesIO can be used like a file\n",
      "    opened in a binary mode.\n",
      "\n"
     ]
    }
   ],
   "source": [
    "help(open)"
   ]
  },
  {
   "cell_type": "markdown",
   "metadata": {},
   "source": [
    "We will check the current Python working directory and then set it to the directory where the file is located."
   ]
  },
  {
   "cell_type": "code",
   "execution_count": 1,
   "metadata": {
    "scrolled": true
   },
   "outputs": [
    {
     "data": {
      "text/plain": [
       "'C:\\\\Users\\\\nvanb\\\\Documents\\\\NathanPC\\\\USF\\\\python4DS'"
      ]
     },
     "execution_count": 1,
     "metadata": {},
     "output_type": "execute_result"
    }
   ],
   "source": [
    "%pwd"
   ]
  },
  {
   "cell_type": "code",
   "execution_count": 6,
   "metadata": {},
   "outputs": [
    {
     "name": "stdout",
     "output_type": "stream",
     "text": [
      "C:\\Users\\yasin.unlu\\Documents\\Original Docs\\Documents1\\Docs\\Teaching\\PythonForDataScienceSummer2020\\Week-6\n"
     ]
    }
   ],
   "source": [
    "# %cd \"C:\\\\Users\\\\yasin.unlu\\\\Documents\\\\Original Docs\\\\Documents1\\\\Docs\\\\Teaching\\\\PythonForDataScienceSummer2020\\\\Week-6\""
   ]
  },
  {
   "cell_type": "code",
   "execution_count": 9,
   "metadata": {
    "scrolled": true
   },
   "outputs": [
    {
     "data": {
      "text/plain": [
       "'ID,COUNTRY,POP,AREA,GDP,CONT,IND_DAY\\nCHN,China,1398.72,9596.96,12234.8,Asia,NaN\\nIND,India,1351.16,3287.26,2575.67,Asia,8/15/1947\\nUSA,US,329.74,9833.52,19485.4,N.America,1776-07-04\\nIDN,Indonesia,268.07,1910.93,1015.54,Asia,8/17/1945\\nBRA,Brazil,210.32,8515.77,2055.51,S.America,1822-09-07\\nPAK,Pakistan,205.71,881.91,302.14,Asia,8/14/1947\\nNGA,Nigeria,200.96,923.77,375.77,Africa,10/1/1960\\nBGD,Bangladesh,167.09,147.57,245.63,Asia,3/26/1971\\nRUS,Russia,146.79,17098.2,1530.75,NaN,6/12/1992\\nMEX,Mexico,126.58,1964.38,1158.23,N.America,1810-09-16\\nJPN,Japan,126.22,377.97,4872.42,Asia,NaN\\nDEU,Germany,83.02,357.11,3693.2,Europe,NaN\\nFRA,France,67.02,640.68,2582.49,Europe,1789-07-14\\nGBR,UK,66.44,242.5,2631.23,Europe,NaN\\nITA,Italy,60.36,301.34,1943.84,Europe,NaN\\nARG,Argentina,44.94,2780.4,637.49,S.America,1816-07-09\\nDZA,Algeria,43.38,2381.74,167.56,Africa,7/5/1962\\nCAN,Canada,37.59,9984.67,1647.12,N.America,1867-07-01\\nAUS,Australia,25.47,7692.02,1408.68,Oceania,NaN\\nKAZ,Kazakhstan,18.53,2724.9,159.41,Asia,12/16/1991\\n'"
      ]
     },
     "execution_count": 9,
     "metadata": {},
     "output_type": "execute_result"
    }
   ],
   "source": [
    "my_file = open(\"data\\\\countries - comma.txt\") #open the file\n",
    "my_file.read() #read a comma separated values file"
   ]
  },
  {
   "cell_type": "code",
   "execution_count": 12,
   "metadata": {},
   "outputs": [],
   "source": [
    "my_file.close()"
   ]
  },
  {
   "cell_type": "code",
   "execution_count": 14,
   "metadata": {},
   "outputs": [
    {
     "data": {
      "text/plain": [
       "True"
      ]
     },
     "execution_count": 14,
     "metadata": {},
     "output_type": "execute_result"
    }
   ],
   "source": [
    "my_file.closed"
   ]
  },
  {
   "cell_type": "markdown",
   "metadata": {},
   "source": [
    "We could provide exact directory of the file. Then we can read it from any working directory."
   ]
  },
  {
   "cell_type": "code",
   "execution_count": 11,
   "metadata": {
    "scrolled": true
   },
   "outputs": [
    {
     "data": {
      "text/plain": [
       "''"
      ]
     },
     "execution_count": 11,
     "metadata": {},
     "output_type": "execute_result"
    }
   ],
   "source": [
    "# my_file = open(\"C:\\\\Users\\\\yasin.unlu\\\\Documents\\\\Original Docs\\\\Documents1\\\\Docs\\\\Teaching\\\\PythonForDataScienceSummer2020\\\\Week-6\\\\countries - comma.txt\") #open the file\n",
    "my_file.read()"
   ]
  },
  {
   "cell_type": "markdown",
   "metadata": {},
   "source": [
    "If we provide a wrong directory, it will throw an error."
   ]
  },
  {
   "cell_type": "code",
   "execution_count": 19,
   "metadata": {},
   "outputs": [
    {
     "ename": "FileNotFoundError",
     "evalue": "[Errno 2] No such file or directory: 'SomeDirectory\\\\countries - comma.txt'",
     "output_type": "error",
     "traceback": [
      "\u001b[1;31m---------------------------------------------------------------------------\u001b[0m",
      "\u001b[1;31mFileNotFoundError\u001b[0m                         Traceback (most recent call last)",
      "\u001b[1;32m<ipython-input-19-edc9a68de97f>\u001b[0m in \u001b[0;36m<module>\u001b[1;34m\u001b[0m\n\u001b[1;32m----> 1\u001b[1;33m \u001b[0mmy_file\u001b[0m \u001b[1;33m=\u001b[0m \u001b[0mopen\u001b[0m\u001b[1;33m(\u001b[0m\u001b[1;34m\"SomeDirectory\\\\countries - comma.txt\"\u001b[0m\u001b[1;33m)\u001b[0m \u001b[1;31m#open the file\u001b[0m\u001b[1;33m\u001b[0m\u001b[1;33m\u001b[0m\u001b[0m\n\u001b[0m",
      "\u001b[1;31mFileNotFoundError\u001b[0m: [Errno 2] No such file or directory: 'SomeDirectory\\\\countries - comma.txt'"
     ]
    }
   ],
   "source": [
    "my_file = open(\"SomeDirectory\\\\countries - comma.txt\") #This will throw an error."
   ]
  },
  {
   "cell_type": "code",
   "execution_count": 17,
   "metadata": {
    "scrolled": true
   },
   "outputs": [
    {
     "data": {
      "text/plain": [
       "'ID\\tCOUNTRY\\tPOP\\tAREA\\tGDP\\tCONT\\tIND_DAY\\nCHN\\tChina\\t1398.72\\t9596.96\\t12234.8\\tAsia\\tNaN\\nIND\\tIndia\\t1351.16\\t3287.26\\t2575.67\\tAsia\\t8/15/1947\\nUSA\\tUS\\t329.74\\t9833.52\\t19485.4\\tN.America\\t1776-07-04\\nIDN\\tIndonesia\\t268.07\\t1910.93\\t1015.54\\tAsia\\t8/17/1945\\nBRA\\tBrazil\\t210.32\\t8515.77\\t2055.51\\tS.America\\t1822-09-07\\nPAK\\tPakistan\\t205.71\\t881.91\\t302.14\\tAsia\\t8/14/1947\\nNGA\\tNigeria\\t200.96\\t923.77\\t375.77\\tAfrica\\t10/1/1960\\nBGD\\tBangladesh\\t167.09\\t147.57\\t245.63\\tAsia\\t3/26/1971\\nRUS\\tRussia\\t146.79\\t17098.2\\t1530.75\\tNaN\\t6/12/1992\\nMEX\\tMexico\\t126.58\\t1964.38\\t1158.23\\tN.America\\t1810-09-16\\nJPN\\tJapan\\t126.22\\t377.97\\t4872.42\\tAsia\\tNaN\\nDEU\\tGermany\\t83.02\\t357.11\\t3693.2\\tEurope\\tNaN\\nFRA\\tFrance\\t67.02\\t640.68\\t2582.49\\tEurope\\t1789-07-14\\nGBR\\tUK\\t66.44\\t242.5\\t2631.23\\tEurope\\tNaN\\nITA\\tItaly\\t60.36\\t301.34\\t1943.84\\tEurope\\tNaN\\nARG\\tArgentina\\t44.94\\t2780.4\\t637.49\\tS.America\\t1816-07-09\\nDZA\\tAlgeria\\t43.38\\t2381.74\\t167.56\\tAfrica\\t7/5/1962\\nCAN\\tCanada\\t37.59\\t9984.67\\t1647.12\\tN.America\\t1867-07-01\\nAUS\\tAustralia\\t25.47\\t7692.02\\t1408.68\\tOceania\\tNaN\\nKAZ\\tKazakhstan\\t18.53\\t2724.9\\t159.41\\tAsia\\t12/16/1991\\n'"
      ]
     },
     "execution_count": 17,
     "metadata": {},
     "output_type": "execute_result"
    }
   ],
   "source": [
    "my_file = open(\"countries - tab.txt\") #open the file\n",
    "my_file.read() #read a tab separated values file"
   ]
  },
  {
   "cell_type": "markdown",
   "metadata": {},
   "source": [
    "Let's understand the second argument of the open function, i.e., access modes.\n",
    "\n",
    "#### Access Modes\n",
    "Access modes define in which way you want to open a file, whether you want to open a file in:\n",
    "\n",
    "*read-only mode<br/>\n",
    "*write-only mode<br/>\n",
    "*append mode<br/>\n",
    "*both read and write mode<br/>"
   ]
  },
  {
   "cell_type": "markdown",
   "metadata": {},
   "source": [
    "Though a lot of access modes exist as shown in the below table, the most commonly used ones are read and write modes. It specifies where you want to start reading or writing in the file.\n",
    "\n",
    "You use `'r'`, the default mode, to read the file. In other cases where you want to write or append, you use `'w'` or `'a'`, respectively."
   ]
  },
  {
   "cell_type": "markdown",
   "metadata": {},
   "source": [
    "#### Reading From a File\n",
    "Let's try out all the reading methods for reading from a file, and you will also explore the access modes along with it! There are three ways to read from a file.\n",
    "\n",
    "`read([n])`<br/>\n",
    "`readline([n])`<br/>\n",
    "`readlines()`<br/>\n",
    "\n",
    "Here n is the number of bytes to be read. If nothing is passed to n, then the complete file is considered to be read.\n",
    "\n",
    "Create a file as below: 1st line 2nd line 3rd line 4th line 5th line Let's understand what each read method does:"
   ]
  },
  {
   "cell_type": "code",
   "execution_count": 15,
   "metadata": {
    "scrolled": true
   },
   "outputs": [
    {
     "name": "stdout",
     "output_type": "stream",
     "text": [
      "ID,COUNTRY,POP,AREA,GDP,CONT,IND_DAY\n",
      "CHN,China,1398.72,9596.96,12234.8,Asia,NaN\n",
      "IND,India,1351.16,3287.26,2575.67,Asia,8/15/1947\n",
      "USA,US,329.74,9833.52,19485.4,N.America,1776-07-04\n",
      "IDN,Indonesia,268.07,1910.93,1015.54,Asia,8/17/1945\n",
      "BRA,Brazil,210.32,8515.77,2055.51,S.America,1822-09-07\n",
      "PAK,Pakistan,205.71,881.91,302.14,Asia,8/14/1947\n",
      "NGA,Nigeria,200.96,923.77,375.77,Africa,10/1/1960\n",
      "BGD,Bangladesh,167.09,147.57,245.63,Asia,3/26/1971\n",
      "RUS,Russia,146.79,17098.2,1530.75,NaN,6/12/1992\n",
      "MEX,Mexico,126.58,1964.38,1158.23,N.America,1810-09-16\n",
      "JPN,Japan,126.22,377.97,4872.42,Asia,NaN\n",
      "DEU,Germany,83.02,357.11,3693.2,Europe,NaN\n",
      "FRA,France,67.02,640.68,2582.49,Europe,1789-07-14\n",
      "GBR,UK,66.44,242.5,2631.23,Europe,NaN\n",
      "ITA,Italy,60.36,301.34,1943.84,Europe,NaN\n",
      "ARG,Argentina,44.94,2780.4,637.49,S.America,1816-07-09\n",
      "DZA,Algeria,43.38,2381.74,167.56,Africa,7/5/1962\n",
      "CAN,Canada,37.59,9984.67,1647.12,N.America,1867-07-01\n",
      "AUS,Australia,25.47,7692.02,1408.68,Oceania,NaN\n",
      "KAZ,Kazakhstan,18.53,2724.9,159.41,Asia,12/16/1991\n",
      "\n"
     ]
    }
   ],
   "source": [
    "my_file=open(\"data\\countries - comma.txt\",\"r\") #default mode is already \"r\"\n",
    "print(my_file.read()) #read all lines"
   ]
  },
  {
   "cell_type": "code",
   "execution_count": 24,
   "metadata": {},
   "outputs": [
    {
     "data": {
      "text/plain": [
       "0"
      ]
     },
     "execution_count": 24,
     "metadata": {},
     "output_type": "execute_result"
    }
   ],
   "source": [
    "my_file.seek(0)"
   ]
  },
  {
   "cell_type": "code",
   "execution_count": 20,
   "metadata": {
    "scrolled": true
   },
   "outputs": [
    {
     "name": "stdout",
     "output_type": "stream",
     "text": [
      "ID,\n"
     ]
    }
   ],
   "source": [
    "# my_file=open(\"countries - comma.txt\",\"r\")\n",
    "my_file.seek(0)\n",
    "print(my_file.read(3)) #first 3 bites"
   ]
  },
  {
   "cell_type": "markdown",
   "metadata": {},
   "source": [
    "`readline(n)` outputs at most n bytes of a single line of a file. It does not read more than one line."
   ]
  },
  {
   "cell_type": "code",
   "execution_count": 23,
   "metadata": {},
   "outputs": [
    {
     "name": "stdout",
     "output_type": "stream",
     "text": [
      "ID,\n"
     ]
    }
   ],
   "source": [
    "# my_file=open(\"countries - comma.txt\",\"r\")\n",
    "my_file.seek(0)\n",
    "print(my_file.readline(3)) #first 3 bites"
   ]
  },
  {
   "cell_type": "code",
   "execution_count": 38,
   "metadata": {
    "scrolled": true
   },
   "outputs": [
    {
     "name": "stdout",
     "output_type": "stream",
     "text": [
      "ID,COUNTRY,POP,AREA,GDP,CONT,IND_DAY\n",
      "\n"
     ]
    }
   ],
   "source": [
    "# my_file=open(\"countries - comma.txt\",\"r\")\n",
    "print(my_file.readline(100000)) #It does not read more than one line."
   ]
  },
  {
   "cell_type": "markdown",
   "metadata": {},
   "source": [
    "#### Closing Python Files with `close()`\n",
    "Use the close() method with file handle to close the file. When you use this method, you clear all buffer and close the file."
   ]
  },
  {
   "cell_type": "code",
   "execution_count": 39,
   "metadata": {},
   "outputs": [],
   "source": [
    "my_file.close()"
   ]
  },
  {
   "cell_type": "markdown",
   "metadata": {},
   "source": [
    "You can use a for `loop` to read the file line by line:"
   ]
  },
  {
   "cell_type": "code",
   "execution_count": 41,
   "metadata": {
    "scrolled": true
   },
   "outputs": [
    {
     "name": "stdout",
     "output_type": "stream",
     "text": [
      "ID,COUNTRY,POP,AREA,GDP,CONT,IND_DAY\n",
      "\n",
      "CHN,China,1398.72,9596.96,12234.8,Asia,NaN\n",
      "\n",
      "IND,India,1351.16,3287.26,2575.67,Asia,8/15/1947\n",
      "\n",
      "USA,US,329.74,9833.52,19485.4,N.America,1776-07-04\n",
      "\n",
      "IDN,Indonesia,268.07,1910.93,1015.54,Asia,8/17/1945\n",
      "\n",
      "BRA,Brazil,210.32,8515.77,2055.51,S.America,1822-09-07\n",
      "\n",
      "PAK,Pakistan,205.71,881.91,302.14,Asia,8/14/1947\n",
      "\n",
      "NGA,Nigeria,200.96,923.77,375.77,Africa,10/1/1960\n",
      "\n",
      "BGD,Bangladesh,167.09,147.57,245.63,Asia,3/26/1971\n",
      "\n",
      "RUS,Russia,146.79,17098.2,1530.75,NaN,6/12/1992\n",
      "\n",
      "MEX,Mexico,126.58,1964.38,1158.23,N.America,1810-09-16\n",
      "\n",
      "JPN,Japan,126.22,377.97,4872.42,Asia,NaN\n",
      "\n",
      "DEU,Germany,83.02,357.11,3693.2,Europe,NaN\n",
      "\n",
      "FRA,France,67.02,640.68,2582.49,Europe,1789-07-14\n",
      "\n",
      "GBR,UK,66.44,242.5,2631.23,Europe,NaN\n",
      "\n",
      "ITA,Italy,60.36,301.34,1943.84,Europe,NaN\n",
      "\n",
      "ARG,Argentina,44.94,2780.4,637.49,S.America,1816-07-09\n",
      "\n",
      "DZA,Algeria,43.38,2381.74,167.56,Africa,7/5/1962\n",
      "\n",
      "CAN,Canada,37.59,9984.67,1647.12,N.America,1867-07-01\n",
      "\n",
      "AUS,Australia,25.47,7692.02,1408.68,Oceania,NaN\n",
      "\n",
      "KAZ,Kazakhstan,18.53,2724.9,159.41,Asia,12/16/1991\n",
      "\n"
     ]
    }
   ],
   "source": [
    "my_file=open(\"countries - comma.txt\",\"r\")\n",
    "\n",
    "for line in my_file:\n",
    "    print(line)\n",
    "my_file.close()"
   ]
  },
  {
   "cell_type": "markdown",
   "metadata": {},
   "source": [
    "`readlines()` method maintains a list of each line in the file which can be iterated using a for loop:"
   ]
  },
  {
   "cell_type": "code",
   "execution_count": 25,
   "metadata": {
    "scrolled": true
   },
   "outputs": [
    {
     "data": {
      "text/plain": [
       "['ID,COUNTRY,POP,AREA,GDP,CONT,IND_DAY\\n',\n",
       " 'CHN,China,1398.72,9596.96,12234.8,Asia,NaN\\n',\n",
       " 'IND,India,1351.16,3287.26,2575.67,Asia,8/15/1947\\n',\n",
       " 'USA,US,329.74,9833.52,19485.4,N.America,1776-07-04\\n',\n",
       " 'IDN,Indonesia,268.07,1910.93,1015.54,Asia,8/17/1945\\n',\n",
       " 'BRA,Brazil,210.32,8515.77,2055.51,S.America,1822-09-07\\n',\n",
       " 'PAK,Pakistan,205.71,881.91,302.14,Asia,8/14/1947\\n',\n",
       " 'NGA,Nigeria,200.96,923.77,375.77,Africa,10/1/1960\\n',\n",
       " 'BGD,Bangladesh,167.09,147.57,245.63,Asia,3/26/1971\\n',\n",
       " 'RUS,Russia,146.79,17098.2,1530.75,NaN,6/12/1992\\n',\n",
       " 'MEX,Mexico,126.58,1964.38,1158.23,N.America,1810-09-16\\n',\n",
       " 'JPN,Japan,126.22,377.97,4872.42,Asia,NaN\\n',\n",
       " 'DEU,Germany,83.02,357.11,3693.2,Europe,NaN\\n',\n",
       " 'FRA,France,67.02,640.68,2582.49,Europe,1789-07-14\\n',\n",
       " 'GBR,UK,66.44,242.5,2631.23,Europe,NaN\\n',\n",
       " 'ITA,Italy,60.36,301.34,1943.84,Europe,NaN\\n',\n",
       " 'ARG,Argentina,44.94,2780.4,637.49,S.America,1816-07-09\\n',\n",
       " 'DZA,Algeria,43.38,2381.74,167.56,Africa,7/5/1962\\n',\n",
       " 'CAN,Canada,37.59,9984.67,1647.12,N.America,1867-07-01\\n',\n",
       " 'AUS,Australia,25.47,7692.02,1408.68,Oceania,NaN\\n',\n",
       " 'KAZ,Kazakhstan,18.53,2724.9,159.41,Asia,12/16/1991\\n']"
      ]
     },
     "execution_count": 25,
     "metadata": {},
     "output_type": "execute_result"
    }
   ],
   "source": [
    "# my_file=open(\"countries - comma.txt\",\"r\")\n",
    "my_file.seek(0)\n",
    "my_file.readlines() # each row is a string in a list"
   ]
  },
  {
   "cell_type": "code",
   "execution_count": 27,
   "metadata": {},
   "outputs": [
    {
     "data": {
      "text/plain": [
       "True"
      ]
     },
     "execution_count": 27,
     "metadata": {},
     "output_type": "execute_result"
    }
   ],
   "source": [
    "my_file.close()\n",
    "my_file.closed"
   ]
  },
  {
   "cell_type": "markdown",
   "metadata": {},
   "source": [
    "#### Writing to a File\n",
    "You can use three methods to write to a file in Python:\n",
    "\n",
    "`write(string)` (for text)<br/>\n",
    "`writelines(list)`<br/>\n",
    "\n",
    "Let's create a new file. The following will create a new file in the specified folder because it does not exist. Remember to give correct path with correct filename; otherwise, you will get an error:\n",
    "\n",
    "Create a notepad file and write some text in it. Make sure to save the file as .txt and save it to the working directory of Python."
   ]
  },
  {
   "cell_type": "code",
   "execution_count": 40,
   "metadata": {},
   "outputs": [],
   "source": [
    "new_file=open(\"my_file.txt\", mode=\"w\") #will create a brand new every time."
   ]
  },
  {
   "cell_type": "code",
   "execution_count": 41,
   "metadata": {},
   "outputs": [
    {
     "data": {
      "text/plain": [
       "25"
      ]
     },
     "execution_count": 41,
     "metadata": {},
     "output_type": "execute_result"
    }
   ],
   "source": [
    "new_file.write(\"This is the first line.\\n\")\n",
    "new_file.write(\"This is the second line.\\n\")\n",
    "\n",
    "# new_file.close()"
   ]
  },
  {
   "cell_type": "code",
   "execution_count": 42,
   "metadata": {},
   "outputs": [],
   "source": [
    "new_file.write(\"This is the 3rd line.\\n\")\n",
    "new_file.write(\"This is the 4th line.\\n\")\n",
    "\n",
    "new_file.close()"
   ]
  },
  {
   "cell_type": "code",
   "execution_count": 45,
   "metadata": {},
   "outputs": [
    {
     "data": {
      "text/plain": [
       "True"
      ]
     },
     "execution_count": 45,
     "metadata": {},
     "output_type": "execute_result"
    }
   ],
   "source": [
    "new_file.closed"
   ]
  },
  {
   "cell_type": "markdown",
   "metadata": {},
   "source": [
    "### alternative method: `with`\n",
    "It will automatically close the file when finished! (by calling the dunder method `__exit__()` behind the scenes at the end)   \n",
    "Also, since a file must be opened to read or write, we might as well put the operations together in an indented block.\n"
   ]
  },
  {
   "cell_type": "code",
   "execution_count": 38,
   "metadata": {},
   "outputs": [],
   "source": [
    "with open(\"my_file.txt\", \"w\") as file:\n",
    "    file.write(\"Here is a new line.\\n\")\n",
    "    file.write(\"The old lines were overwritten.\")"
   ]
  },
  {
   "cell_type": "code",
   "execution_count": 44,
   "metadata": {},
   "outputs": [
    {
     "data": {
      "text/plain": [
       "True"
      ]
     },
     "execution_count": 44,
     "metadata": {},
     "output_type": "execute_result"
    }
   ],
   "source": [
    "file.closed"
   ]
  },
  {
   "cell_type": "markdown",
   "metadata": {},
   "source": [
    "#### Append Mode\n",
    "Now let's write a list to this file with `a+` mode:"
   ]
  },
  {
   "cell_type": "code",
   "execution_count": 47,
   "metadata": {},
   "outputs": [
    {
     "data": {
      "text/plain": [
       "True"
      ]
     },
     "execution_count": 47,
     "metadata": {},
     "output_type": "execute_result"
    }
   ],
   "source": [
    "new_file.closed"
   ]
  },
  {
   "cell_type": "code",
   "execution_count": 13,
   "metadata": {},
   "outputs": [],
   "source": [
    "new_lines=[\"This is the third line.\\n\",\"This is the fourth line\\n\"] #we want to write each of elements in a new line\n",
    "new_file=open(\"my_file.txt\", mode = \"a+\") #append the existing file\n",
    "new_file.writelines(new_lines)\n",
    "for line in new_file:\n",
    "    print(line)\n",
    "new_file.close()"
   ]
  },
  {
   "cell_type": "markdown",
   "metadata": {},
   "source": [
    "#### `seek` Method<br/>\n",
    "If the file is open, reading from a file does not print anything because the file cursor is at the end of the file. To set the cursor at the beginning, you can use `seek()` method of file object:\n"
   ]
  },
  {
   "cell_type": "code",
   "execution_count": 14,
   "metadata": {},
   "outputs": [
    {
     "name": "stdout",
     "output_type": "stream",
     "text": [
      "Current byte at which the file cursor is: 150\n"
     ]
    }
   ],
   "source": [
    "new_lines = [\"This is the fifth line.\\n\",\"This is the sixth line.\\n\"]\n",
    "new_file = open(\"my_file.txt\", mode = \"a+\")\n",
    "for line in new_lines:\n",
    "    new_file.write(line)\n",
    "print(\"Current byte at which the file cursor is:\", new_file.tell()) #the end of file."
   ]
  },
  {
   "cell_type": "code",
   "execution_count": 15,
   "metadata": {
    "scrolled": true
   },
   "outputs": [
    {
     "name": "stdout",
     "output_type": "stream",
     "text": [
      "This is the first line.\n",
      "\n",
      "This is the second line.\n",
      "\n",
      "This is the third line\n",
      "\n",
      "This is the fourth line\n",
      "\n",
      "This is the fifth line.\n",
      "\n",
      "This is the sixth line.\n",
      "\n"
     ]
    }
   ],
   "source": [
    "new_file.seek(0) #bring the cursor at the beginning of the file.\n",
    "for line in new_file:\n",
    "    print(line)"
   ]
  },
  {
   "cell_type": "markdown",
   "metadata": {},
   "source": [
    "We can use `seek(offset, reference_point)` to set the cursor anywhere we wannt in the file.<br/>\n",
    "The reference points are 0 (the beginning of the file and is the default), 1 (the current position of file), and 2 (the end of the file)."
   ]
  },
  {
   "cell_type": "code",
   "execution_count": 16,
   "metadata": {
    "scrolled": true
   },
   "outputs": [
    {
     "name": "stdout",
     "output_type": "stream",
     "text": [
      " is the first line.\n",
      "\n"
     ]
    }
   ],
   "source": [
    "#Notice that the file is stil open.\n",
    "new_file.seek(4, 0) #place the cursor 4 bytes from the beginning\n",
    "print(new_file.readline())\n",
    "new_file.close()"
   ]
  },
  {
   "cell_type": "markdown",
   "metadata": {},
   "source": [
    "#### `next` Method\n",
    "This method allows us to iterate trough new lines in the file."
   ]
  },
  {
   "cell_type": "code",
   "execution_count": 19,
   "metadata": {
    "scrolled": true
   },
   "outputs": [
    {
     "name": "stdout",
     "output_type": "stream",
     "text": [
      "This is the first line.\n",
      "\n",
      "This is the second line.\n",
      "\n",
      "This is the third line\n",
      "\n",
      "This is the fourth line\n",
      "\n",
      "This is the fifth line.\n",
      "\n",
      "This is the sixth line.\n",
      "\n"
     ]
    }
   ],
   "source": [
    "new_file = open(\"my_file.txt\",\"r\")\n",
    "for index in range(6):\n",
    "    line = next(new_file)\n",
    "    print(line)\n",
    "new_file.close()"
   ]
  },
  {
   "cell_type": "code",
   "execution_count": 20,
   "metadata": {},
   "outputs": [
    {
     "name": "stdout",
     "output_type": "stream",
     "text": [
      "This is the first line.\n",
      "\n",
      "This is the second line.\n",
      "\n",
      "This is the third line\n",
      "\n",
      "This is the fourth line\n",
      "\n",
      "This is the fifth line.\n",
      "\n",
      "This is the sixth line.\n",
      "\n"
     ]
    }
   ],
   "source": [
    "new_file = open(\"my_file.txt\",\"r\") #we can accomplish the same via readline()\n",
    "for index in range(6):\n",
    "    line = new_file.readline()\n",
    "    print(line)\n",
    "new_file.close()"
   ]
  },
  {
   "cell_type": "markdown",
   "metadata": {},
   "source": [
    "#### `flush` Method\n",
    "We cannot write back to file by using `write()` method before `close()` method is called. If we want to keep the file open, then we first need to clear the buffer through `flush()`."
   ]
  },
  {
   "cell_type": "code",
   "execution_count": 44,
   "metadata": {},
   "outputs": [],
   "source": [
    "new_file = open(\"my_file.txt\", mode=\"a+\") #open the file"
   ]
  },
  {
   "cell_type": "code",
   "execution_count": 47,
   "metadata": {},
   "outputs": [
    {
     "data": {
      "text/plain": [
       "48"
      ]
     },
     "execution_count": 47,
     "metadata": {},
     "output_type": "execute_result"
    }
   ],
   "source": [
    "new_file.write(\"This is a new line.............................\\n\") #this will not write until we call close() method."
   ]
  },
  {
   "cell_type": "code",
   "execution_count": 51,
   "metadata": {},
   "outputs": [],
   "source": [
    "new_file.close() #now check to see the new line is written. "
   ]
  },
  {
   "cell_type": "code",
   "execution_count": 52,
   "metadata": {},
   "outputs": [
    {
     "data": {
      "text/plain": [
       "False"
      ]
     },
     "execution_count": 52,
     "metadata": {},
     "output_type": "execute_result"
    }
   ],
   "source": [
    "new_file = open(\"my_file.txt\", mode=\"a+\") #open the file\n",
    "new_file.write(\"This is a new line.............................\\n\") #this will not write until we call close() method.\n",
    "new_file.flush() #when we call flush() method, it will write while the file is open.\n",
    "new_file.closed #will return false"
   ]
  },
  {
   "cell_type": "code",
   "execution_count": 53,
   "metadata": {
    "scrolled": true
   },
   "outputs": [
    {
     "data": {
      "text/plain": [
       "True"
      ]
     },
     "execution_count": 53,
     "metadata": {},
     "output_type": "execute_result"
    }
   ],
   "source": [
    "new_file.close()\n",
    "new_file.closed #will return true now"
   ]
  },
  {
   "cell_type": "markdown",
   "metadata": {},
   "source": [
    "#### Reading and Writing to a JSON File \n",
    "You can also write your data to `.json` files.<br/>\n",
    "\n",
    "JSON stands for **J**ava**S**cript **O**bject **N**otation.<br/> \n",
    "\n",
    "JSON has become a popular method for delivering structured information over a network and or between different platforms.<br/> \n",
    "\n",
    "It is basically text with some structure and saving it as `.json` tells how to read the structure; otherwise, it is just a plain text file. It stores data as key: value pairs. The structure can be simple to complex.\n",
    "\n",
    "Take a look at the following simple JSON for countries and their features:"
   ]
  },
  {
   "cell_type": "code",
   "execution_count": null,
   "metadata": {},
   "outputs": [],
   "source": [
    "json_data = '[\n",
    "    {\"ID\":\"CHN\",\"COUNTRY\":\"China\",\"POP\":1398.72,\"AREA\":9596.96,\"GDP\":12234.8,\"CONT\":\"Asia\",\"IND_DAY\":null},\\\n",
    "{\"ID\":\"IND\",\"COUNTRY\":\"India\",\"POP\":1351.16,\"AREA\":3287.26,\"GDP\":2575.67,\"CONT\":\"Asia\",\"IND_DAY\":\"8\\/15\\/1947\"}\n",
    "]'"
   ]
  },
  {
   "cell_type": "markdown",
   "metadata": {},
   "source": [
    "JSON consists of an array of key: value pairs.<br/> \n",
    "Anything before : is called key and after : is called value. This is very similar to Python dictionaries.\n",
    "\n",
    "You can see that the data is separated by, and that curly braces define objects. Square brackets are used to define arrays in more complex JSON files."
   ]
  },
  {
   "cell_type": "code",
   "execution_count": null,
   "metadata": {},
   "outputs": [],
   "source": [
    "json_data = '[\n",
    "{\n",
    "  \"colors\": \n",
    "    [\n",
    "    {\n",
    "      \"color\": \"black\",\n",
    "      \"category\": \"hue\",\n",
    "      \"type\": \"primary\",\n",
    "      \"code\": {\n",
    "        \"rgba\": [255,255,255,1],\n",
    "        \"hex\": \"#000\"\n",
    "      }\n",
    "    },\n",
    "    {\n",
    "      \"color\": \"white\",\n",
    "      \"category\": \"value\",\n",
    "      \"code\": {\n",
    "        \"rgba\": [0,0,0,1],\n",
    "        \"hex\": \"#FFF\"\n",
    "      }\n",
    "    }\n",
    "    ]\n",
    "}\n",
    "]'"
   ]
  },
  {
   "cell_type": "markdown",
   "metadata": {},
   "source": [
    "Note that JSON files can hold different data types in one object as well.\n",
    "\n",
    "When you read the file with read(), you read strings from a file. That means that when you read numbers, you would need to convert them to integers with data type conversion functions like int(). For more complex use cases, you can always use the JSON module.\n",
    "\n",
    "If you have an object x, you can view its JSON string representation with a simple line of code:"
   ]
  },
  {
   "cell_type": "code",
   "execution_count": 48,
   "metadata": {},
   "outputs": [],
   "source": [
    "import json as JSON\n",
    "\n",
    "my_data = '[{\"ID\":\"CHN\",\"COUNTRY\":\"China\",\"POP\":1398.72,\"AREA\":9596.96,\"GDP\":12234.8,\"CONT\":\"Asia\",\"IND_DAY\":null},\\\n",
    "{\"ID\":\"IND\",\"COUNTRY\":\"India\",\"POP\":1351.16,\"AREA\":3287.26,\"GDP\":2575.67,\"CONT\":\"Asia\",\"IND_DAY\":\"8\\/15\\/1947\"}]'"
   ]
  },
  {
   "cell_type": "code",
   "execution_count": 51,
   "metadata": {},
   "outputs": [
    {
     "data": {
      "text/plain": [
       "[{'ID': 'CHN',\n",
       "  'COUNTRY': 'China',\n",
       "  'POP': 1398.72,\n",
       "  'AREA': 9596.96,\n",
       "  'GDP': 12234.8,\n",
       "  'CONT': 'Asia',\n",
       "  'IND_DAY': None},\n",
       " {'ID': 'IND',\n",
       "  'COUNTRY': 'India',\n",
       "  'POP': 1351.16,\n",
       "  'AREA': 3287.26,\n",
       "  'GDP': 2575.67,\n",
       "  'CONT': 'Asia',\n",
       "  'IND_DAY': '8/15/1947'}]"
      ]
     },
     "execution_count": 51,
     "metadata": {},
     "output_type": "execute_result"
    }
   ],
   "source": [
    "json_object = JSON.loads(my_data)\n",
    "json_object"
   ]
  },
  {
   "cell_type": "code",
   "execution_count": 52,
   "metadata": {
    "scrolled": true
   },
   "outputs": [
    {
     "name": "stdout",
     "output_type": "stream",
     "text": [
      "[\n",
      "    {\n",
      "        \"ID\": \"CHN\",\n",
      "        \"COUNTRY\": \"China\",\n",
      "        \"POP\": 1398.72,\n",
      "        \"AREA\": 9596.96,\n",
      "        \"GDP\": 12234.8,\n",
      "        \"CONT\": \"Asia\",\n",
      "        \"IND_DAY\": null\n",
      "    },\n",
      "    {\n",
      "        \"ID\": \"IND\",\n",
      "        \"COUNTRY\": \"India\",\n",
      "        \"POP\": 1351.16,\n",
      "        \"AREA\": 3287.26,\n",
      "        \"GDP\": 2575.67,\n",
      "        \"CONT\": \"Asia\",\n",
      "        \"IND_DAY\": \"8/15/1947\"\n",
      "    }\n",
      "]\n"
     ]
    }
   ],
   "source": [
    "json_formatted_str = JSON.dumps(json_object, indent = 4)\n",
    "\n",
    "print(json_formatted_str) #we can print it in a nice format"
   ]
  },
  {
   "cell_type": "code",
   "execution_count": 91,
   "metadata": {},
   "outputs": [],
   "source": [
    "# my_file = open(\"countries - JSON.txt\", \"r\")\n",
    "# my_data = my_file.read()\n",
    "# my_file.close()"
   ]
  },
  {
   "cell_type": "code",
   "execution_count": 53,
   "metadata": {},
   "outputs": [],
   "source": [
    "with open(\"data\\countries - JSON.txt\", \"r\") as json_file:\n",
    "    json_data = json_file.read()"
   ]
  },
  {
   "cell_type": "code",
   "execution_count": 54,
   "metadata": {},
   "outputs": [
    {
     "data": {
      "text/plain": [
       "True"
      ]
     },
     "execution_count": 54,
     "metadata": {},
     "output_type": "execute_result"
    }
   ],
   "source": [
    "json_file.closed"
   ]
  },
  {
   "cell_type": "code",
   "execution_count": 55,
   "metadata": {},
   "outputs": [
    {
     "data": {
      "text/plain": [
       "'[{\"ID\":\"CHN\",\"COUNTRY\":\"China\",\"POP\":1398.72,\"AREA\":9596.96,\"GDP\":12234.8,\"CONT\":\"Asia\",\"IND_DAY\":null},\\n{\"ID\":\"IND\",\"COUNTRY\":\"India\",\"POP\":1351.16,\"AREA\":3287.26,\"GDP\":2575.67,\"CONT\":\"Asia\",\"IND_DAY\":\"8\\\\/15\\\\/1947\"},\\n{\"ID\":\"USA\",\"COUNTRY\":\"US\",\"POP\":329.74,\"AREA\":9833.52,\"GDP\":19485.4,\"CONT\":\"N.America\",\"IND_DAY\":\"1776-07-04\"},\\n{\"ID\":\"IDN\",\"COUNTRY\":\"Indonesia\",\"POP\":268.07,\"AREA\":1910.93,\"GDP\":1015.54,\"CONT\":\"Asia\",\"IND_DAY\":\"8\\\\/17\\\\/1945\"},\\n{\"ID\":\"BRA\",\"COUNTRY\":\"Brazil\",\"POP\":210.32,\"AREA\":8515.77,\"GDP\":2055.51,\"CONT\":\"S.America\",\"IND_DAY\":\"1822-09-07\"},\\n{\"ID\":\"PAK\",\"COUNTRY\":\"Pakistan\",\"POP\":205.71,\"AREA\":881.91,\"GDP\":302.14,\"CONT\":\"Asia\",\"IND_DAY\":\"8\\\\/14\\\\/1947\"},\\n{\"ID\":\"NGA\",\"COUNTRY\":\"Nigeria\",\"POP\":200.96,\"AREA\":923.77,\"GDP\":375.77,\"CONT\":\"Africa\",\"IND_DAY\":\"10\\\\/1\\\\/1960\"},\\n{\"ID\":\"BGD\",\"COUNTRY\":\"Bangladesh\",\"POP\":167.09,\"AREA\":147.57,\"GDP\":245.63,\"CONT\":\"Asia\",\"IND_DAY\":\"3\\\\/26\\\\/1971\"},\\n{\"ID\":\"RUS\",\"COUNTRY\":\"Russia\",\"POP\":146.79,\"AREA\":17098.2,\"GDP\":1530.75,\"CONT\":null,\"IND_DAY\":\"6\\\\/12\\\\/1992\"},\\n{\"ID\":\"MEX\",\"COUNTRY\":\"Mexico\",\"POP\":126.58,\"AREA\":1964.38,\"GDP\":1158.23,\"CONT\":\"N.America\",\"IND_DAY\":\"1810-09-16\"},\\n{\"ID\":\"JPN\",\"COUNTRY\":\"Japan\",\"POP\":126.22,\"AREA\":377.97,\"GDP\":4872.42,\"CONT\":\"Asia\",\"IND_DAY\":null},\\n{\"ID\":\"DEU\",\"COUNTRY\":\"Germany\",\"POP\":83.02,\"AREA\":357.11,\"GDP\":3693.2,\"CONT\":\"Europe\",\"IND_DAY\":null},\\n{\"ID\":\"FRA\",\"COUNTRY\":\"France\",\"POP\":67.02,\"AREA\":640.68,\"GDP\":2582.49,\"CONT\":\"Europe\",\"IND_DAY\":\"1789-07-14\"},\\n{\"ID\":\"GBR\",\"COUNTRY\":\"UK\",\"POP\":66.44,\"AREA\":242.5,\"GDP\":2631.23,\"CONT\":\"Europe\",\"IND_DAY\":null},\\n{\"ID\":\"ITA\",\"COUNTRY\":\"Italy\",\"POP\":60.36,\"AREA\":301.34,\"GDP\":1943.84,\"CONT\":\"Europe\",\"IND_DAY\":null},\\n{\"ID\":\"ARG\",\"COUNTRY\":\"Argentina\",\"POP\":44.94,\"AREA\":2780.4,\"GDP\":637.49,\"CONT\":\"S.America\",\"IND_DAY\":\"1816-07-09\"},\\n{\"ID\":\"DZA\",\"COUNTRY\":\"Algeria\",\"POP\":43.38,\"AREA\":2381.74,\"GDP\":167.56,\"CONT\":\"Africa\",\"IND_DAY\":\"7\\\\/5\\\\/1962\"},\\n{\"ID\":\"CAN\",\"COUNTRY\":\"Canada\",\"POP\":37.59,\"AREA\":9984.67,\"GDP\":1647.12,\"CONT\":\"N.America\",\"IND_DAY\":\"1867-07-01\"},\\n{\"ID\":\"AUS\",\"COUNTRY\":\"Australia\",\"POP\":25.47,\"AREA\":7692.02,\"GDP\":1408.68,\"CONT\":\"Oceania\",\"IND_DAY\":null},\\n{\"ID\":\"KAZ\",\"COUNTRY\":\"Kazakhstan\",\"POP\":18.53,\"AREA\":2724.9,\"GDP\":159.41,\"CONT\":\"Asia\",\"IND_DAY\":\"12\\\\/16\\\\/1991\"}]'"
      ]
     },
     "execution_count": 55,
     "metadata": {},
     "output_type": "execute_result"
    }
   ],
   "source": [
    "json_data"
   ]
  },
  {
   "cell_type": "code",
   "execution_count": 93,
   "metadata": {},
   "outputs": [
    {
     "name": "stdout",
     "output_type": "stream",
     "text": [
      "[{'ID': 'CHN', 'COUNTRY': 'China', 'POP': 1398.72, 'AREA': 9596.96, 'GDP': 12234.8, 'CONT': 'Asia', 'IND_DAY': None}, {'ID': 'IND', 'COUNTRY': 'India', 'POP': 1351.16, 'AREA': 3287.26, 'GDP': 2575.67, 'CONT': 'Asia', 'IND_DAY': '8/15/1947'}, {'ID': 'USA', 'COUNTRY': 'US', 'POP': 329.74, 'AREA': 9833.52, 'GDP': 19485.4, 'CONT': 'N.America', 'IND_DAY': '1776-07-04'}, {'ID': 'IDN', 'COUNTRY': 'Indonesia', 'POP': 268.07, 'AREA': 1910.93, 'GDP': 1015.54, 'CONT': 'Asia', 'IND_DAY': '8/17/1945'}, {'ID': 'BRA', 'COUNTRY': 'Brazil', 'POP': 210.32, 'AREA': 8515.77, 'GDP': 2055.51, 'CONT': 'S.America', 'IND_DAY': '1822-09-07'}, {'ID': 'PAK', 'COUNTRY': 'Pakistan', 'POP': 205.71, 'AREA': 881.91, 'GDP': 302.14, 'CONT': 'Asia', 'IND_DAY': '8/14/1947'}, {'ID': 'NGA', 'COUNTRY': 'Nigeria', 'POP': 200.96, 'AREA': 923.77, 'GDP': 375.77, 'CONT': 'Africa', 'IND_DAY': '10/1/1960'}, {'ID': 'BGD', 'COUNTRY': 'Bangladesh', 'POP': 167.09, 'AREA': 147.57, 'GDP': 245.63, 'CONT': 'Asia', 'IND_DAY': '3/26/1971'}, {'ID': 'RUS', 'COUNTRY': 'Russia', 'POP': 146.79, 'AREA': 17098.2, 'GDP': 1530.75, 'CONT': None, 'IND_DAY': '6/12/1992'}, {'ID': 'MEX', 'COUNTRY': 'Mexico', 'POP': 126.58, 'AREA': 1964.38, 'GDP': 1158.23, 'CONT': 'N.America', 'IND_DAY': '1810-09-16'}, {'ID': 'JPN', 'COUNTRY': 'Japan', 'POP': 126.22, 'AREA': 377.97, 'GDP': 4872.42, 'CONT': 'Asia', 'IND_DAY': None}, {'ID': 'DEU', 'COUNTRY': 'Germany', 'POP': 83.02, 'AREA': 357.11, 'GDP': 3693.2, 'CONT': 'Europe', 'IND_DAY': None}, {'ID': 'FRA', 'COUNTRY': 'France', 'POP': 67.02, 'AREA': 640.68, 'GDP': 2582.49, 'CONT': 'Europe', 'IND_DAY': '1789-07-14'}, {'ID': 'GBR', 'COUNTRY': 'UK', 'POP': 66.44, 'AREA': 242.5, 'GDP': 2631.23, 'CONT': 'Europe', 'IND_DAY': None}, {'ID': 'ITA', 'COUNTRY': 'Italy', 'POP': 60.36, 'AREA': 301.34, 'GDP': 1943.84, 'CONT': 'Europe', 'IND_DAY': None}, {'ID': 'ARG', 'COUNTRY': 'Argentina', 'POP': 44.94, 'AREA': 2780.4, 'GDP': 637.49, 'CONT': 'S.America', 'IND_DAY': '1816-07-09'}, {'ID': 'DZA', 'COUNTRY': 'Algeria', 'POP': 43.38, 'AREA': 2381.74, 'GDP': 167.56, 'CONT': 'Africa', 'IND_DAY': '7/5/1962'}, {'ID': 'CAN', 'COUNTRY': 'Canada', 'POP': 37.59, 'AREA': 9984.67, 'GDP': 1647.12, 'CONT': 'N.America', 'IND_DAY': '1867-07-01'}, {'ID': 'AUS', 'COUNTRY': 'Australia', 'POP': 25.47, 'AREA': 7692.02, 'GDP': 1408.68, 'CONT': 'Oceania', 'IND_DAY': None}, {'ID': 'KAZ', 'COUNTRY': 'Kazakhstan', 'POP': 18.53, 'AREA': 2724.9, 'GDP': 159.41, 'CONT': 'Asia', 'IND_DAY': '12/16/1991'}]\n"
     ]
    }
   ],
   "source": [
    "json_object = JSON.loads(my_data)\n",
    "print(json_object) #not pretty"
   ]
  },
  {
   "cell_type": "code",
   "execution_count": 92,
   "metadata": {},
   "outputs": [
    {
     "name": "stdout",
     "output_type": "stream",
     "text": [
      "[\n",
      "  {\n",
      "    \"ID\": \"CHN\",\n",
      "    \"COUNTRY\": \"China\",\n",
      "    \"POP\": 1398.72,\n",
      "    \"AREA\": 9596.96,\n",
      "    \"GDP\": 12234.8,\n",
      "    \"CONT\": \"Asia\",\n",
      "    \"IND_DAY\": null\n",
      "  },\n",
      "  {\n",
      "    \"ID\": \"IND\",\n",
      "    \"COUNTRY\": \"India\",\n",
      "    \"POP\": 1351.16,\n",
      "    \"AREA\": 3287.26,\n",
      "    \"GDP\": 2575.67,\n",
      "    \"CONT\": \"Asia\",\n",
      "    \"IND_DAY\": \"8/15/1947\"\n",
      "  },\n",
      "  {\n",
      "    \"ID\": \"USA\",\n",
      "    \"COUNTRY\": \"US\",\n",
      "    \"POP\": 329.74,\n",
      "    \"AREA\": 9833.52,\n",
      "    \"GDP\": 19485.4,\n",
      "    \"CONT\": \"N.America\",\n",
      "    \"IND_DAY\": \"1776-07-04\"\n",
      "  },\n",
      "  {\n",
      "    \"ID\": \"IDN\",\n",
      "    \"COUNTRY\": \"Indonesia\",\n",
      "    \"POP\": 268.07,\n",
      "    \"AREA\": 1910.93,\n",
      "    \"GDP\": 1015.54,\n",
      "    \"CONT\": \"Asia\",\n",
      "    \"IND_DAY\": \"8/17/1945\"\n",
      "  },\n",
      "  {\n",
      "    \"ID\": \"BRA\",\n",
      "    \"COUNTRY\": \"Brazil\",\n",
      "    \"POP\": 210.32,\n",
      "    \"AREA\": 8515.77,\n",
      "    \"GDP\": 2055.51,\n",
      "    \"CONT\": \"S.America\",\n",
      "    \"IND_DAY\": \"1822-09-07\"\n",
      "  },\n",
      "  {\n",
      "    \"ID\": \"PAK\",\n",
      "    \"COUNTRY\": \"Pakistan\",\n",
      "    \"POP\": 205.71,\n",
      "    \"AREA\": 881.91,\n",
      "    \"GDP\": 302.14,\n",
      "    \"CONT\": \"Asia\",\n",
      "    \"IND_DAY\": \"8/14/1947\"\n",
      "  },\n",
      "  {\n",
      "    \"ID\": \"NGA\",\n",
      "    \"COUNTRY\": \"Nigeria\",\n",
      "    \"POP\": 200.96,\n",
      "    \"AREA\": 923.77,\n",
      "    \"GDP\": 375.77,\n",
      "    \"CONT\": \"Africa\",\n",
      "    \"IND_DAY\": \"10/1/1960\"\n",
      "  },\n",
      "  {\n",
      "    \"ID\": \"BGD\",\n",
      "    \"COUNTRY\": \"Bangladesh\",\n",
      "    \"POP\": 167.09,\n",
      "    \"AREA\": 147.57,\n",
      "    \"GDP\": 245.63,\n",
      "    \"CONT\": \"Asia\",\n",
      "    \"IND_DAY\": \"3/26/1971\"\n",
      "  },\n",
      "  {\n",
      "    \"ID\": \"RUS\",\n",
      "    \"COUNTRY\": \"Russia\",\n",
      "    \"POP\": 146.79,\n",
      "    \"AREA\": 17098.2,\n",
      "    \"GDP\": 1530.75,\n",
      "    \"CONT\": null,\n",
      "    \"IND_DAY\": \"6/12/1992\"\n",
      "  },\n",
      "  {\n",
      "    \"ID\": \"MEX\",\n",
      "    \"COUNTRY\": \"Mexico\",\n",
      "    \"POP\": 126.58,\n",
      "    \"AREA\": 1964.38,\n",
      "    \"GDP\": 1158.23,\n",
      "    \"CONT\": \"N.America\",\n",
      "    \"IND_DAY\": \"1810-09-16\"\n",
      "  },\n",
      "  {\n",
      "    \"ID\": \"JPN\",\n",
      "    \"COUNTRY\": \"Japan\",\n",
      "    \"POP\": 126.22,\n",
      "    \"AREA\": 377.97,\n",
      "    \"GDP\": 4872.42,\n",
      "    \"CONT\": \"Asia\",\n",
      "    \"IND_DAY\": null\n",
      "  },\n",
      "  {\n",
      "    \"ID\": \"DEU\",\n",
      "    \"COUNTRY\": \"Germany\",\n",
      "    \"POP\": 83.02,\n",
      "    \"AREA\": 357.11,\n",
      "    \"GDP\": 3693.2,\n",
      "    \"CONT\": \"Europe\",\n",
      "    \"IND_DAY\": null\n",
      "  },\n",
      "  {\n",
      "    \"ID\": \"FRA\",\n",
      "    \"COUNTRY\": \"France\",\n",
      "    \"POP\": 67.02,\n",
      "    \"AREA\": 640.68,\n",
      "    \"GDP\": 2582.49,\n",
      "    \"CONT\": \"Europe\",\n",
      "    \"IND_DAY\": \"1789-07-14\"\n",
      "  },\n",
      "  {\n",
      "    \"ID\": \"GBR\",\n",
      "    \"COUNTRY\": \"UK\",\n",
      "    \"POP\": 66.44,\n",
      "    \"AREA\": 242.5,\n",
      "    \"GDP\": 2631.23,\n",
      "    \"CONT\": \"Europe\",\n",
      "    \"IND_DAY\": null\n",
      "  },\n",
      "  {\n",
      "    \"ID\": \"ITA\",\n",
      "    \"COUNTRY\": \"Italy\",\n",
      "    \"POP\": 60.36,\n",
      "    \"AREA\": 301.34,\n",
      "    \"GDP\": 1943.84,\n",
      "    \"CONT\": \"Europe\",\n",
      "    \"IND_DAY\": null\n",
      "  },\n",
      "  {\n",
      "    \"ID\": \"ARG\",\n",
      "    \"COUNTRY\": \"Argentina\",\n",
      "    \"POP\": 44.94,\n",
      "    \"AREA\": 2780.4,\n",
      "    \"GDP\": 637.49,\n",
      "    \"CONT\": \"S.America\",\n",
      "    \"IND_DAY\": \"1816-07-09\"\n",
      "  },\n",
      "  {\n",
      "    \"ID\": \"DZA\",\n",
      "    \"COUNTRY\": \"Algeria\",\n",
      "    \"POP\": 43.38,\n",
      "    \"AREA\": 2381.74,\n",
      "    \"GDP\": 167.56,\n",
      "    \"CONT\": \"Africa\",\n",
      "    \"IND_DAY\": \"7/5/1962\"\n",
      "  },\n",
      "  {\n",
      "    \"ID\": \"CAN\",\n",
      "    \"COUNTRY\": \"Canada\",\n",
      "    \"POP\": 37.59,\n",
      "    \"AREA\": 9984.67,\n",
      "    \"GDP\": 1647.12,\n",
      "    \"CONT\": \"N.America\",\n",
      "    \"IND_DAY\": \"1867-07-01\"\n",
      "  },\n",
      "  {\n",
      "    \"ID\": \"AUS\",\n",
      "    \"COUNTRY\": \"Australia\",\n",
      "    \"POP\": 25.47,\n",
      "    \"AREA\": 7692.02,\n",
      "    \"GDP\": 1408.68,\n",
      "    \"CONT\": \"Oceania\",\n",
      "    \"IND_DAY\": null\n",
      "  },\n",
      "  {\n",
      "    \"ID\": \"KAZ\",\n",
      "    \"COUNTRY\": \"Kazakhstan\",\n",
      "    \"POP\": 18.53,\n",
      "    \"AREA\": 2724.9,\n",
      "    \"GDP\": 159.41,\n",
      "    \"CONT\": \"Asia\",\n",
      "    \"IND_DAY\": \"12/16/1991\"\n",
      "  }\n",
      "]\n"
     ]
    }
   ],
   "source": [
    "json_object = JSON.loads(my_data)\n",
    "\n",
    "json_formatted_str = JSON.dumps(json_object, indent = 2) #we can print it in a nice format\n",
    "\n",
    "print(json_formatted_str) "
   ]
  },
  {
   "cell_type": "markdown",
   "metadata": {},
   "source": [
    "### Question?\n",
    "Why do we need to use the `.loads()` method?\n",
    "\n",
    "It seems like `.dumps()` will work without doing `.loads()` first\n",
    "\n",
    "* `json.dumps()` formats a pyhton object as a **string** of JSON"
   ]
  },
  {
   "cell_type": "code",
   "execution_count": 56,
   "metadata": {},
   "outputs": [
    {
     "name": "stdout",
     "output_type": "stream",
     "text": [
      "[\n",
      "    {\n",
      "        \"ID\": \"CHN\",\n",
      "        \"COUNTRY\": \"China\",\n",
      "        \"POP\": 1398.72,\n",
      "        \"AREA\": 9596.96,\n",
      "        \"GDP\": 12234.8,\n",
      "        \"CONT\": \"Asia\",\n",
      "        \"IND_DAY\": null\n",
      "    },\n",
      "    {\n",
      "        \"ID\": \"IND\",\n",
      "        \"COUNTRY\": \"India\",\n",
      "        \"POP\": 1351.16,\n",
      "        \"AREA\": 3287.26,\n",
      "        \"GDP\": 2575.67,\n",
      "        \"CONT\": \"Asia\",\n",
      "        \"IND_DAY\": \"8/15/1947\"\n",
      "    }\n",
      "]\n"
     ]
    }
   ],
   "source": [
    "# json_object = JSON.loads(json_data)\n",
    "\n",
    "json_strformat = JSON.dumps(json_data, indent = 2) #we can print it in a nice format\n",
    "\n",
    "print(json_formatted_str) "
   ]
  },
  {
   "cell_type": "markdown",
   "metadata": {},
   "source": [
    "***\n",
    "\n",
    "To write the JSON in a file, you can use the `write()` method. "
   ]
  },
  {
   "cell_type": "code",
   "execution_count": 101,
   "metadata": {},
   "outputs": [],
   "source": [
    "import json as JSON\n",
    "my_file = open(\"countries - JSON.txt\", \"r\")\n",
    "my_data = my_file.read()\n",
    "my_file.close()\n",
    "\n",
    "json_object = JSON.loads(my_data)\n",
    "json_formatted_str = JSON.dumps(json_object, indent = 2) #we can print it in a nice format\n",
    "my_file = open(\"countries.json\",\"w\") # create and open an new file to write to\n",
    "my_file.write(json_formatted_str)\n",
    "my_file.close()"
   ]
  },
  {
   "cell_type": "markdown",
   "metadata": {},
   "source": [
    "Now let's read a JSON file."
   ]
  },
  {
   "cell_type": "code",
   "execution_count": 103,
   "metadata": {},
   "outputs": [
    {
     "name": "stdout",
     "output_type": "stream",
     "text": [
      "[\n",
      "  {\n",
      "    \"ID\": \"CHN\",\n",
      "    \"COUNTRY\": \"China\",\n",
      "    \"POP\": 1398.72,\n",
      "    \"AREA\": 9596.96,\n",
      "    \"GDP\": 12234.8,\n",
      "    \"CONT\": \"Asia\",\n",
      "    \"IND_DAY\": null\n",
      "  },\n",
      "  {\n",
      "    \"ID\": \"IND\",\n",
      "    \"COUNTRY\": \"India\",\n",
      "    \"POP\": 1351.16,\n",
      "    \"AREA\": 3287.26,\n",
      "    \"GDP\": 2575.67,\n",
      "    \"CONT\": \"Asia\",\n",
      "    \"IND_DAY\": \"8/15/1947\"\n",
      "  },\n",
      "  {\n",
      "    \"ID\": \"USA\",\n",
      "    \"COUNTRY\": \"US\",\n",
      "    \"POP\": 329.74,\n",
      "    \"AREA\": 9833.52,\n",
      "    \"GDP\": 19485.4,\n",
      "    \"CONT\": \"N.America\",\n",
      "    \"IND_DAY\": \"1776-07-04\"\n",
      "  },\n",
      "  {\n",
      "    \"ID\": \"IDN\",\n",
      "    \"COUNTRY\": \"Indonesia\",\n",
      "    \"POP\": 268.07,\n",
      "    \"AREA\": 1910.93,\n",
      "    \"GDP\": 1015.54,\n",
      "    \"CONT\": \"Asia\",\n",
      "    \"IND_DAY\": \"8/17/1945\"\n",
      "  },\n",
      "  {\n",
      "    \"ID\": \"BRA\",\n",
      "    \"COUNTRY\": \"Brazil\",\n",
      "    \"POP\": 210.32,\n",
      "    \"AREA\": 8515.77,\n",
      "    \"GDP\": 2055.51,\n",
      "    \"CONT\": \"S.America\",\n",
      "    \"IND_DAY\": \"1822-09-07\"\n",
      "  },\n",
      "  {\n",
      "    \"ID\": \"PAK\",\n",
      "    \"COUNTRY\": \"Pakistan\",\n",
      "    \"POP\": 205.71,\n",
      "    \"AREA\": 881.91,\n",
      "    \"GDP\": 302.14,\n",
      "    \"CONT\": \"Asia\",\n",
      "    \"IND_DAY\": \"8/14/1947\"\n",
      "  },\n",
      "  {\n",
      "    \"ID\": \"NGA\",\n",
      "    \"COUNTRY\": \"Nigeria\",\n",
      "    \"POP\": 200.96,\n",
      "    \"AREA\": 923.77,\n",
      "    \"GDP\": 375.77,\n",
      "    \"CONT\": \"Africa\",\n",
      "    \"IND_DAY\": \"10/1/1960\"\n",
      "  },\n",
      "  {\n",
      "    \"ID\": \"BGD\",\n",
      "    \"COUNTRY\": \"Bangladesh\",\n",
      "    \"POP\": 167.09,\n",
      "    \"AREA\": 147.57,\n",
      "    \"GDP\": 245.63,\n",
      "    \"CONT\": \"Asia\",\n",
      "    \"IND_DAY\": \"3/26/1971\"\n",
      "  },\n",
      "  {\n",
      "    \"ID\": \"RUS\",\n",
      "    \"COUNTRY\": \"Russia\",\n",
      "    \"POP\": 146.79,\n",
      "    \"AREA\": 17098.2,\n",
      "    \"GDP\": 1530.75,\n",
      "    \"CONT\": null,\n",
      "    \"IND_DAY\": \"6/12/1992\"\n",
      "  },\n",
      "  {\n",
      "    \"ID\": \"MEX\",\n",
      "    \"COUNTRY\": \"Mexico\",\n",
      "    \"POP\": 126.58,\n",
      "    \"AREA\": 1964.38,\n",
      "    \"GDP\": 1158.23,\n",
      "    \"CONT\": \"N.America\",\n",
      "    \"IND_DAY\": \"1810-09-16\"\n",
      "  },\n",
      "  {\n",
      "    \"ID\": \"JPN\",\n",
      "    \"COUNTRY\": \"Japan\",\n",
      "    \"POP\": 126.22,\n",
      "    \"AREA\": 377.97,\n",
      "    \"GDP\": 4872.42,\n",
      "    \"CONT\": \"Asia\",\n",
      "    \"IND_DAY\": null\n",
      "  },\n",
      "  {\n",
      "    \"ID\": \"DEU\",\n",
      "    \"COUNTRY\": \"Germany\",\n",
      "    \"POP\": 83.02,\n",
      "    \"AREA\": 357.11,\n",
      "    \"GDP\": 3693.2,\n",
      "    \"CONT\": \"Europe\",\n",
      "    \"IND_DAY\": null\n",
      "  },\n",
      "  {\n",
      "    \"ID\": \"FRA\",\n",
      "    \"COUNTRY\": \"France\",\n",
      "    \"POP\": 67.02,\n",
      "    \"AREA\": 640.68,\n",
      "    \"GDP\": 2582.49,\n",
      "    \"CONT\": \"Europe\",\n",
      "    \"IND_DAY\": \"1789-07-14\"\n",
      "  },\n",
      "  {\n",
      "    \"ID\": \"GBR\",\n",
      "    \"COUNTRY\": \"UK\",\n",
      "    \"POP\": 66.44,\n",
      "    \"AREA\": 242.5,\n",
      "    \"GDP\": 2631.23,\n",
      "    \"CONT\": \"Europe\",\n",
      "    \"IND_DAY\": null\n",
      "  },\n",
      "  {\n",
      "    \"ID\": \"ITA\",\n",
      "    \"COUNTRY\": \"Italy\",\n",
      "    \"POP\": 60.36,\n",
      "    \"AREA\": 301.34,\n",
      "    \"GDP\": 1943.84,\n",
      "    \"CONT\": \"Europe\",\n",
      "    \"IND_DAY\": null\n",
      "  },\n",
      "  {\n",
      "    \"ID\": \"ARG\",\n",
      "    \"COUNTRY\": \"Argentina\",\n",
      "    \"POP\": 44.94,\n",
      "    \"AREA\": 2780.4,\n",
      "    \"GDP\": 637.49,\n",
      "    \"CONT\": \"S.America\",\n",
      "    \"IND_DAY\": \"1816-07-09\"\n",
      "  },\n",
      "  {\n",
      "    \"ID\": \"DZA\",\n",
      "    \"COUNTRY\": \"Algeria\",\n",
      "    \"POP\": 43.38,\n",
      "    \"AREA\": 2381.74,\n",
      "    \"GDP\": 167.56,\n",
      "    \"CONT\": \"Africa\",\n",
      "    \"IND_DAY\": \"7/5/1962\"\n",
      "  },\n",
      "  {\n",
      "    \"ID\": \"CAN\",\n",
      "    \"COUNTRY\": \"Canada\",\n",
      "    \"POP\": 37.59,\n",
      "    \"AREA\": 9984.67,\n",
      "    \"GDP\": 1647.12,\n",
      "    \"CONT\": \"N.America\",\n",
      "    \"IND_DAY\": \"1867-07-01\"\n",
      "  },\n",
      "  {\n",
      "    \"ID\": \"AUS\",\n",
      "    \"COUNTRY\": \"Australia\",\n",
      "    \"POP\": 25.47,\n",
      "    \"AREA\": 7692.02,\n",
      "    \"GDP\": 1408.68,\n",
      "    \"CONT\": \"Oceania\",\n",
      "    \"IND_DAY\": null\n",
      "  },\n",
      "  {\n",
      "    \"ID\": \"KAZ\",\n",
      "    \"COUNTRY\": \"Kazakhstan\",\n",
      "    \"POP\": 18.53,\n",
      "    \"AREA\": 2724.9,\n",
      "    \"GDP\": 159.41,\n",
      "    \"CONT\": \"Asia\",\n",
      "    \"IND_DAY\": \"12/16/1991\"\n",
      "  }\n",
      "]\n"
     ]
    }
   ],
   "source": [
    "my_file = open('countries.json', 'r') \n",
    "json_object = JSON.load(my_file)  #\n",
    "print(JSON.dumps(json_object, indent=2))\n",
    "my_file.close()"
   ]
  }
 ],
 "metadata": {
  "kernelspec": {
   "display_name": "Python 3",
   "language": "python",
   "name": "python3"
  },
  "language_info": {
   "codemirror_mode": {
    "name": "ipython",
    "version": 3
   },
   "file_extension": ".py",
   "mimetype": "text/x-python",
   "name": "python",
   "nbconvert_exporter": "python",
   "pygments_lexer": "ipython3",
   "version": "3.7.7"
  }
 },
 "nbformat": 4,
 "nbformat_minor": 4
}
