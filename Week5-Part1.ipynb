{
 "cells": [
  {
   "cell_type": "markdown",
   "metadata": {},
   "source": [
    "# Python Object Oriented Programming"
   ]
  },
  {
   "cell_type": "markdown",
   "metadata": {},
   "source": [
    "Tutorial: https://docs.python.org/3/tutorial/classes.html"
   ]
  },
  {
   "cell_type": "markdown",
   "metadata": {},
   "source": [
    "### Object Oriented Programming vs. Functional Programming"
   ]
  },
  {
   "cell_type": "markdown",
   "metadata": {},
   "source": [
    "## Classes and Objects"
   ]
  },
  {
   "cell_type": "markdown",
   "metadata": {},
   "source": [
    "In Python, classes are created to bring together similar functions and attributes. A class is defined similarly to a function, though it uses the *class* keyword instead of *def*."
   ]
  },
  {
   "cell_type": "code",
   "execution_count": 5,
   "metadata": {},
   "outputs": [],
   "source": [
    "class my_class: #this is how we define a class. very similar to defining a function except that we use class instead of def\n",
    "    my_attribute = 9 #a class attribute\n",
    "    def my_function(): #class function\n",
    "        print('Hello world!')"
   ]
  },
  {
   "cell_type": "code",
   "execution_count": 6,
   "metadata": {},
   "outputs": [
    {
     "data": {
      "text/plain": [
       "9"
      ]
     },
     "execution_count": 6,
     "metadata": {},
     "output_type": "execute_result"
    }
   ],
   "source": [
    "my_class.my_attribute"
   ]
  },
  {
   "cell_type": "code",
   "execution_count": 7,
   "metadata": {
    "scrolled": true
   },
   "outputs": [
    {
     "name": "stdout",
     "output_type": "stream",
     "text": [
      "Hello world!\n"
     ]
    }
   ],
   "source": [
    "my_class.my_function()"
   ]
  },
  {
   "cell_type": "markdown",
   "metadata": {},
   "source": [
    "*When we declare a class, we can also create an Instance of that class, which is also called \"Object\". You can think of Object as a copy of the class. Then, the object will carry all the attributes and functions that were declared within the class. Creating an object with a predefined/structured classes will allow us to store the same type of data by group of objects.\n",
    "\n",
    "*We often want values to be initialized inside a class when we first create an object. In other words, when we create an object, we want that object to carry some default values. We accomplish this by declaring a special function called \\__init\\__ inside the class. This function is automatically called when we create the new class. This function is used to initialize the values for the new object.<br/>\n",
    "*We can call the init method \"constructor method\" as well."
   ]
  },
  {
   "cell_type": "code",
   "execution_count": 18,
   "metadata": {},
   "outputs": [],
   "source": [
    "class my_new_class:\n",
    "    \n",
    "    def __init__(self): #define an __init__ function\n",
    "        self.value = 9\n",
    "        \n",
    "    def set(self, value): #define a custom function (so-called setter function)\n",
    "        self.value = value"
   ]
  },
  {
   "cell_type": "markdown",
   "metadata": {},
   "source": [
    "Objects are instances of a class. We create an instance by calling the class.<br/>\n",
    "Let's create two objects from the above defined class."
   ]
  },
  {
   "cell_type": "code",
   "execution_count": 19,
   "metadata": {},
   "outputs": [],
   "source": [
    "object1 = my_new_class() #create an instance of the above defined class\n",
    "object2 = my_new_class() #create another instance of the above defined class"
   ]
  },
  {
   "cell_type": "code",
   "execution_count": 20,
   "metadata": {
    "scrolled": true
   },
   "outputs": [
    {
     "data": {
      "text/plain": [
       "9"
      ]
     },
     "execution_count": 20,
     "metadata": {},
     "output_type": "execute_result"
    }
   ],
   "source": [
    "object1.value #this object's value attribute is automatically initialized due to _init_"
   ]
  },
  {
   "cell_type": "code",
   "execution_count": 21,
   "metadata": {},
   "outputs": [
    {
     "data": {
      "text/plain": [
       "9"
      ]
     },
     "execution_count": 21,
     "metadata": {},
     "output_type": "execute_result"
    }
   ],
   "source": [
    "object2.value #this object's value attribute is also automatically initialized due to _init_"
   ]
  },
  {
   "cell_type": "code",
   "execution_count": 23,
   "metadata": {},
   "outputs": [],
   "source": [
    "object2.set(10) #let's set second object's attribute as 10"
   ]
  },
  {
   "cell_type": "code",
   "execution_count": 24,
   "metadata": {},
   "outputs": [
    {
     "data": {
      "text/plain": [
       "9"
      ]
     },
     "execution_count": 24,
     "metadata": {},
     "output_type": "execute_result"
    }
   ],
   "source": [
    "object1.value #will only hold the initialized value"
   ]
  },
  {
   "cell_type": "code",
   "execution_count": 25,
   "metadata": {},
   "outputs": [
    {
     "data": {
      "text/plain": [
       "10"
      ]
     },
     "execution_count": 25,
     "metadata": {},
     "output_type": "execute_result"
    }
   ],
   "source": [
    "object2.value #will hold the newly set value"
   ]
  },
  {
   "cell_type": "markdown",
   "metadata": {},
   "source": [
    "Keyword *self* is used in a class to attach a variable to the object. That variable will always be attached to the object. Any other variables defined in class will be local with in a function.<br/>"
   ]
  },
  {
   "cell_type": "markdown",
   "metadata": {},
   "source": [
    "We can pass along additional arguments through \\__init__ other than self so that the new objects can be initialized differently.<br/>\n",
    "Let's define a class named \"Man\" and pass additional attributes along with a default one."
   ]
  },
  {
   "cell_type": "code",
   "execution_count": 64,
   "metadata": {},
   "outputs": [],
   "source": [
    "class Man:\n",
    "    def __init__(self, first_name, second_name):\n",
    "        self.gender = \"Male\" #default gender is Male\n",
    "        self.first_name = first_name #additional attribute\n",
    "        self.second_name = second_name #additional attribute"
   ]
  },
  {
   "cell_type": "code",
   "execution_count": 65,
   "metadata": {},
   "outputs": [],
   "source": [
    "person1 = Man(\"James\", \"Cook\")"
   ]
  },
  {
   "cell_type": "code",
   "execution_count": 32,
   "metadata": {},
   "outputs": [
    {
     "data": {
      "text/plain": [
       "'Male'"
      ]
     },
     "execution_count": 32,
     "metadata": {},
     "output_type": "execute_result"
    }
   ],
   "source": [
    "person1.gender"
   ]
  },
  {
   "cell_type": "code",
   "execution_count": 33,
   "metadata": {
    "scrolled": true
   },
   "outputs": [
    {
     "data": {
      "text/plain": [
       "'James'"
      ]
     },
     "execution_count": 33,
     "metadata": {},
     "output_type": "execute_result"
    }
   ],
   "source": [
    "person1.first_name"
   ]
  },
  {
   "cell_type": "code",
   "execution_count": 34,
   "metadata": {},
   "outputs": [
    {
     "data": {
      "text/plain": [
       "'Cook'"
      ]
     },
     "execution_count": 34,
     "metadata": {},
     "output_type": "execute_result"
    }
   ],
   "source": [
    "person1.second_name"
   ]
  },
  {
   "cell_type": "markdown",
   "metadata": {},
   "source": [
    "The special method \\__str__(self) can be defined to override how the object is displayed when\n",
    "printed. \n",
    "Let's look at Man class to see how it looks by default"
   ]
  },
  {
   "cell_type": "code",
   "execution_count": 35,
   "metadata": {
    "scrolled": true
   },
   "outputs": [
    {
     "name": "stdout",
     "output_type": "stream",
     "text": [
      "<__main__.Man object at 0x0000021D524F4788>\n"
     ]
    }
   ],
   "source": [
    "print(person1) #looks not very meaningful"
   ]
  },
  {
   "cell_type": "markdown",
   "metadata": {},
   "source": [
    "Let's use \\__str__(self) method to change how it prints by defauly"
   ]
  },
  {
   "cell_type": "code",
   "execution_count": 87,
   "metadata": {},
   "outputs": [],
   "source": [
    "class Man:\n",
    "    def __init__(self, first_name, second_name):\n",
    "        self.gender = \"Male\" #default gender is Male\n",
    "        self.first_name = first_name #additional argument\n",
    "        self.second_name = second_name #additional argument\n",
    "    \n",
    "    def __str__(self):\n",
    "        return 'This is an object with gender {}'.format(self.gender) "
   ]
  },
  {
   "cell_type": "code",
   "execution_count": 88,
   "metadata": {},
   "outputs": [],
   "source": [
    "person1 = Man(\"James\", \"Cook\")"
   ]
  },
  {
   "cell_type": "code",
   "execution_count": 89,
   "metadata": {
    "scrolled": false
   },
   "outputs": [
    {
     "name": "stdout",
     "output_type": "stream",
     "text": [
      "This is an object with gender Male\n"
     ]
    }
   ],
   "source": [
    "print(person1) #The defualt looks of the class is a more meaningful output"
   ]
  },
  {
   "cell_type": "markdown",
   "metadata": {},
   "source": [
    "## Examples\n",
    "As an example, a Publication class has its own attributes that defines what is a Publication object. Title of the publication, the name of the author, the year of the publication (default), the publisher, max number of allowed pages, the number of pages are all attributes of a Publication."
   ]
  },
  {
   "cell_type": "code",
   "execution_count": 68,
   "metadata": {},
   "outputs": [],
   "source": [
    "class Publication:\n",
    "    def __init__(self, title, author, year, publisher, number_of_pages):\n",
    "        self.title = title\n",
    "        self.author = author\n",
    "        self.year = year\n",
    "        self.publisher = publisher\n",
    "        self.number_of_pages = number_of_pages\n",
    "        self.max_allowed_pages = 300 #default attribute\n",
    "\n",
    "    def __str__(self):\n",
    "        return '{} by {}, {}'.format(self.title, self.author, self.year)"
   ]
  },
  {
   "cell_type": "markdown",
   "metadata": {},
   "source": [
    "Let's create a specific object out of this class."
   ]
  },
  {
   "cell_type": "code",
   "execution_count": 69,
   "metadata": {},
   "outputs": [
    {
     "name": "stdout",
     "output_type": "stream",
     "text": [
      "Transit by Anna Seghers, 1951\n"
     ]
    }
   ],
   "source": [
    "my_book = Publication('Transit', 'Anna Seghers', '1951', 'The New York Review of Books', '257')\n",
    "\n",
    "print(my_book)"
   ]
  },
  {
   "cell_type": "markdown",
   "metadata": {},
   "source": [
    "*We pass along all the attributes into Publication class and create a new object.<br/> \n",
    "\n",
    "*How to access the values of the attributes?\n",
    "\n",
    "*Let's try the same method that we tried before: Calling by attribute name."
   ]
  },
  {
   "cell_type": "code",
   "execution_count": 70,
   "metadata": {},
   "outputs": [
    {
     "data": {
      "text/plain": [
       "'257'"
      ]
     },
     "execution_count": 70,
     "metadata": {},
     "output_type": "execute_result"
    }
   ],
   "source": [
    "my_book.number_of_pages"
   ]
  },
  {
   "cell_type": "code",
   "execution_count": 71,
   "metadata": {
    "scrolled": true
   },
   "outputs": [
    {
     "data": {
      "text/plain": [
       "'The New York Review of Books'"
      ]
     },
     "execution_count": 71,
     "metadata": {},
     "output_type": "execute_result"
    }
   ],
   "source": [
    "my_book.publisher"
   ]
  },
  {
   "cell_type": "markdown",
   "metadata": {},
   "source": [
    "*As a more preferred method, we can call functions inside the class. These methods are attached to the object once the object is created.\n",
    "\n",
    "*We call these functions methods. They are responsible for identifying the underlying object's behaviors ant other things."
   ]
  },
  {
   "cell_type": "markdown",
   "metadata": {},
   "source": [
    "Let's implement some methods inside the class."
   ]
  },
  {
   "cell_type": "code",
   "execution_count": 82,
   "metadata": {},
   "outputs": [],
   "source": [
    "class Publication:\n",
    "    def __init__(self, title, author, year, publisher, number_of_pages):\n",
    "        self.title = title\n",
    "        self.author = author\n",
    "        self.year = year\n",
    "        self.publisher = publisher\n",
    "        self.number_of_pages = number_of_pages\n",
    "        self.max_allowed_pages = 300 #default attribute\n",
    "\n",
    "    def get_year_of_publication(self): #a getter function, which is a method\n",
    "        return self.year\n",
    "    \n",
    "    def get_max_allowed_pages(self): #another getter function, which is a method\n",
    "        return self.max_allowed_pages\n",
    "\n",
    "    def __str__(self):\n",
    "        return '{} by {}, {}'.format(self.title, self.author, self.year)"
   ]
  },
  {
   "cell_type": "code",
   "execution_count": 83,
   "metadata": {},
   "outputs": [],
   "source": [
    "my_book = Publication('Transit', 'Anna Seghers', '1951', 'The New York Review of Books', '257')"
   ]
  },
  {
   "cell_type": "code",
   "execution_count": 84,
   "metadata": {
    "scrolled": true
   },
   "outputs": [
    {
     "data": {
      "text/plain": [
       "'1951'"
      ]
     },
     "execution_count": 84,
     "metadata": {},
     "output_type": "execute_result"
    }
   ],
   "source": [
    "my_book.get_year_of_publication() #we get the publication year information via calling a method"
   ]
  },
  {
   "cell_type": "code",
   "execution_count": 85,
   "metadata": {},
   "outputs": [
    {
     "data": {
      "text/plain": [
       "300"
      ]
     },
     "execution_count": 85,
     "metadata": {},
     "output_type": "execute_result"
    }
   ],
   "source": [
    "my_book.get_max_allowed_pages()"
   ]
  },
  {
   "cell_type": "markdown",
   "metadata": {},
   "source": [
    "*We get the publication year information via calling a method. This type of methods within a class are called \"getters\".  \n",
    "\n",
    "*Another method that we can define in a class are so-called \"setter\"."
   ]
  },
  {
   "cell_type": "code",
   "execution_count": 81,
   "metadata": {},
   "outputs": [],
   "source": [
    "class Publication:\n",
    "    def __init__(self, title, author, year, publisher, number_of_pages):\n",
    "        self.title = title\n",
    "        self.author = author\n",
    "        self.year = year\n",
    "        self.publisher = publisher\n",
    "        self.number_of_pages = number_of_pages\n",
    "        self.max_allowed_pages = 300 #default attribute\n",
    "    \n",
    "    def set_year_of_publication(self, nmbr): #a setter function, which is a method in this class.\n",
    "            self.year = nmbr\n",
    "            \n",
    "    def get_year_of_publication(self): #a getter function, which is a method in this class. \n",
    "        return self.year\n",
    "\n",
    "    def __str__(self):\n",
    "        return '{} by {}, {}'.format(self.title, self.author, self.year)"
   ]
  },
  {
   "cell_type": "code",
   "execution_count": 91,
   "metadata": {},
   "outputs": [],
   "source": [
    "my_book = Publication('Transit', 'Anna Seghers', '1951', 'The New York Review of Books', '257')"
   ]
  },
  {
   "cell_type": "code",
   "execution_count": 92,
   "metadata": {},
   "outputs": [],
   "source": [
    "my_book.set_year_of_publication('1951a')"
   ]
  },
  {
   "cell_type": "code",
   "execution_count": 93,
   "metadata": {
    "scrolled": true
   },
   "outputs": [
    {
     "data": {
      "text/plain": [
       "'1951a'"
      ]
     },
     "execution_count": 93,
     "metadata": {},
     "output_type": "execute_result"
    }
   ],
   "source": [
    "my_book.get_year_of_publication()"
   ]
  },
  {
   "cell_type": "code",
   "execution_count": 123,
   "metadata": {},
   "outputs": [
    {
     "data": {
      "text/plain": [
       "<bound method Publication.get_year_of_publication of <__main__.Publication object at 0x0000021D51DB7148>>"
      ]
     },
     "execution_count": 123,
     "metadata": {},
     "output_type": "execute_result"
    }
   ],
   "source": [
    "my_book.get_year_of_publication"
   ]
  },
  {
   "cell_type": "markdown",
   "metadata": {},
   "source": [
    "We can also define any method that helps define the object."
   ]
  },
  {
   "cell_type": "code",
   "execution_count": 118,
   "metadata": {},
   "outputs": [],
   "source": [
    "class Publication:\n",
    "    def __init__(self, title, author, year, publisher, number_of_pages):\n",
    "        self.title = title\n",
    "        self.author = author\n",
    "        self.year = year\n",
    "        self.publisher = publisher\n",
    "        self.number_of_pages = number_of_pages\n",
    "        self.max_allowed_pages = 300 #default attribute\n",
    "    \n",
    "    def set_year_of_publication(self, nmbr): #a setter function, which is a method in this class.\n",
    "            self.year = nmbr\n",
    "            \n",
    "    def get_year_of_publication(self): #a getter function, which is a method in this class. \n",
    "        return self.year\n",
    "    \n",
    "    def plot(self):\n",
    "        print('The novel takes place in France after the German invasion. The twenty-seven year old unnamed narrator has escaped from a Nazi concentration camp. Along the way to Marseilles, he meets one of his friends, Paul. Paul then asks the narrator to deliver a letter to a writer named Weidel in Paris. When the narrator goes to deliver the letter, he finds out that Weidel has committed suicide. The narrator also finds that Weidel left behind a suitcase full of letters and an unfinished manuscript for a novel.')\n",
    "\n",
    "    def __str__(self):\n",
    "        return '{} by {}, {}'.format(self.title, self.author, self.year)"
   ]
  },
  {
   "cell_type": "code",
   "execution_count": 119,
   "metadata": {},
   "outputs": [],
   "source": [
    "my_book = Publication('Transit', 'Anna Seghers', '1951', 'The New York Review of Books', '257')"
   ]
  },
  {
   "cell_type": "code",
   "execution_count": 95,
   "metadata": {
    "scrolled": true
   },
   "outputs": [
    {
     "name": "stdout",
     "output_type": "stream",
     "text": [
      "The novel takes place in France after the German invasion. The twenty-seven year old unnamed narrator has escaped from a Nazi concentration camp. Along the way to Marseilles, he meets one of his friends, Paul. Paul then asks the narrator to deliver a letter to a writer named Weidel in Paris. When the narrator goes to deliver the letter, he finds out that Weidel has committed suicide. The narrator also finds that Weidel left behind a suitcase full of letters and an unfinished manuscript for a novel.\n"
     ]
    }
   ],
   "source": [
    "my_book.plot()"
   ]
  },
  {
   "cell_type": "markdown",
   "metadata": {},
   "source": [
    "In Python, we can define getters and setter by using @property (decorators)."
   ]
  },
  {
   "cell_type": "code",
   "execution_count": 124,
   "metadata": {},
   "outputs": [],
   "source": [
    "class Publication:\n",
    "    def __init__(self, title, author, year, publisher, number_of_pages):\n",
    "        self.title = title\n",
    "        self.author = author\n",
    "        self.year = year\n",
    "        self.publisher = publisher\n",
    "        self.number_of_pages = number_of_pages\n",
    "        self.max_allowed_pages = 300 #default attribute\n",
    "    \n",
    "    @property #how we define a getter. Always define a getter before a setter function.\n",
    "    def year(self): #a getter function, which is a method in this class. \n",
    "        return self.__year\n",
    "    \n",
    "    @year.setter #how we define a setter\n",
    "    def year(self, nmbr): #a setter function, which is a method in this class.\n",
    "        self.__year = nmbr #no \"return\" is necessary\n",
    "    \n",
    "    def plot(self):\n",
    "        print('The novel takes place in France after the German invasion. The twenty-seven year old unnamed narrator has escaped from a Nazi concentration camp. Along the way to Marseilles, he meets one of his friends, Paul. Paul then asks the narrator to deliver a letter to a writer named Weidel in Paris. When the narrator goes to deliver the letter, he finds out that Weidel has committed suicide. The narrator also finds that Weidel left behind a suitcase full of letters and an unfinished manuscript for a novel.')\n",
    "\n",
    "    def __str__(self):\n",
    "        return '{} by {}, {}'.format(self.title, self.author, self.year)"
   ]
  },
  {
   "cell_type": "code",
   "execution_count": 125,
   "metadata": {},
   "outputs": [],
   "source": [
    "my_book = Publication('Transit', 'Anna Seghers', '1951', 'The New York Review of Books', '257')"
   ]
  },
  {
   "cell_type": "code",
   "execution_count": 126,
   "metadata": {
    "scrolled": true
   },
   "outputs": [
    {
     "data": {
      "text/plain": [
       "'1951'"
      ]
     },
     "execution_count": 126,
     "metadata": {},
     "output_type": "execute_result"
    }
   ],
   "source": [
    "my_book.year"
   ]
  },
  {
   "cell_type": "code",
   "execution_count": 127,
   "metadata": {},
   "outputs": [],
   "source": [
    "my_book.year  = 1912"
   ]
  },
  {
   "cell_type": "code",
   "execution_count": 109,
   "metadata": {},
   "outputs": [
    {
     "data": {
      "text/plain": [
       "1912"
      ]
     },
     "execution_count": 109,
     "metadata": {},
     "output_type": "execute_result"
    }
   ],
   "source": [
    "my_book.year"
   ]
  },
  {
   "cell_type": "code",
   "execution_count": 130,
   "metadata": {
    "scrolled": false
   },
   "outputs": [
    {
     "ename": "TypeError",
     "evalue": "'int' object is not callable",
     "output_type": "error",
     "traceback": [
      "\u001b[1;31m---------------------------------------------------------------------------\u001b[0m",
      "\u001b[1;31mTypeError\u001b[0m                                 Traceback (most recent call last)",
      "\u001b[1;32m<ipython-input-130-ba79059ac976>\u001b[0m in \u001b[0;36m<module>\u001b[1;34m\u001b[0m\n\u001b[1;32m----> 1\u001b[1;33m \u001b[0mmy_book\u001b[0m\u001b[1;33m.\u001b[0m\u001b[0myear\u001b[0m\u001b[1;33m(\u001b[0m\u001b[1;36m1912\u001b[0m\u001b[1;33m)\u001b[0m\u001b[1;33m\u001b[0m\u001b[1;33m\u001b[0m\u001b[0m\n\u001b[0m",
      "\u001b[1;31mTypeError\u001b[0m: 'int' object is not callable"
     ]
    }
   ],
   "source": [
    "my_book.year(1912)"
   ]
  },
  {
   "cell_type": "markdown",
   "metadata": {},
   "source": [
    "## Inheritance\n",
    "\n",
    "We can build other classes (child) based on previously created classes (parent). We prefer to do so, when multiple classes share the common functionality but still different in some way. \n",
    "\n",
    "A child class inherits all attributes and methods from a parent class. \n",
    "\n",
    "To illustrate Inheritance concept, we will regard Publication class as our parent class. We will create two child classes named Books and Articles which inherit all attributes and methods from Publication class. Both would have a title and an author."
   ]
  },
  {
   "cell_type": "markdown",
   "metadata": {},
   "source": [
    "### Examples"
   ]
  },
  {
   "cell_type": "markdown",
   "metadata": {},
   "source": [
    "Parent Class: Publication"
   ]
  },
  {
   "cell_type": "code",
   "execution_count": 1,
   "metadata": {},
   "outputs": [],
   "source": [
    "class Publication:\n",
    "    def __init__(self, title, author, year, publisher, number_of_pages):\n",
    "        self.title = title\n",
    "        self.author = author\n",
    "        self.year = year\n",
    "        self.publisher = publisher\n",
    "        self.number_of_pages = number_of_pages\n",
    "        self.max_allowed_pages = 300 #default attribute\n",
    "    \n",
    "    def what_class_is_this(self):\n",
    "        print('This is a Publication class.')\n",
    "\n",
    "    \n",
    "    @property #how we define a getter. Always define a getter before a setter function.\n",
    "    def year(self): #a getter function, which is a method in this class. \n",
    "        return self.__year\n",
    "    \n",
    "    @year.setter #how we define a setter\n",
    "    def year(self, nmbr): #a setter function, which is a method in this class.\n",
    "        self.__year = nmbr #no \"return\" is necessary\n",
    "    \n",
    "    def __str__(self):\n",
    "        return '{} by {}, {}'.format(self.title, self.author, self.year)"
   ]
  },
  {
   "cell_type": "markdown",
   "metadata": {},
   "source": [
    "A Child Class: Article"
   ]
  },
  {
   "cell_type": "code",
   "execution_count": 2,
   "metadata": {},
   "outputs": [],
   "source": [
    "class Article(Publication):\n",
    "    def __init__(self, title, author, year, publisher, number_of_pages, number_of_citations): #we can add additional attributes\n",
    "        Publication.__init__(self, title, author, year, publisher, number_of_pages)\n",
    "        self.number_of_citations = number_of_citations #that's how we create additional constructor. \n",
    "    \n",
    "    #we can create additional methods in Article class\n",
    "    def define_this_more(self):\n",
    "        print('This is a scientific publication.')"
   ]
  },
  {
   "cell_type": "code",
   "execution_count": 3,
   "metadata": {},
   "outputs": [],
   "source": [
    "my_article = Article('Random Forests', 'Leo Breiman', '2001',  'Springer', '28', '34144')"
   ]
  },
  {
   "cell_type": "code",
   "execution_count": 4,
   "metadata": {},
   "outputs": [
    {
     "name": "stdout",
     "output_type": "stream",
     "text": [
      "Random Forests by Leo Breiman, 2001\n"
     ]
    }
   ],
   "source": [
    "print(my_article) #This method is inherited from parent class. "
   ]
  },
  {
   "cell_type": "code",
   "execution_count": 5,
   "metadata": {
    "scrolled": false
   },
   "outputs": [
    {
     "name": "stdout",
     "output_type": "stream",
     "text": [
      "This is a Publication class.\n"
     ]
    }
   ],
   "source": [
    "my_article.what_class_is_this() #this method is inherited from parent class"
   ]
  },
  {
   "cell_type": "code",
   "execution_count": 6,
   "metadata": {},
   "outputs": [
    {
     "name": "stdout",
     "output_type": "stream",
     "text": [
      "This is a scientific publication.\n"
     ]
    }
   ],
   "source": [
    "my_article.define_this_more()"
   ]
  },
  {
   "cell_type": "code",
   "execution_count": null,
   "metadata": {},
   "outputs": [],
   "source": []
  },
  {
   "cell_type": "markdown",
   "metadata": {},
   "source": [
    "Another Child Class: Book"
   ]
  },
  {
   "cell_type": "code",
   "execution_count": 7,
   "metadata": {},
   "outputs": [],
   "source": [
    "class Book(Publication):\n",
    "    def __init__(self, title, author, year, publisher, number_of_pages, chapters): #we can add additional attributes\n",
    "        Publication.__init__(self, title, author, year, publisher, number_of_pages)\n",
    "        self.chapters = chapters #that's how we create additional constructor. \n",
    "    \n",
    "    #this is an override method in Book class.\n",
    "    def __str__(self):\n",
    "        return '{} by {}, {}. This book has {} chapters.'.format(self.title, self.author, self.year, self.chapters)"
   ]
  },
  {
   "cell_type": "code",
   "execution_count": 8,
   "metadata": {},
   "outputs": [],
   "source": [
    "book3 = Book('Transit', 'Anna Seghers', '1951', 'NYRB', '257', '10')"
   ]
  },
  {
   "cell_type": "code",
   "execution_count": 9,
   "metadata": {
    "scrolled": false
   },
   "outputs": [
    {
     "name": "stdout",
     "output_type": "stream",
     "text": [
      "Transit by Anna Seghers, 1951. This book has 10 chapters.\n"
     ]
    }
   ],
   "source": [
    "print(book3)"
   ]
  },
  {
   "cell_type": "code",
   "execution_count": 10,
   "metadata": {
    "scrolled": false
   },
   "outputs": [
    {
     "name": "stdout",
     "output_type": "stream",
     "text": [
      "This is a Publication class.\n"
     ]
    }
   ],
   "source": [
    "book3.what_class_is_this() #call a method from parent class"
   ]
  },
  {
   "cell_type": "code",
   "execution_count": 11,
   "metadata": {},
   "outputs": [],
   "source": [
    "book3.year = '1951a' #we can call setters of parent class as well"
   ]
  },
  {
   "cell_type": "code",
   "execution_count": 35,
   "metadata": {
    "scrolled": true
   },
   "outputs": [
    {
     "data": {
      "text/plain": [
       "1900"
      ]
     },
     "execution_count": 35,
     "metadata": {},
     "output_type": "execute_result"
    }
   ],
   "source": [
    "book3.year #we can call getters of parent class as well"
   ]
  },
  {
   "cell_type": "code",
   "execution_count": 34,
   "metadata": {},
   "outputs": [],
   "source": [
    "book3._Publication__year = 1900 # I can set it this way too - still confused on the double_underscore..."
   ]
  },
  {
   "cell_type": "code",
   "execution_count": 17,
   "metadata": {},
   "outputs": [
    {
     "data": {
      "text/plain": [
       "['_Publication__year',\n",
       " '__class__',\n",
       " '__delattr__',\n",
       " '__dict__',\n",
       " '__dir__',\n",
       " '__doc__',\n",
       " '__eq__',\n",
       " '__format__',\n",
       " '__ge__',\n",
       " '__getattribute__',\n",
       " '__gt__',\n",
       " '__hash__',\n",
       " '__init__',\n",
       " '__init_subclass__',\n",
       " '__le__',\n",
       " '__lt__',\n",
       " '__module__',\n",
       " '__ne__',\n",
       " '__new__',\n",
       " '__reduce__',\n",
       " '__reduce_ex__',\n",
       " '__repr__',\n",
       " '__setattr__',\n",
       " '__sizeof__',\n",
       " '__str__',\n",
       " '__subclasshook__',\n",
       " '__weakref__',\n",
       " 'author',\n",
       " 'chapters',\n",
       " 'max_allowed_pages',\n",
       " 'number_of_pages',\n",
       " 'publisher',\n",
       " 'title',\n",
       " 'what_class_is_this',\n",
       " 'year']"
      ]
     },
     "execution_count": 17,
     "metadata": {},
     "output_type": "execute_result"
    }
   ],
   "source": [
    "dir(book3)"
   ]
  },
  {
   "cell_type": "markdown",
   "metadata": {},
   "source": [
    "## Public and  Non-public Methods"
   ]
  },
  {
   "cell_type": "markdown",
   "metadata": {},
   "source": [
    "A simple example."
   ]
  },
  {
   "cell_type": "code",
   "execution_count": 18,
   "metadata": {},
   "outputs": [],
   "source": [
    "class My_class:  \n",
    "    \n",
    "    def function_1(self):\n",
    "        print(\"This is public method\") \n",
    "   \n",
    "    def __function_2(self): #define it with doublescore\n",
    "        print(\"This is a private method \") \n",
    "      \n",
    "    def function_1_2(self): \n",
    "        self.function_1() \n",
    "        self.__function_2() \n"
   ]
  },
  {
   "cell_type": "code",
   "execution_count": 20,
   "metadata": {},
   "outputs": [],
   "source": [
    "my_object = My_class()"
   ]
  },
  {
   "cell_type": "code",
   "execution_count": 21,
   "metadata": {},
   "outputs": [
    {
     "name": "stdout",
     "output_type": "stream",
     "text": [
      "This is public method\n"
     ]
    }
   ],
   "source": [
    "my_object.function_1() #this is a public method. so we can call it outside of the class"
   ]
  },
  {
   "cell_type": "code",
   "execution_count": 22,
   "metadata": {
    "scrolled": false
   },
   "outputs": [
    {
     "ename": "AttributeError",
     "evalue": "'My_class' object has no attribute '__function_2'",
     "output_type": "error",
     "traceback": [
      "\u001b[1;31m---------------------------------------------------------------------------\u001b[0m",
      "\u001b[1;31mAttributeError\u001b[0m                            Traceback (most recent call last)",
      "\u001b[1;32m<ipython-input-22-c6768389397c>\u001b[0m in \u001b[0;36m<module>\u001b[1;34m\u001b[0m\n\u001b[1;32m----> 1\u001b[1;33m \u001b[0mmy_object\u001b[0m\u001b[1;33m.\u001b[0m\u001b[0m__function_2\u001b[0m\u001b[1;33m(\u001b[0m\u001b[1;33m)\u001b[0m \u001b[1;31m#throws an error, because it is not callable outside of the class.\u001b[0m\u001b[1;33m\u001b[0m\u001b[1;33m\u001b[0m\u001b[0m\n\u001b[0m",
      "\u001b[1;31mAttributeError\u001b[0m: 'My_class' object has no attribute '__function_2'"
     ]
    }
   ],
   "source": [
    "my_object.__function_2() #throws an error, because it is not callable outside of the class."
   ]
  },
  {
   "cell_type": "code",
   "execution_count": 26,
   "metadata": {
    "scrolled": false
   },
   "outputs": [
    {
     "name": "stdout",
     "output_type": "stream",
     "text": [
      "This is a private method \n"
     ]
    }
   ],
   "source": [
    "my_object._My_class__function_2() # but can actually access it this way too!!!"
   ]
  },
  {
   "cell_type": "code",
   "execution_count": 19,
   "metadata": {},
   "outputs": [
    {
     "data": {
      "text/plain": [
       "['_My_class__function_2',\n",
       " '__class__',\n",
       " '__delattr__',\n",
       " '__dict__',\n",
       " '__dir__',\n",
       " '__doc__',\n",
       " '__eq__',\n",
       " '__format__',\n",
       " '__ge__',\n",
       " '__getattribute__',\n",
       " '__gt__',\n",
       " '__hash__',\n",
       " '__init__',\n",
       " '__init_subclass__',\n",
       " '__le__',\n",
       " '__lt__',\n",
       " '__module__',\n",
       " '__ne__',\n",
       " '__new__',\n",
       " '__reduce__',\n",
       " '__reduce_ex__',\n",
       " '__repr__',\n",
       " '__setattr__',\n",
       " '__sizeof__',\n",
       " '__str__',\n",
       " '__subclasshook__',\n",
       " '__weakref__',\n",
       " 'function_1',\n",
       " 'function_1_2']"
      ]
     },
     "execution_count": 19,
     "metadata": {},
     "output_type": "execute_result"
    }
   ],
   "source": [
    "dir(My_class)"
   ]
  },
  {
   "cell_type": "code",
   "execution_count": 244,
   "metadata": {},
   "outputs": [
    {
     "name": "stdout",
     "output_type": "stream",
     "text": [
      "This is public method\n",
      "This is a private method \n"
     ]
    }
   ],
   "source": [
    "my_object.function_1_2() #__function_2 can be reachable from class itself only"
   ]
  },
  {
   "cell_type": "markdown",
   "metadata": {},
   "source": [
    "Non-public methods cannot be reached out from inheriting classes, either."
   ]
  },
  {
   "cell_type": "code",
   "execution_count": 251,
   "metadata": {},
   "outputs": [],
   "source": [
    "class My_child_class(My_class):\n",
    "    def function_1_2_3(self):\n",
    "        self.__function_2() "
   ]
  },
  {
   "cell_type": "code",
   "execution_count": 252,
   "metadata": {},
   "outputs": [],
   "source": [
    "my_new_object = My_child_class()"
   ]
  },
  {
   "cell_type": "code",
   "execution_count": 254,
   "metadata": {},
   "outputs": [
    {
     "name": "stdout",
     "output_type": "stream",
     "text": [
      "This is public method\n",
      "This is a private method \n"
     ]
    }
   ],
   "source": [
    "my_new_object.function_1_2() #we can have access those non-public methods from parents class"
   ]
  },
  {
   "cell_type": "code",
   "execution_count": 255,
   "metadata": {
    "scrolled": true
   },
   "outputs": [
    {
     "ename": "AttributeError",
     "evalue": "'My_child_class' object has no attribute '_My_child_class__function_2'",
     "output_type": "error",
     "traceback": [
      "\u001b[1;31m---------------------------------------------------------------------------\u001b[0m",
      "\u001b[1;31mAttributeError\u001b[0m                            Traceback (most recent call last)",
      "\u001b[1;32m<ipython-input-255-b246d03c70a4>\u001b[0m in \u001b[0;36m<module>\u001b[1;34m\u001b[0m\n\u001b[1;32m----> 1\u001b[1;33m \u001b[0mmy_new_object\u001b[0m\u001b[1;33m.\u001b[0m\u001b[0mfunction_1_2_3\u001b[0m\u001b[1;33m(\u001b[0m\u001b[1;33m)\u001b[0m\u001b[1;33m\u001b[0m\u001b[1;33m\u001b[0m\u001b[0m\n\u001b[0m",
      "\u001b[1;32m<ipython-input-251-7ea85208b2e5>\u001b[0m in \u001b[0;36mfunction_1_2_3\u001b[1;34m(self)\u001b[0m\n\u001b[0;32m      1\u001b[0m \u001b[1;32mclass\u001b[0m \u001b[0mMy_child_class\u001b[0m\u001b[1;33m(\u001b[0m\u001b[0mMy_class\u001b[0m\u001b[1;33m)\u001b[0m\u001b[1;33m:\u001b[0m\u001b[1;33m\u001b[0m\u001b[1;33m\u001b[0m\u001b[0m\n\u001b[0;32m      2\u001b[0m     \u001b[1;32mdef\u001b[0m \u001b[0mfunction_1_2_3\u001b[0m\u001b[1;33m(\u001b[0m\u001b[0mself\u001b[0m\u001b[1;33m)\u001b[0m\u001b[1;33m:\u001b[0m\u001b[1;33m\u001b[0m\u001b[1;33m\u001b[0m\u001b[0m\n\u001b[1;32m----> 3\u001b[1;33m         \u001b[0mself\u001b[0m\u001b[1;33m.\u001b[0m\u001b[0m__function_2\u001b[0m\u001b[1;33m(\u001b[0m\u001b[1;33m)\u001b[0m\u001b[1;33m\u001b[0m\u001b[1;33m\u001b[0m\u001b[0m\n\u001b[0m",
      "\u001b[1;31mAttributeError\u001b[0m: 'My_child_class' object has no attribute '_My_child_class__function_2'"
     ]
    }
   ],
   "source": [
    "my_new_object.function_1_2_3() #trying to have access a non-public function defined inside private class from child class."
   ]
  }
 ],
 "metadata": {
  "kernelspec": {
   "display_name": "Python 3",
   "language": "python",
   "name": "python3"
  },
  "language_info": {
   "codemirror_mode": {
    "name": "ipython",
    "version": 3
   },
   "file_extension": ".py",
   "mimetype": "text/x-python",
   "name": "python",
   "nbconvert_exporter": "python",
   "pygments_lexer": "ipython3",
   "version": "3.7.7"
  }
 },
 "nbformat": 4,
 "nbformat_minor": 4
}
